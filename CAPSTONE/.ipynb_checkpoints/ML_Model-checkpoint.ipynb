{
 "cells": [
  {
   "cell_type": "markdown",
   "metadata": {},
   "source": [
    "Importing the necessary Python libraries"
   ]
  },
  {
   "cell_type": "markdown",
   "metadata": {},
   "source": [
    "# Import Necessary Libraries"
   ]
  },
  {
   "cell_type": "code",
   "execution_count": 1,
   "metadata": {},
   "outputs": [],
   "source": [
    "import pandas as pd\n",
    "import numpy as np\n",
    "from pandas import DataFrame\n",
    "import matplotlib.pyplot as plt\n",
    "from scipy import stats\n",
    "import seaborn as sns"
   ]
  },
  {
   "cell_type": "markdown",
   "metadata": {},
   "source": [
    "# Data Loading"
   ]
  },
  {
   "cell_type": "code",
   "execution_count": 2,
   "metadata": {},
   "outputs": [],
   "source": [
    "train = pd.read_csv(\"cs-training.csv\", index_col = 0)\n",
    "test = pd.read_csv(\"cs-test.csv\", index_col = 0)"
   ]
  },
  {
   "cell_type": "code",
   "execution_count": 3,
   "metadata": {},
   "outputs": [
    {
     "name": "stdout",
     "output_type": "stream",
     "text": [
      "   SeriousDlqin2yrs  RevolvingUtilizationOfUnsecuredLines  age  \\\n",
      "1                 1                              0.766127   45   \n",
      "2                 0                              0.957151   40   \n",
      "3                 0                              0.658180   38   \n",
      "4                 0                              0.233810   30   \n",
      "5                 0                              0.907239   49   \n",
      "\n",
      "   NumberOfTime30-59DaysPastDueNotWorse  DebtRatio  MonthlyIncome  \\\n",
      "1                                     2   0.802982         9120.0   \n",
      "2                                     0   0.121876         2600.0   \n",
      "3                                     1   0.085113         3042.0   \n",
      "4                                     0   0.036050         3300.0   \n",
      "5                                     1   0.024926        63588.0   \n",
      "\n",
      "   NumberOfOpenCreditLinesAndLoans  NumberOfTimes90DaysLate  \\\n",
      "1                               13                        0   \n",
      "2                                4                        0   \n",
      "3                                2                        1   \n",
      "4                                5                        0   \n",
      "5                                7                        0   \n",
      "\n",
      "   NumberRealEstateLoansOrLines  NumberOfTime60-89DaysPastDueNotWorse  \\\n",
      "1                             6                                     0   \n",
      "2                             0                                     0   \n",
      "3                             0                                     0   \n",
      "4                             0                                     0   \n",
      "5                             1                                     0   \n",
      "\n",
      "   NumberOfDependents  \n",
      "1                 2.0  \n",
      "2                 1.0  \n",
      "3                 0.0  \n",
      "4                 0.0  \n",
      "5                 0.0  \n"
     ]
    }
   ],
   "source": [
    "print(train.head())"
   ]
  },
  {
   "cell_type": "code",
   "execution_count": 4,
   "metadata": {},
   "outputs": [
    {
     "name": "stdout",
     "output_type": "stream",
     "text": [
      "   SeriousDlqin2yrs  RevolvingUtilizationOfUnsecuredLines  age  \\\n",
      "1               NaN                              0.885519   43   \n",
      "2               NaN                              0.463295   57   \n",
      "3               NaN                              0.043275   59   \n",
      "4               NaN                              0.280308   38   \n",
      "5               NaN                              1.000000   27   \n",
      "\n",
      "   NumberOfTime30-59DaysPastDueNotWorse  DebtRatio  MonthlyIncome  \\\n",
      "1                                     0   0.177513         5700.0   \n",
      "2                                     0   0.527237         9141.0   \n",
      "3                                     0   0.687648         5083.0   \n",
      "4                                     1   0.925961         3200.0   \n",
      "5                                     0   0.019917         3865.0   \n",
      "\n",
      "   NumberOfOpenCreditLinesAndLoans  NumberOfTimes90DaysLate  \\\n",
      "1                                4                        0   \n",
      "2                               15                        0   \n",
      "3                               12                        0   \n",
      "4                                7                        0   \n",
      "5                                4                        0   \n",
      "\n",
      "   NumberRealEstateLoansOrLines  NumberOfTime60-89DaysPastDueNotWorse  \\\n",
      "1                             0                                     0   \n",
      "2                             4                                     0   \n",
      "3                             1                                     0   \n",
      "4                             2                                     0   \n",
      "5                             0                                     0   \n",
      "\n",
      "   NumberOfDependents  \n",
      "1                 0.0  \n",
      "2                 2.0  \n",
      "3                 2.0  \n",
      "4                 0.0  \n",
      "5                 1.0  \n"
     ]
    }
   ],
   "source": [
    "print(test.head())"
   ]
  },
  {
   "cell_type": "code",
   "execution_count": 5,
   "metadata": {
    "scrolled": true
   },
   "outputs": [
    {
     "name": "stdout",
     "output_type": "stream",
     "text": [
      "       SeriousDlqin2yrs  RevolvingUtilizationOfUnsecuredLines            age  \\\n",
      "count     150000.000000                         150000.000000  150000.000000   \n",
      "mean           0.066840                              6.048438      52.295207   \n",
      "std            0.249746                            249.755371      14.771866   \n",
      "min            0.000000                              0.000000       0.000000   \n",
      "25%            0.000000                              0.029867      41.000000   \n",
      "50%            0.000000                              0.154181      52.000000   \n",
      "75%            0.000000                              0.559046      63.000000   \n",
      "max            1.000000                          50708.000000     109.000000   \n",
      "\n",
      "       NumberOfTime30-59DaysPastDueNotWorse      DebtRatio  MonthlyIncome  \\\n",
      "count                         150000.000000  150000.000000   1.202690e+05   \n",
      "mean                               0.421033     353.005076   6.670221e+03   \n",
      "std                                4.192781    2037.818523   1.438467e+04   \n",
      "min                                0.000000       0.000000   0.000000e+00   \n",
      "25%                                0.000000       0.175074   3.400000e+03   \n",
      "50%                                0.000000       0.366508   5.400000e+03   \n",
      "75%                                0.000000       0.868254   8.249000e+03   \n",
      "max                               98.000000  329664.000000   3.008750e+06   \n",
      "\n",
      "       NumberOfOpenCreditLinesAndLoans  NumberOfTimes90DaysLate  \\\n",
      "count                    150000.000000            150000.000000   \n",
      "mean                          8.452760                 0.265973   \n",
      "std                           5.145951                 4.169304   \n",
      "min                           0.000000                 0.000000   \n",
      "25%                           5.000000                 0.000000   \n",
      "50%                           8.000000                 0.000000   \n",
      "75%                          11.000000                 0.000000   \n",
      "max                          58.000000                98.000000   \n",
      "\n",
      "       NumberRealEstateLoansOrLines  NumberOfTime60-89DaysPastDueNotWorse  \\\n",
      "count                 150000.000000                         150000.000000   \n",
      "mean                       1.018240                              0.240387   \n",
      "std                        1.129771                              4.155179   \n",
      "min                        0.000000                              0.000000   \n",
      "25%                        0.000000                              0.000000   \n",
      "50%                        1.000000                              0.000000   \n",
      "75%                        2.000000                              0.000000   \n",
      "max                       54.000000                             98.000000   \n",
      "\n",
      "       NumberOfDependents  \n",
      "count       146076.000000  \n",
      "mean             0.757222  \n",
      "std              1.115086  \n",
      "min              0.000000  \n",
      "25%              0.000000  \n",
      "50%              0.000000  \n",
      "75%              1.000000  \n",
      "max             20.000000  \n"
     ]
    }
   ],
   "source": [
    "summary_df = train.describe()\n",
    "print(summary_df)"
   ]
  },
  {
   "cell_type": "code",
   "execution_count": 6,
   "metadata": {},
   "outputs": [
    {
     "name": "stdout",
     "output_type": "stream",
     "text": [
      "<class 'pandas.core.frame.DataFrame'>\n",
      "Int64Index: 150000 entries, 1 to 150000\n",
      "Data columns (total 11 columns):\n",
      "SeriousDlqin2yrs                        150000 non-null int64\n",
      "RevolvingUtilizationOfUnsecuredLines    150000 non-null float64\n",
      "age                                     150000 non-null int64\n",
      "NumberOfTime30-59DaysPastDueNotWorse    150000 non-null int64\n",
      "DebtRatio                               150000 non-null float64\n",
      "MonthlyIncome                           120269 non-null float64\n",
      "NumberOfOpenCreditLinesAndLoans         150000 non-null int64\n",
      "NumberOfTimes90DaysLate                 150000 non-null int64\n",
      "NumberRealEstateLoansOrLines            150000 non-null int64\n",
      "NumberOfTime60-89DaysPastDueNotWorse    150000 non-null int64\n",
      "NumberOfDependents                      146076 non-null float64\n",
      "dtypes: float64(4), int64(7)\n",
      "memory usage: 13.7 MB\n",
      "None\n"
     ]
    }
   ],
   "source": [
    "#print structure of data\n",
    "print(train.info())"
   ]
  },
  {
   "cell_type": "code",
   "execution_count": 7,
   "metadata": {},
   "outputs": [
    {
     "name": "stdout",
     "output_type": "stream",
     "text": [
      "SeriousDlqin2yrs                          int64\n",
      "RevolvingUtilizationOfUnsecuredLines    float64\n",
      "age                                       int64\n",
      "NumberOfTime30-59DaysPastDueNotWorse      int64\n",
      "DebtRatio                               float64\n",
      "MonthlyIncome                           float64\n",
      "NumberOfOpenCreditLinesAndLoans           int64\n",
      "NumberOfTimes90DaysLate                   int64\n",
      "NumberRealEstateLoansOrLines              int64\n",
      "NumberOfTime60-89DaysPastDueNotWorse      int64\n",
      "NumberOfDependents                      float64\n",
      "dtype: object\n"
     ]
    }
   ],
   "source": [
    "print(train.dtypes)"
   ]
  },
  {
   "cell_type": "markdown",
   "metadata": {},
   "source": [
    "# Data Description"
   ]
  },
  {
   "cell_type": "markdown",
   "metadata": {},
   "source": [
    "# Data Understanding"
   ]
  },
  {
   "cell_type": "markdown",
   "metadata": {},
   "source": [
    "# Plan of Attack"
   ]
  },
  {
   "cell_type": "markdown",
   "metadata": {},
   "source": [
    "# Data Cleansing"
   ]
  },
  {
   "cell_type": "markdown",
   "metadata": {},
   "source": [
    "### Remove Whitespace"
   ]
  },
  {
   "cell_type": "code",
   "execution_count": 8,
   "metadata": {},
   "outputs": [],
   "source": [
    "#strip whitespace from entire data frame\n",
    "train = train.apply(lambda x: x.str.strip() if x.dtype == \"object\" else x)"
   ]
  },
  {
   "cell_type": "code",
   "execution_count": 9,
   "metadata": {},
   "outputs": [
    {
     "name": "stdout",
     "output_type": "stream",
     "text": [
      "   SeriousDlqin2yrs  RevolvingUtilizationOfUnsecuredLines  age  \\\n",
      "1                 1                              0.766127   45   \n",
      "2                 0                              0.957151   40   \n",
      "3                 0                              0.658180   38   \n",
      "4                 0                              0.233810   30   \n",
      "5                 0                              0.907239   49   \n",
      "\n",
      "   NumberOfTime30-59DaysPastDueNotWorse  DebtRatio  MonthlyIncome  \\\n",
      "1                                     2   0.802982         9120.0   \n",
      "2                                     0   0.121876         2600.0   \n",
      "3                                     1   0.085113         3042.0   \n",
      "4                                     0   0.036050         3300.0   \n",
      "5                                     1   0.024926        63588.0   \n",
      "\n",
      "   NumberOfOpenCreditLinesAndLoans  NumberOfTimes90DaysLate  \\\n",
      "1                               13                        0   \n",
      "2                                4                        0   \n",
      "3                                2                        1   \n",
      "4                                5                        0   \n",
      "5                                7                        0   \n",
      "\n",
      "   NumberRealEstateLoansOrLines  NumberOfTime60-89DaysPastDueNotWorse  \\\n",
      "1                             6                                     0   \n",
      "2                             0                                     0   \n",
      "3                             0                                     0   \n",
      "4                             0                                     0   \n",
      "5                             1                                     0   \n",
      "\n",
      "   NumberOfDependents  \n",
      "1                 2.0  \n",
      "2                 1.0  \n",
      "3                 0.0  \n",
      "4                 0.0  \n",
      "5                 0.0  \n"
     ]
    }
   ],
   "source": [
    "print(train.head())"
   ]
  },
  {
   "cell_type": "markdown",
   "metadata": {},
   "source": [
    "### NA Values"
   ]
  },
  {
   "cell_type": "markdown",
   "metadata": {},
   "source": [
    "Replace with central tendency metric"
   ]
  },
  {
   "cell_type": "code",
   "execution_count": 10,
   "metadata": {},
   "outputs": [
    {
     "data": {
      "text/plain": [
       "True"
      ]
     },
     "execution_count": 10,
     "metadata": {},
     "output_type": "execute_result"
    }
   ],
   "source": [
    "#are the any NA values?\n",
    "train.isnull().values.any()"
   ]
  },
  {
   "cell_type": "code",
   "execution_count": 11,
   "metadata": {},
   "outputs": [
    {
     "data": {
      "text/plain": [
       "MonthlyIncome         29731\n",
       "NumberOfDependents     3924\n",
       "dtype: int64"
      ]
     },
     "execution_count": 11,
     "metadata": {},
     "output_type": "execute_result"
    }
   ],
   "source": [
    "#which columns have missing values\n",
    "train.isnull().sum()[train.isnull().sum()>0]"
   ]
  },
  {
   "cell_type": "markdown",
   "metadata": {},
   "source": [
    "As you can see, there are missing values in only two features: MonthlyIncomeand NumberOfDependents"
   ]
  },
  {
   "cell_type": "code",
   "execution_count": 12,
   "metadata": {
    "scrolled": false
   },
   "outputs": [
    {
     "data": {
      "text/plain": [
       "MonthlyIncome         0.198207\n",
       "NumberOfDependents    0.026160\n",
       "dtype: float64"
      ]
     },
     "execution_count": 12,
     "metadata": {},
     "output_type": "execute_result"
    }
   ],
   "source": [
    "#what percentage of records are missing\n",
    "train.isnull().sum()[train.isnull().sum()>0]/len(train)"
   ]
  },
  {
   "cell_type": "markdown",
   "metadata": {},
   "source": [
    "MonthlyIncome has nearly 20% of it's data as missing. This is quote high and brings us to a decision point. We can drop this column entirely, drop the rows containing missing values, or impute the missing values. SimpleImputation may be subject to error since it would be applying a central tendency value to all 29731 of these rows; however, imputation is important since Machine Learning algorithms don't like missing values. We can also impute using a sophisticated, predictive method. \n",
    "\n",
    "From subject matter context, we know that monthly income is a feature important in our dataset and will elect to keep it. Therefore, we will be doing imputation for these missing values. "
   ]
  },
  {
   "cell_type": "code",
   "execution_count": 13,
   "metadata": {},
   "outputs": [],
   "source": [
    "train_full = train.copy()"
   ]
  },
  {
   "cell_type": "code",
   "execution_count": 14,
   "metadata": {},
   "outputs": [],
   "source": [
    "income_median = train_full['MonthlyIncome'].median()\n",
    "\n",
    "#REMEMBER TO TRY ITERATIVE IMPUTER"
   ]
  },
  {
   "cell_type": "markdown",
   "metadata": {},
   "source": [
    "#### DO WE NEED TO TAKE MEDIAN FROM NON NA ROWS ONLY?"
   ]
  },
  {
   "cell_type": "code",
   "execution_count": 15,
   "metadata": {},
   "outputs": [
    {
     "data": {
      "text/plain": [
       "5400.0"
      ]
     },
     "execution_count": 15,
     "metadata": {},
     "output_type": "execute_result"
    }
   ],
   "source": [
    "income_median"
   ]
  },
  {
   "cell_type": "code",
   "execution_count": 16,
   "metadata": {},
   "outputs": [],
   "source": [
    "train_full['MonthlyIncome'].fillna(income_median, inplace=True)"
   ]
  },
  {
   "cell_type": "code",
   "execution_count": 17,
   "metadata": {},
   "outputs": [
    {
     "data": {
      "text/plain": [
       "0"
      ]
     },
     "execution_count": 17,
     "metadata": {},
     "output_type": "execute_result"
    }
   ],
   "source": [
    "train_full['MonthlyIncome'].isnull().sum()"
   ]
  },
  {
   "cell_type": "markdown",
   "metadata": {},
   "source": [
    "No more missing values in Monthly Income! Now NumberOfDependents"
   ]
  },
  {
   "cell_type": "code",
   "execution_count": 18,
   "metadata": {},
   "outputs": [],
   "source": [
    "dependents_median = train_full['NumberOfDependents'].median()"
   ]
  },
  {
   "cell_type": "code",
   "execution_count": 19,
   "metadata": {},
   "outputs": [],
   "source": [
    "train_full['NumberOfDependents'].fillna(dependents_median, inplace = True)"
   ]
  },
  {
   "cell_type": "code",
   "execution_count": 20,
   "metadata": {},
   "outputs": [
    {
     "data": {
      "text/plain": [
       "0"
      ]
     },
     "execution_count": 20,
     "metadata": {},
     "output_type": "execute_result"
    }
   ],
   "source": [
    "train_full['NumberOfDependents'].isnull().sum()"
   ]
  },
  {
   "cell_type": "markdown",
   "metadata": {},
   "source": [
    "No more missing values in NumberOfDependents! Now onto Outliers."
   ]
  },
  {
   "cell_type": "markdown",
   "metadata": {},
   "source": [
    "### Outlier Values"
   ]
  },
  {
   "cell_type": "code",
   "execution_count": 33,
   "metadata": {},
   "outputs": [
    {
     "data": {
      "text/plain": [
       "<matplotlib.axes._subplots.AxesSubplot at 0x20085d74a58>"
      ]
     },
     "execution_count": 33,
     "metadata": {},
     "output_type": "execute_result"
    },
    {
     "data": {
      "image/png": "[encoded data removed]",
      "text/plain": [
       "<Figure size 504x504 with 6 Axes>"
      ]
     },
     "metadata": {
      "needs_background": "light"
     },
     "output_type": "display_data"
    }
   ],
   "source": [
    "#check outliers\n",
    "df = train_full\n",
    "f, axes = plt.subplots(3, 2, figsize=(10, 10), sharex=False)\n",
    "sns.distplot( df[\"NumberOfDependents\"] , color=\"olive\", ax=axes[0, 0])\n",
    "sns.distplot( df[\"NumberOfTime30-59DaysPastDueNotWorse\"] , color=\"green\", ax=axes[0, 1])\n",
    "sns.distplot( df[\"NumberOfOpenCreditLinesAndLoans\"] , color=\"red\", ax=axes[1, 0])\n",
    "sns.distplot( df[\"NumberOfTimes90DaysLate\"] , color=\"blue\", ax=axes[1, 1])\n",
    "sns.distplot( df[\"NumberRealEstateLoansOrLines\"] , color=\"teal\", ax=axes[2, 0])\n",
    "sns.distplot( df[\"NumberOfTime60-89DaysPastDueNotWorse\"] , color=\"magenta\", ax=axes[2, 1])"
   ]
  },
  {
   "cell_type": "markdown",
   "metadata": {},
   "source": [
    "As we can see by a subset of 6 variables, they are almost all largely skewed to the right, meaning that there are many outliers present in the data. We will now remove rows containing an outlier in any of the variables. "
   ]
  },
  {
   "cell_type": "code",
   "execution_count": 22,
   "metadata": {},
   "outputs": [
    {
     "name": "stdout",
     "output_type": "stream",
     "text": [
      "(150000, 11)\n"
     ]
    }
   ],
   "source": [
    "#before: summarize the number of rows and columns in the dataset\n",
    "print(df.shape)"
   ]
  },
  {
   "cell_type": "code",
   "execution_count": 23,
   "metadata": {},
   "outputs": [
    {
     "name": "stdout",
     "output_type": "stream",
     "text": [
      "[[0.02115001 0.49385982 0.37659296 ... 4.40954554 0.05785249 1.14052977]\n",
      " [0.02038516 0.83234222 0.10041896 ... 0.90128301 0.05785249 0.23720186]\n",
      " [0.02158222 0.96773518 0.138087   ... 0.90128301 0.05785249 0.66612604]\n",
      " ...\n",
      " [0.02323239 0.38619443 0.10041896 ... 0.01614492 0.05785249 0.66612604]\n",
      " [0.02421753 1.50930703 0.10041896 ... 0.90128301 0.05785249 0.66612604]\n",
      " [0.02081306 0.79237332 0.10041896 ... 0.86899317 0.05785249 0.66612604]]\n"
     ]
    }
   ],
   "source": [
    "zscore = np.abs(stats.zscore(df.iloc[:,1:11]))\n",
    "print(zscore)\n",
    "threshold = 3"
   ]
  },
  {
   "cell_type": "code",
   "execution_count": 24,
   "metadata": {},
   "outputs": [
    {
     "name": "stdout",
     "output_type": "stream",
     "text": [
      "(array([     0,      4,     44, ..., 149899, 149916, 149968], dtype=int64), array([7, 4, 5, ..., 9, 5, 9], dtype=int64))\n"
     ]
    }
   ],
   "source": [
    "#show indexes of outliers\n",
    "print(np.where(zscore >3))"
   ]
  },
  {
   "cell_type": "code",
   "execution_count": 25,
   "metadata": {},
   "outputs": [
    {
     "name": "stdout",
     "output_type": "stream",
     "text": [
      "4.409545538528969\n"
     ]
    }
   ],
   "source": [
    "print(zscore[0][7])"
   ]
  },
  {
   "cell_type": "markdown",
   "metadata": {},
   "source": [
    "Let's rcount outliers as anythign greater than 2.5 zscores from the mean, as this is a common rule of thumb."
   ]
  },
  {
   "cell_type": "code",
   "execution_count": 26,
   "metadata": {
    "scrolled": true
   },
   "outputs": [
    {
     "name": "stdout",
     "output_type": "stream",
     "text": [
      "(137774, 11)\n"
     ]
    }
   ],
   "source": [
    "df_full = df\n",
    "df_full = df_full[(zscore < 2.5).all(axis=1)]\n",
    "print(df_full.shape)"
   ]
  },
  {
   "cell_type": "code",
   "execution_count": 27,
   "metadata": {},
   "outputs": [
    {
     "name": "stdout",
     "output_type": "stream",
     "text": [
      "count    137774.000000\n",
      "mean          0.064076\n",
      "std           0.244889\n",
      "min           0.000000\n",
      "25%           0.000000\n",
      "50%           0.000000\n",
      "75%           0.000000\n",
      "max           1.000000\n",
      "Name: SeriousDlqin2yrs, dtype: float64\n"
     ]
    }
   ],
   "source": [
    "print(df_full['SeriousDlqin2yrs'].describe())"
   ]
  },
  {
   "cell_type": "markdown",
   "metadata": {},
   "source": [
    "It looks like 12,226‬‬ outlier rows were removed. Let's see if this improves our histograms a bit."
   ]
  },
  {
   "cell_type": "code",
   "execution_count": 37,
   "metadata": {
    "scrolled": true
   },
   "outputs": [
    {
     "data": {
      "text/plain": [
       "<matplotlib.axes._subplots.AxesSubplot at 0x20087f5c2b0>"
      ]
     },
     "execution_count": 37,
     "metadata": {},
     "output_type": "execute_result"
    },
    {
     "data": {
      "image/png": "[encoded data removed]",
      "text/plain": [
       "<Figure size 720x720 with 6 Axes>"
      ]
     },
     "metadata": {
      "needs_background": "light"
     },
     "output_type": "display_data"
    }
   ],
   "source": [
    "f, axes = plt.subplots(3, 2, figsize=(10, 10), sharex=False)\n",
    "sns.distplot( df_full[\"NumberOfDependents\"] , color=\"olive\", ax=axes[0, 0])\n",
    "sns.distplot( df_full[\"NumberOfTime30-59DaysPastDueNotWorse\"] , color=\"green\", ax=axes[0, 1])\n",
    "sns.distplot( df_full[\"NumberOfOpenCreditLinesAndLoans\"] , color=\"red\", ax=axes[1, 0])\n",
    "sns.distplot( df_full[\"NumberOfTimes90DaysLate\"] , color=\"blue\", ax=axes[1, 1])\n",
    "sns.distplot( df_full[\"NumberRealEstateLoansOrLines\"] , color=\"teal\", ax=axes[2, 0])\n",
    "sns.distplot( df_full[\"NumberOfTime60-89DaysPastDueNotWorse\"] , color=\"magenta\", ax=axes[2, 1])"
   ]
  },
  {
   "cell_type": "markdown",
   "metadata": {},
   "source": [
    "There is certainly improvement! We will need to apply transforms to ensure normal distributions for regression. It is perfectly okay that the distributions are still skewed, now the outlier values have just been removed.\n",
    "\n",
    "Now we have a dataset void of outliers and missing values - let's move onto visualizations and more preprocessing. "
   ]
  },
  {
   "cell_type": "markdown",
   "metadata": {},
   "source": [
    "# Exploratory Data Visualizations"
   ]
  },
  {
   "cell_type": "markdown",
   "metadata": {},
   "source": [
    "# Data Standardization/Normalization"
   ]
  },
  {
   "cell_type": "code",
   "execution_count": 29,
   "metadata": {},
   "outputs": [
    {
     "ename": "SyntaxError",
     "evalue": "invalid syntax (<ipython-input-29-b0e36f7bde2b>, line 1)",
     "output_type": "error",
     "traceback": [
      "\u001b[1;36m  File \u001b[1;32m\"<ipython-input-29-b0e36f7bde2b>\"\u001b[1;36m, line \u001b[1;32m1\u001b[0m\n\u001b[1;33m    https://scikit-learn.org/stable/modules/preprocessing.html\u001b[0m\n\u001b[1;37m           ^\u001b[0m\n\u001b[1;31mSyntaxError\u001b[0m\u001b[1;31m:\u001b[0m invalid syntax\n"
     ]
    }
   ],
   "source": []
  },
  {
   "cell_type": "markdown",
   "metadata": {},
   "source": [
    "# Train/Validate Split"
   ]
  },
  {
   "cell_type": "markdown",
   "metadata": {},
   "source": [
    "# Logistic Regression"
   ]
  },
  {
   "cell_type": "markdown",
   "metadata": {},
   "source": [
    "### Multi-collinearity analysis"
   ]
  },
  {
   "cell_type": "markdown",
   "metadata": {},
   "source": [
    "# Decision Tree"
   ]
  },
  {
   "cell_type": "markdown",
   "metadata": {},
   "source": [
    "# Random Forest"
   ]
  },
  {
   "cell_type": "markdown",
   "metadata": {},
   "source": [
    "# Support Vector Machines (SVM)"
   ]
  },
  {
   "cell_type": "markdown",
   "metadata": {},
   "source": [
    "# Artificial Neural Networks (ANN)"
   ]
  },
  {
   "cell_type": "markdown",
   "metadata": {},
   "source": [
    "# k-Nearest Neighbors (k-NN)"
   ]
  },
  {
   "cell_type": "markdown",
   "metadata": {},
   "source": [
    "# Stacked Ensemble Model"
   ]
  },
  {
   "cell_type": "markdown",
   "metadata": {},
   "source": [
    "# Comparison of All Models"
   ]
  },
  {
   "cell_type": "markdown",
   "metadata": {},
   "source": [
    "# References"
   ]
  }
 ],
 "metadata": {
  "kernelspec": {
   "display_name": "Python 3",
   "language": "python",
   "name": "python3"
  },
  "language_info": {
   "codemirror_mode": {
    "name": "ipython",
    "version": 3
   },
   "file_extension": ".py",
   "mimetype": "text/x-python",
   "name": "python",
   "nbconvert_exporter": "python",
   "pygments_lexer": "ipython3",
   "version": "3.7.1"
  }
 },
 "nbformat": 4,
 "nbformat_minor": 2
}
