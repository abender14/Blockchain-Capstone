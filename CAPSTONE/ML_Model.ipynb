{
 "cells": [
  {
   "cell_type": "markdown",
   "metadata": {},
   "source": [
    "Importing the necessary Python libraries"
   ]
  },
  {
   "cell_type": "markdown",
   "metadata": {},
   "source": [
    "# Import Necessary Libraries"
   ]
  },
  {
   "cell_type": "code",
   "execution_count": 1,
   "metadata": {},
   "outputs": [],
   "source": [
    "import pandas as pd\n",
    "import numpy as np\n",
    "from pandas import DataFrame\n",
    "import matplotlib.pyplot as plt\n",
    "from scipy import stats\n",
    "import seaborn as sns\n",
    "from sklearn.preprocessing import MinMaxScaler\n",
    "from sklearn.preprocessing import PowerTransformer\n",
    "from sklearn.preprocessing import QuantileTransformer\n",
    "from sklearn.model_selection import train_test_split\n",
    "from sklearn.linear_model import LogisticRegression\n",
    "from sklearn.feature_selection import RFE\n",
    "import statsmodels.api as sm\n",
    "from sklearn.metrics import confusion_matrix"
   ]
  },
  {
   "cell_type": "markdown",
   "metadata": {},
   "source": [
    "# Data Loading"
   ]
  },
  {
   "cell_type": "code",
   "execution_count": 2,
   "metadata": {},
   "outputs": [],
   "source": [
    "train = pd.read_csv(\"cs-training.csv\", index_col = 0)\n",
    "test = pd.read_csv(\"cs-test.csv\", index_col = 0)"
   ]
  },
  {
   "cell_type": "code",
   "execution_count": 3,
   "metadata": {},
   "outputs": [
    {
     "name": "stdout",
     "output_type": "stream",
     "text": [
      "   SeriousDlqin2yrs  RevolvingUtilizationOfUnsecuredLines  age  \\\n",
      "1                 1                              0.766127   45   \n",
      "2                 0                              0.957151   40   \n",
      "3                 0                              0.658180   38   \n",
      "4                 0                              0.233810   30   \n",
      "5                 0                              0.907239   49   \n",
      "\n",
      "   NumberOfTime30-59DaysPastDueNotWorse  DebtRatio  MonthlyIncome  \\\n",
      "1                                     2   0.802982         9120.0   \n",
      "2                                     0   0.121876         2600.0   \n",
      "3                                     1   0.085113         3042.0   \n",
      "4                                     0   0.036050         3300.0   \n",
      "5                                     1   0.024926        63588.0   \n",
      "\n",
      "   NumberOfOpenCreditLinesAndLoans  NumberOfTimes90DaysLate  \\\n",
      "1                               13                        0   \n",
      "2                                4                        0   \n",
      "3                                2                        1   \n",
      "4                                5                        0   \n",
      "5                                7                        0   \n",
      "\n",
      "   NumberRealEstateLoansOrLines  NumberOfTime60-89DaysPastDueNotWorse  \\\n",
      "1                             6                                     0   \n",
      "2                             0                                     0   \n",
      "3                             0                                     0   \n",
      "4                             0                                     0   \n",
      "5                             1                                     0   \n",
      "\n",
      "   NumberOfDependents  \n",
      "1                 2.0  \n",
      "2                 1.0  \n",
      "3                 0.0  \n",
      "4                 0.0  \n",
      "5                 0.0  \n"
     ]
    }
   ],
   "source": [
    "print(train.head())"
   ]
  },
  {
   "cell_type": "code",
   "execution_count": 4,
   "metadata": {},
   "outputs": [
    {
     "name": "stdout",
     "output_type": "stream",
     "text": [
      "   SeriousDlqin2yrs  RevolvingUtilizationOfUnsecuredLines  age  \\\n",
      "1               NaN                              0.885519   43   \n",
      "2               NaN                              0.463295   57   \n",
      "3               NaN                              0.043275   59   \n",
      "4               NaN                              0.280308   38   \n",
      "5               NaN                              1.000000   27   \n",
      "\n",
      "   NumberOfTime30-59DaysPastDueNotWorse  DebtRatio  MonthlyIncome  \\\n",
      "1                                     0   0.177513         5700.0   \n",
      "2                                     0   0.527237         9141.0   \n",
      "3                                     0   0.687648         5083.0   \n",
      "4                                     1   0.925961         3200.0   \n",
      "5                                     0   0.019917         3865.0   \n",
      "\n",
      "   NumberOfOpenCreditLinesAndLoans  NumberOfTimes90DaysLate  \\\n",
      "1                                4                        0   \n",
      "2                               15                        0   \n",
      "3                               12                        0   \n",
      "4                                7                        0   \n",
      "5                                4                        0   \n",
      "\n",
      "   NumberRealEstateLoansOrLines  NumberOfTime60-89DaysPastDueNotWorse  \\\n",
      "1                             0                                     0   \n",
      "2                             4                                     0   \n",
      "3                             1                                     0   \n",
      "4                             2                                     0   \n",
      "5                             0                                     0   \n",
      "\n",
      "   NumberOfDependents  \n",
      "1                 0.0  \n",
      "2                 2.0  \n",
      "3                 2.0  \n",
      "4                 0.0  \n",
      "5                 1.0  \n"
     ]
    }
   ],
   "source": [
    "print(test.head())"
   ]
  },
  {
   "cell_type": "code",
   "execution_count": 5,
   "metadata": {
    "scrolled": true
   },
   "outputs": [
    {
     "name": "stdout",
     "output_type": "stream",
     "text": [
      "       SeriousDlqin2yrs  RevolvingUtilizationOfUnsecuredLines            age  \\\n",
      "count     150000.000000                         150000.000000  150000.000000   \n",
      "mean           0.066840                              6.048438      52.295207   \n",
      "std            0.249746                            249.755371      14.771866   \n",
      "min            0.000000                              0.000000       0.000000   \n",
      "25%            0.000000                              0.029867      41.000000   \n",
      "50%            0.000000                              0.154181      52.000000   \n",
      "75%            0.000000                              0.559046      63.000000   \n",
      "max            1.000000                          50708.000000     109.000000   \n",
      "\n",
      "       NumberOfTime30-59DaysPastDueNotWorse      DebtRatio  MonthlyIncome  \\\n",
      "count                         150000.000000  150000.000000   1.202690e+05   \n",
      "mean                               0.421033     353.005076   6.670221e+03   \n",
      "std                                4.192781    2037.818523   1.438467e+04   \n",
      "min                                0.000000       0.000000   0.000000e+00   \n",
      "25%                                0.000000       0.175074   3.400000e+03   \n",
      "50%                                0.000000       0.366508   5.400000e+03   \n",
      "75%                                0.000000       0.868254   8.249000e+03   \n",
      "max                               98.000000  329664.000000   3.008750e+06   \n",
      "\n",
      "       NumberOfOpenCreditLinesAndLoans  NumberOfTimes90DaysLate  \\\n",
      "count                    150000.000000            150000.000000   \n",
      "mean                          8.452760                 0.265973   \n",
      "std                           5.145951                 4.169304   \n",
      "min                           0.000000                 0.000000   \n",
      "25%                           5.000000                 0.000000   \n",
      "50%                           8.000000                 0.000000   \n",
      "75%                          11.000000                 0.000000   \n",
      "max                          58.000000                98.000000   \n",
      "\n",
      "       NumberRealEstateLoansOrLines  NumberOfTime60-89DaysPastDueNotWorse  \\\n",
      "count                 150000.000000                         150000.000000   \n",
      "mean                       1.018240                              0.240387   \n",
      "std                        1.129771                              4.155179   \n",
      "min                        0.000000                              0.000000   \n",
      "25%                        0.000000                              0.000000   \n",
      "50%                        1.000000                              0.000000   \n",
      "75%                        2.000000                              0.000000   \n",
      "max                       54.000000                             98.000000   \n",
      "\n",
      "       NumberOfDependents  \n",
      "count       146076.000000  \n",
      "mean             0.757222  \n",
      "std              1.115086  \n",
      "min              0.000000  \n",
      "25%              0.000000  \n",
      "50%              0.000000  \n",
      "75%              1.000000  \n",
      "max             20.000000  \n"
     ]
    }
   ],
   "source": [
    "summary_df = train.describe()\n",
    "print(summary_df)"
   ]
  },
  {
   "cell_type": "code",
   "execution_count": 6,
   "metadata": {},
   "outputs": [
    {
     "name": "stdout",
     "output_type": "stream",
     "text": [
      "<class 'pandas.core.frame.DataFrame'>\n",
      "Int64Index: 150000 entries, 1 to 150000\n",
      "Data columns (total 11 columns):\n",
      "SeriousDlqin2yrs                        150000 non-null int64\n",
      "RevolvingUtilizationOfUnsecuredLines    150000 non-null float64\n",
      "age                                     150000 non-null int64\n",
      "NumberOfTime30-59DaysPastDueNotWorse    150000 non-null int64\n",
      "DebtRatio                               150000 non-null float64\n",
      "MonthlyIncome                           120269 non-null float64\n",
      "NumberOfOpenCreditLinesAndLoans         150000 non-null int64\n",
      "NumberOfTimes90DaysLate                 150000 non-null int64\n",
      "NumberRealEstateLoansOrLines            150000 non-null int64\n",
      "NumberOfTime60-89DaysPastDueNotWorse    150000 non-null int64\n",
      "NumberOfDependents                      146076 non-null float64\n",
      "dtypes: float64(4), int64(7)\n",
      "memory usage: 13.7 MB\n",
      "None\n"
     ]
    }
   ],
   "source": [
    "#print structure of data\n",
    "print(train.info())"
   ]
  },
  {
   "cell_type": "code",
   "execution_count": 7,
   "metadata": {},
   "outputs": [
    {
     "name": "stdout",
     "output_type": "stream",
     "text": [
      "SeriousDlqin2yrs                          int64\n",
      "RevolvingUtilizationOfUnsecuredLines    float64\n",
      "age                                       int64\n",
      "NumberOfTime30-59DaysPastDueNotWorse      int64\n",
      "DebtRatio                               float64\n",
      "MonthlyIncome                           float64\n",
      "NumberOfOpenCreditLinesAndLoans           int64\n",
      "NumberOfTimes90DaysLate                   int64\n",
      "NumberRealEstateLoansOrLines              int64\n",
      "NumberOfTime60-89DaysPastDueNotWorse      int64\n",
      "NumberOfDependents                      float64\n",
      "dtype: object\n"
     ]
    }
   ],
   "source": [
    "print(train.dtypes)"
   ]
  },
  {
   "cell_type": "markdown",
   "metadata": {},
   "source": [
    "# Data Description"
   ]
  },
  {
   "cell_type": "markdown",
   "metadata": {},
   "source": [
    "# Data Understanding"
   ]
  },
  {
   "cell_type": "markdown",
   "metadata": {},
   "source": [
    "# Plan of Attack"
   ]
  },
  {
   "cell_type": "markdown",
   "metadata": {},
   "source": [
    "# Data Cleansing"
   ]
  },
  {
   "cell_type": "markdown",
   "metadata": {},
   "source": [
    "### Remove Whitespace"
   ]
  },
  {
   "cell_type": "code",
   "execution_count": 8,
   "metadata": {},
   "outputs": [],
   "source": [
    "#strip whitespace from entire data frame\n",
    "train = train.apply(lambda x: x.str.strip() if x.dtype == \"object\" else x)"
   ]
  },
  {
   "cell_type": "code",
   "execution_count": 9,
   "metadata": {},
   "outputs": [
    {
     "name": "stdout",
     "output_type": "stream",
     "text": [
      "   SeriousDlqin2yrs  RevolvingUtilizationOfUnsecuredLines  age  \\\n",
      "1                 1                              0.766127   45   \n",
      "2                 0                              0.957151   40   \n",
      "3                 0                              0.658180   38   \n",
      "4                 0                              0.233810   30   \n",
      "5                 0                              0.907239   49   \n",
      "\n",
      "   NumberOfTime30-59DaysPastDueNotWorse  DebtRatio  MonthlyIncome  \\\n",
      "1                                     2   0.802982         9120.0   \n",
      "2                                     0   0.121876         2600.0   \n",
      "3                                     1   0.085113         3042.0   \n",
      "4                                     0   0.036050         3300.0   \n",
      "5                                     1   0.024926        63588.0   \n",
      "\n",
      "   NumberOfOpenCreditLinesAndLoans  NumberOfTimes90DaysLate  \\\n",
      "1                               13                        0   \n",
      "2                                4                        0   \n",
      "3                                2                        1   \n",
      "4                                5                        0   \n",
      "5                                7                        0   \n",
      "\n",
      "   NumberRealEstateLoansOrLines  NumberOfTime60-89DaysPastDueNotWorse  \\\n",
      "1                             6                                     0   \n",
      "2                             0                                     0   \n",
      "3                             0                                     0   \n",
      "4                             0                                     0   \n",
      "5                             1                                     0   \n",
      "\n",
      "   NumberOfDependents  \n",
      "1                 2.0  \n",
      "2                 1.0  \n",
      "3                 0.0  \n",
      "4                 0.0  \n",
      "5                 0.0  \n"
     ]
    }
   ],
   "source": [
    "print(train.head())"
   ]
  },
  {
   "cell_type": "markdown",
   "metadata": {},
   "source": [
    "### NA Values"
   ]
  },
  {
   "cell_type": "markdown",
   "metadata": {},
   "source": [
    "Replace with central tendency metric"
   ]
  },
  {
   "cell_type": "code",
   "execution_count": 10,
   "metadata": {},
   "outputs": [
    {
     "data": {
      "text/plain": [
       "True"
      ]
     },
     "execution_count": 10,
     "metadata": {},
     "output_type": "execute_result"
    }
   ],
   "source": [
    "#are the any NA values?\n",
    "train.isnull().values.any()"
   ]
  },
  {
   "cell_type": "code",
   "execution_count": 11,
   "metadata": {},
   "outputs": [
    {
     "data": {
      "text/plain": [
       "MonthlyIncome         29731\n",
       "NumberOfDependents     3924\n",
       "dtype: int64"
      ]
     },
     "execution_count": 11,
     "metadata": {},
     "output_type": "execute_result"
    }
   ],
   "source": [
    "#which columns have missing values\n",
    "train.isnull().sum()[train.isnull().sum()>0]"
   ]
  },
  {
   "cell_type": "markdown",
   "metadata": {},
   "source": [
    "As you can see, there are missing values in only two features: MonthlyIncomeand NumberOfDependents"
   ]
  },
  {
   "cell_type": "code",
   "execution_count": 12,
   "metadata": {
    "scrolled": false
   },
   "outputs": [
    {
     "data": {
      "text/plain": [
       "MonthlyIncome         0.198207\n",
       "NumberOfDependents    0.026160\n",
       "dtype: float64"
      ]
     },
     "execution_count": 12,
     "metadata": {},
     "output_type": "execute_result"
    }
   ],
   "source": [
    "#what percentage of records are missing\n",
    "train.isnull().sum()[train.isnull().sum()>0]/len(train)"
   ]
  },
  {
   "cell_type": "markdown",
   "metadata": {},
   "source": [
    "MonthlyIncome has nearly 20% of it's data as missing. This is quote high and brings us to a decision point. We can drop this column entirely, drop the rows containing missing values, or impute the missing values. SimpleImputation may be subject to error since it would be applying a central tendency value to all 29731 of these rows; however, imputation is important since Machine Learning algorithms don't like missing values. We can also impute using a sophisticated, predictive method. \n",
    "\n",
    "From subject matter context, we know that monthly income is a feature important in our dataset and will elect to keep it. Therefore, we will be doing imputation for these missing values. "
   ]
  },
  {
   "cell_type": "code",
   "execution_count": 13,
   "metadata": {},
   "outputs": [],
   "source": [
    "train_full = train.copy()"
   ]
  },
  {
   "cell_type": "code",
   "execution_count": 14,
   "metadata": {},
   "outputs": [],
   "source": [
    "income_median = train_full['MonthlyIncome'].median()\n",
    "\n",
    "#REMEMBER TO TRY ITERATIVE IMPUTER"
   ]
  },
  {
   "cell_type": "markdown",
   "metadata": {},
   "source": [
    "#### DO WE NEED TO TAKE MEDIAN FROM NON NA ROWS ONLY?"
   ]
  },
  {
   "cell_type": "code",
   "execution_count": 15,
   "metadata": {},
   "outputs": [
    {
     "data": {
      "text/plain": [
       "5400.0"
      ]
     },
     "execution_count": 15,
     "metadata": {},
     "output_type": "execute_result"
    }
   ],
   "source": [
    "income_median"
   ]
  },
  {
   "cell_type": "code",
   "execution_count": 16,
   "metadata": {},
   "outputs": [],
   "source": [
    "train_full['MonthlyIncome'].fillna(income_median, inplace=True)"
   ]
  },
  {
   "cell_type": "code",
   "execution_count": 17,
   "metadata": {},
   "outputs": [
    {
     "data": {
      "text/plain": [
       "0"
      ]
     },
     "execution_count": 17,
     "metadata": {},
     "output_type": "execute_result"
    }
   ],
   "source": [
    "train_full['MonthlyIncome'].isnull().sum()"
   ]
  },
  {
   "cell_type": "markdown",
   "metadata": {},
   "source": [
    "No more missing values in Monthly Income! Now NumberOfDependents"
   ]
  },
  {
   "cell_type": "code",
   "execution_count": 18,
   "metadata": {},
   "outputs": [],
   "source": [
    "dependents_median = train_full['NumberOfDependents'].median()"
   ]
  },
  {
   "cell_type": "code",
   "execution_count": 19,
   "metadata": {},
   "outputs": [],
   "source": [
    "train_full['NumberOfDependents'].fillna(dependents_median, inplace = True)"
   ]
  },
  {
   "cell_type": "code",
   "execution_count": 20,
   "metadata": {},
   "outputs": [
    {
     "data": {
      "text/plain": [
       "0"
      ]
     },
     "execution_count": 20,
     "metadata": {},
     "output_type": "execute_result"
    }
   ],
   "source": [
    "train_full['NumberOfDependents'].isnull().sum()"
   ]
  },
  {
   "cell_type": "markdown",
   "metadata": {},
   "source": [
    "No more missing values in NumberOfDependents! Now onto Outliers."
   ]
  },
  {
   "cell_type": "markdown",
   "metadata": {},
   "source": [
    "### Outlier Values"
   ]
  },
  {
   "cell_type": "code",
   "execution_count": 21,
   "metadata": {},
   "outputs": [
    {
     "name": "stderr",
     "output_type": "stream",
     "text": [
      "C:\\Users\\alexb\\AppData\\Local\\Continuum\\anaconda3\\lib\\site-packages\\scipy\\stats\\stats.py:1713: FutureWarning: Using a non-tuple sequence for multidimensional indexing is deprecated; use `arr[tuple(seq)]` instead of `arr[seq]`. In the future this will be interpreted as an array index, `arr[np.array(seq)]`, which will result either in an error or a different result.\n",
      "  return np.add.reduce(sorted[indexer] * weights, axis=axis) / sumval\n"
     ]
    },
    {
     "data": {
      "text/plain": [
       "<matplotlib.axes._subplots.AxesSubplot at 0x1bfabee6588>"
      ]
     },
     "execution_count": 21,
     "metadata": {},
     "output_type": "execute_result"
    },
    {
     "data": {
      "image/png": "[encoded data removed]",
      "text/plain": [
       "<Figure size 720x720 with 6 Axes>"
      ]
     },
     "metadata": {
      "needs_background": "light"
     },
     "output_type": "display_data"
    }
   ],
   "source": [
    "#check outliers\n",
    "df = train_full\n",
    "f, axes = plt.subplots(3, 2, figsize=(10, 10), sharex=False)\n",
    "sns.distplot( df[\"NumberOfDependents\"] , color=\"olive\", ax=axes[0, 0])\n",
    "sns.distplot( df[\"NumberOfTime30-59DaysPastDueNotWorse\"] , color=\"green\", ax=axes[0, 1])\n",
    "sns.distplot( df[\"NumberOfOpenCreditLinesAndLoans\"] , color=\"red\", ax=axes[1, 0])\n",
    "sns.distplot( df[\"NumberOfTimes90DaysLate\"] , color=\"blue\", ax=axes[1, 1])\n",
    "sns.distplot( df[\"NumberRealEstateLoansOrLines\"] , color=\"teal\", ax=axes[2, 0])\n",
    "sns.distplot( df[\"NumberOfTime60-89DaysPastDueNotWorse\"] , color=\"magenta\", ax=axes[2, 1])"
   ]
  },
  {
   "cell_type": "markdown",
   "metadata": {},
   "source": [
    "As we can see by a subset of 6 variables, they are almost all largely skewed to the right, meaning that there are many outliers present in the data. We will now remove rows containing an outlier in any of the variables. "
   ]
  },
  {
   "cell_type": "code",
   "execution_count": 22,
   "metadata": {},
   "outputs": [
    {
     "name": "stdout",
     "output_type": "stream",
     "text": [
      "(150000, 11)\n"
     ]
    }
   ],
   "source": [
    "#before: summarize the number of rows and columns in the dataset\n",
    "print(df.shape)"
   ]
  },
  {
   "cell_type": "code",
   "execution_count": 23,
   "metadata": {},
   "outputs": [
    {
     "name": "stdout",
     "output_type": "stream",
     "text": [
      "[[0.02115001 0.49385982 0.37659296 ... 4.40954554 0.05785249 1.14052977]\n",
      " [0.02038516 0.83234222 0.10041896 ... 0.90128301 0.05785249 0.23720186]\n",
      " [0.02158222 0.96773518 0.138087   ... 0.90128301 0.05785249 0.66612604]\n",
      " ...\n",
      " [0.02323239 0.38619443 0.10041896 ... 0.01614492 0.05785249 0.66612604]\n",
      " [0.02421753 1.50930703 0.10041896 ... 0.90128301 0.05785249 0.66612604]\n",
      " [0.02081306 0.79237332 0.10041896 ... 0.86899317 0.05785249 0.66612604]]\n"
     ]
    }
   ],
   "source": [
    "zscore = np.abs(stats.zscore(df.iloc[:,1:11]))\n",
    "print(zscore)\n",
    "threshold = 3"
   ]
  },
  {
   "cell_type": "code",
   "execution_count": 24,
   "metadata": {},
   "outputs": [
    {
     "name": "stdout",
     "output_type": "stream",
     "text": [
      "(array([     0,      4,     44, ..., 149899, 149916, 149968], dtype=int64), array([7, 4, 5, ..., 9, 5, 9], dtype=int64))\n"
     ]
    }
   ],
   "source": [
    "#show indexes of outliers\n",
    "print(np.where(zscore >3))"
   ]
  },
  {
   "cell_type": "code",
   "execution_count": 25,
   "metadata": {},
   "outputs": [
    {
     "name": "stdout",
     "output_type": "stream",
     "text": [
      "4.409545538528969\n"
     ]
    }
   ],
   "source": [
    "print(zscore[0][7])"
   ]
  },
  {
   "cell_type": "markdown",
   "metadata": {},
   "source": [
    "Let's rcount outliers as anythign greater than 2.5 zscores from the mean, as this is a common rule of thumb."
   ]
  },
  {
   "cell_type": "code",
   "execution_count": 26,
   "metadata": {
    "scrolled": true
   },
   "outputs": [
    {
     "name": "stdout",
     "output_type": "stream",
     "text": [
      "(137774, 11)\n"
     ]
    }
   ],
   "source": [
    "df_full = df\n",
    "df_full = df_full[(zscore < 2.5).all(axis=1)]\n",
    "print(df_full.shape)"
   ]
  },
  {
   "cell_type": "code",
   "execution_count": 27,
   "metadata": {},
   "outputs": [
    {
     "name": "stdout",
     "output_type": "stream",
     "text": [
      "count    137774.000000\n",
      "mean          0.064076\n",
      "std           0.244889\n",
      "min           0.000000\n",
      "25%           0.000000\n",
      "50%           0.000000\n",
      "75%           0.000000\n",
      "max           1.000000\n",
      "Name: SeriousDlqin2yrs, dtype: float64\n"
     ]
    }
   ],
   "source": [
    "print(df_full['SeriousDlqin2yrs'].describe())"
   ]
  },
  {
   "cell_type": "markdown",
   "metadata": {},
   "source": [
    "It looks like 12,226‬‬ outlier rows were removed. Let's see if this improves our histograms a bit."
   ]
  },
  {
   "cell_type": "code",
   "execution_count": 28,
   "metadata": {
    "scrolled": true
   },
   "outputs": [
    {
     "data": {
      "text/plain": [
       "<matplotlib.axes._subplots.AxesSubplot at 0x1bfad9ceb00>"
      ]
     },
     "execution_count": 28,
     "metadata": {},
     "output_type": "execute_result"
    },
    {
     "data": {
      "image/png": "[encoded data removed]",
      "text/plain": [
       "<Figure size 720x720 with 6 Axes>"
      ]
     },
     "metadata": {
      "needs_background": "light"
     },
     "output_type": "display_data"
    }
   ],
   "source": [
    "f, axes = plt.subplots(3, 2, figsize=(10, 10), sharex=False)\n",
    "sns.distplot( df_full[\"NumberOfDependents\"] , color=\"olive\", ax=axes[0, 0])\n",
    "sns.distplot( df_full[\"NumberOfTime30-59DaysPastDueNotWorse\"] , color=\"green\", ax=axes[0, 1])\n",
    "sns.distplot( df_full[\"NumberOfOpenCreditLinesAndLoans\"] , color=\"red\", ax=axes[1, 0])\n",
    "sns.distplot( df_full[\"NumberOfTimes90DaysLate\"] , color=\"blue\", ax=axes[1, 1])\n",
    "sns.distplot( df_full[\"NumberRealEstateLoansOrLines\"] , color=\"teal\", ax=axes[2, 0])\n",
    "sns.distplot( df_full[\"NumberOfTime60-89DaysPastDueNotWorse\"] , color=\"magenta\", ax=axes[2, 1])"
   ]
  },
  {
   "cell_type": "markdown",
   "metadata": {},
   "source": [
    "There is certainly improvement! We will need to apply transforms to ensure normal distributions for regression. It is perfectly okay that the distributions are still skewed, now the outlier values have just been removed.\n",
    "\n",
    "Now we have a dataset void of outliers and missing values - let's move onto visualizations and more preprocessing. "
   ]
  },
  {
   "cell_type": "markdown",
   "metadata": {},
   "source": [
    "# Exploratory Data Visualizations"
   ]
  },
  {
   "cell_type": "markdown",
   "metadata": {},
   "source": [
    "# Data Standardization/Normalization"
   ]
  },
  {
   "cell_type": "markdown",
   "metadata": {},
   "source": [
    "Some algorithms, such as Neural Networks, require data to be consolidated into a standard range, such as 0-1. I will create a standard range dataset using min/max normalization."
   ]
  },
  {
   "cell_type": "code",
   "execution_count": 29,
   "metadata": {
    "scrolled": true
   },
   "outputs": [
    {
     "name": "stderr",
     "output_type": "stream",
     "text": [
      "C:\\Users\\alexb\\AppData\\Local\\Continuum\\anaconda3\\lib\\site-packages\\sklearn\\preprocessing\\data.py:323: DataConversionWarning: Data with input dtype int64, float64 were all converted to float64 by MinMaxScaler.\n",
      "  return self.partial_fit(X, y)\n"
     ]
    }
   ],
   "source": [
    "scaler = MinMaxScaler()\n",
    "\n",
    "scaled_df = scaler.fit_transform(df_full)\n",
    "scaled_df = pd.DataFrame(scaled_df, columns=['SeriousDlqin2yrs','RevolvingUtilizationOfUnsecuredLines','age','NumberOfTime30-59DaysPastDueNotWorse','DebtRatio','MonthlyIncome','NumberOfOpenCreditLinesAndLoans','NumberOfTimes90DaysLate','NumberRealEstateLoansOrLines','NumberOfTime60-89DaysPastDueNotWorse','NumberOfDependents'])"
   ]
  },
  {
   "cell_type": "code",
   "execution_count": 30,
   "metadata": {},
   "outputs": [
    {
     "data": {
      "text/html": [
       "<div>\n",
       "<style scoped>\n",
       "    .dataframe tbody tr th:only-of-type {\n",
       "        vertical-align: middle;\n",
       "    }\n",
       "\n",
       "    .dataframe tbody tr th {\n",
       "        vertical-align: top;\n",
       "    }\n",
       "\n",
       "    .dataframe thead th {\n",
       "        text-align: right;\n",
       "    }\n",
       "</style>\n",
       "<table border=\"1\" class=\"dataframe\">\n",
       "  <thead>\n",
       "    <tr style=\"text-align: right;\">\n",
       "      <th></th>\n",
       "      <th>SeriousDlqin2yrs</th>\n",
       "      <th>RevolvingUtilizationOfUnsecuredLines</th>\n",
       "      <th>age</th>\n",
       "      <th>NumberOfTime30-59DaysPastDueNotWorse</th>\n",
       "      <th>DebtRatio</th>\n",
       "      <th>MonthlyIncome</th>\n",
       "      <th>NumberOfOpenCreditLinesAndLoans</th>\n",
       "      <th>NumberOfTimes90DaysLate</th>\n",
       "      <th>NumberRealEstateLoansOrLines</th>\n",
       "      <th>NumberOfTime60-89DaysPastDueNotWorse</th>\n",
       "      <th>NumberOfDependents</th>\n",
       "    </tr>\n",
       "  </thead>\n",
       "  <tbody>\n",
       "    <tr>\n",
       "      <th>0</th>\n",
       "      <td>0.0</td>\n",
       "      <td>0.001554</td>\n",
       "      <td>0.279412</td>\n",
       "      <td>0.0</td>\n",
       "      <td>2.237903e-05</td>\n",
       "      <td>0.067387</td>\n",
       "      <td>0.190476</td>\n",
       "      <td>0.0</td>\n",
       "      <td>0.000000</td>\n",
       "      <td>0.000000</td>\n",
       "      <td>0.333333</td>\n",
       "    </tr>\n",
       "    <tr>\n",
       "      <th>1</th>\n",
       "      <td>0.0</td>\n",
       "      <td>0.001068</td>\n",
       "      <td>0.250000</td>\n",
       "      <td>0.1</td>\n",
       "      <td>1.562860e-05</td>\n",
       "      <td>0.078843</td>\n",
       "      <td>0.095238</td>\n",
       "      <td>0.1</td>\n",
       "      <td>0.000000</td>\n",
       "      <td>0.000000</td>\n",
       "      <td>0.000000</td>\n",
       "    </tr>\n",
       "    <tr>\n",
       "      <th>2</th>\n",
       "      <td>0.0</td>\n",
       "      <td>0.000380</td>\n",
       "      <td>0.132353</td>\n",
       "      <td>0.0</td>\n",
       "      <td>6.619479e-06</td>\n",
       "      <td>0.085530</td>\n",
       "      <td>0.238095</td>\n",
       "      <td>0.0</td>\n",
       "      <td>0.000000</td>\n",
       "      <td>0.000000</td>\n",
       "      <td>0.000000</td>\n",
       "    </tr>\n",
       "    <tr>\n",
       "      <th>3</th>\n",
       "      <td>0.0</td>\n",
       "      <td>0.000346</td>\n",
       "      <td>0.779412</td>\n",
       "      <td>0.0</td>\n",
       "      <td>6.896933e-05</td>\n",
       "      <td>0.090714</td>\n",
       "      <td>0.142857</td>\n",
       "      <td>0.0</td>\n",
       "      <td>0.333333</td>\n",
       "      <td>0.000000</td>\n",
       "      <td>0.333333</td>\n",
       "    </tr>\n",
       "    <tr>\n",
       "      <th>4</th>\n",
       "      <td>0.0</td>\n",
       "      <td>0.001225</td>\n",
       "      <td>0.264706</td>\n",
       "      <td>0.0</td>\n",
       "      <td>3.854940e-05</td>\n",
       "      <td>0.090714</td>\n",
       "      <td>0.380952</td>\n",
       "      <td>0.0</td>\n",
       "      <td>0.000000</td>\n",
       "      <td>0.000000</td>\n",
       "      <td>0.000000</td>\n",
       "    </tr>\n",
       "    <tr>\n",
       "      <th>5</th>\n",
       "      <td>0.0</td>\n",
       "      <td>0.000190</td>\n",
       "      <td>0.088235</td>\n",
       "      <td>0.0</td>\n",
       "      <td>8.446566e-03</td>\n",
       "      <td>0.139958</td>\n",
       "      <td>0.095238</td>\n",
       "      <td>0.0</td>\n",
       "      <td>0.000000</td>\n",
       "      <td>0.000000</td>\n",
       "      <td>0.000000</td>\n",
       "    </tr>\n",
       "    <tr>\n",
       "      <th>6</th>\n",
       "      <td>0.0</td>\n",
       "      <td>0.001046</td>\n",
       "      <td>0.132353</td>\n",
       "      <td>0.0</td>\n",
       "      <td>5.682633e-05</td>\n",
       "      <td>0.064795</td>\n",
       "      <td>0.238095</td>\n",
       "      <td>0.0</td>\n",
       "      <td>0.000000</td>\n",
       "      <td>0.000000</td>\n",
       "      <td>0.000000</td>\n",
       "    </tr>\n",
       "    <tr>\n",
       "      <th>7</th>\n",
       "      <td>0.0</td>\n",
       "      <td>0.000031</td>\n",
       "      <td>0.441176</td>\n",
       "      <td>0.0</td>\n",
       "      <td>9.759985e-05</td>\n",
       "      <td>0.168494</td>\n",
       "      <td>0.333333</td>\n",
       "      <td>0.0</td>\n",
       "      <td>0.666667</td>\n",
       "      <td>0.000000</td>\n",
       "      <td>0.666667</td>\n",
       "    </tr>\n",
       "    <tr>\n",
       "      <th>8</th>\n",
       "      <td>0.0</td>\n",
       "      <td>0.000017</td>\n",
       "      <td>0.367647</td>\n",
       "      <td>0.0</td>\n",
       "      <td>5.478408e-05</td>\n",
       "      <td>0.322785</td>\n",
       "      <td>0.619048</td>\n",
       "      <td>0.0</td>\n",
       "      <td>0.666667</td>\n",
       "      <td>0.000000</td>\n",
       "      <td>0.666667</td>\n",
       "    </tr>\n",
       "    <tr>\n",
       "      <th>9</th>\n",
       "      <td>1.0</td>\n",
       "      <td>0.001566</td>\n",
       "      <td>0.279412</td>\n",
       "      <td>0.3</td>\n",
       "      <td>7.032037e-05</td>\n",
       "      <td>0.355079</td>\n",
       "      <td>0.428571</td>\n",
       "      <td>0.3</td>\n",
       "      <td>0.333333</td>\n",
       "      <td>0.111111</td>\n",
       "      <td>0.666667</td>\n",
       "    </tr>\n",
       "    <tr>\n",
       "      <th>10</th>\n",
       "      <td>0.0</td>\n",
       "      <td>0.000032</td>\n",
       "      <td>0.808824</td>\n",
       "      <td>0.0</td>\n",
       "      <td>8.758722e-02</td>\n",
       "      <td>0.000000</td>\n",
       "      <td>0.285714</td>\n",
       "      <td>0.0</td>\n",
       "      <td>0.333333</td>\n",
       "      <td>0.000000</td>\n",
       "      <td>0.000000</td>\n",
       "    </tr>\n",
       "    <tr>\n",
       "      <th>11</th>\n",
       "      <td>0.0</td>\n",
       "      <td>0.000890</td>\n",
       "      <td>0.632353</td>\n",
       "      <td>0.0</td>\n",
       "      <td>3.854054e-05</td>\n",
       "      <td>0.294482</td>\n",
       "      <td>0.333333</td>\n",
       "      <td>0.0</td>\n",
       "      <td>0.333333</td>\n",
       "      <td>0.000000</td>\n",
       "      <td>0.666667</td>\n",
       "    </tr>\n",
       "    <tr>\n",
       "      <th>12</th>\n",
       "      <td>0.0</td>\n",
       "      <td>0.000099</td>\n",
       "      <td>0.838235</td>\n",
       "      <td>0.0</td>\n",
       "      <td>3.778920e-01</td>\n",
       "      <td>0.139958</td>\n",
       "      <td>0.476190</td>\n",
       "      <td>0.0</td>\n",
       "      <td>0.666667</td>\n",
       "      <td>0.000000</td>\n",
       "      <td>0.000000</td>\n",
       "    </tr>\n",
       "    <tr>\n",
       "      <th>13</th>\n",
       "      <td>0.0</td>\n",
       "      <td>0.000270</td>\n",
       "      <td>0.470588</td>\n",
       "      <td>0.0</td>\n",
       "      <td>3.457107e-05</td>\n",
       "      <td>0.228080</td>\n",
       "      <td>0.333333</td>\n",
       "      <td>0.0</td>\n",
       "      <td>0.000000</td>\n",
       "      <td>0.000000</td>\n",
       "      <td>0.000000</td>\n",
       "    </tr>\n",
       "    <tr>\n",
       "      <th>14</th>\n",
       "      <td>0.0</td>\n",
       "      <td>0.000360</td>\n",
       "      <td>0.323529</td>\n",
       "      <td>0.0</td>\n",
       "      <td>9.693130e-05</td>\n",
       "      <td>0.085012</td>\n",
       "      <td>0.333333</td>\n",
       "      <td>0.0</td>\n",
       "      <td>0.333333</td>\n",
       "      <td>0.000000</td>\n",
       "      <td>0.666667</td>\n",
       "    </tr>\n",
       "    <tr>\n",
       "      <th>15</th>\n",
       "      <td>0.0</td>\n",
       "      <td>0.000979</td>\n",
       "      <td>0.058824</td>\n",
       "      <td>0.0</td>\n",
       "      <td>1.209480e-05</td>\n",
       "      <td>0.008631</td>\n",
       "      <td>0.095238</td>\n",
       "      <td>0.0</td>\n",
       "      <td>0.000000</td>\n",
       "      <td>0.000000</td>\n",
       "      <td>0.000000</td>\n",
       "    </tr>\n",
       "    <tr>\n",
       "      <th>16</th>\n",
       "      <td>0.0</td>\n",
       "      <td>0.000326</td>\n",
       "      <td>0.323529</td>\n",
       "      <td>0.0</td>\n",
       "      <td>7.896554e-05</td>\n",
       "      <td>0.318793</td>\n",
       "      <td>0.476190</td>\n",
       "      <td>0.0</td>\n",
       "      <td>0.666667</td>\n",
       "      <td>0.000000</td>\n",
       "      <td>0.000000</td>\n",
       "    </tr>\n",
       "    <tr>\n",
       "      <th>17</th>\n",
       "      <td>1.0</td>\n",
       "      <td>0.000042</td>\n",
       "      <td>0.250000</td>\n",
       "      <td>0.0</td>\n",
       "      <td>8.737447e-05</td>\n",
       "      <td>0.077754</td>\n",
       "      <td>0.333333</td>\n",
       "      <td>0.0</td>\n",
       "      <td>0.333333</td>\n",
       "      <td>0.000000</td>\n",
       "      <td>0.666667</td>\n",
       "    </tr>\n",
       "    <tr>\n",
       "      <th>18</th>\n",
       "      <td>0.0</td>\n",
       "      <td>0.001623</td>\n",
       "      <td>0.264706</td>\n",
       "      <td>0.0</td>\n",
       "      <td>4.427168e-05</td>\n",
       "      <td>0.064795</td>\n",
       "      <td>0.190476</td>\n",
       "      <td>0.0</td>\n",
       "      <td>0.000000</td>\n",
       "      <td>0.000000</td>\n",
       "      <td>0.000000</td>\n",
       "    </tr>\n",
       "    <tr>\n",
       "      <th>19</th>\n",
       "      <td>0.0</td>\n",
       "      <td>0.000122</td>\n",
       "      <td>0.161765</td>\n",
       "      <td>0.0</td>\n",
       "      <td>1.570183e-05</td>\n",
       "      <td>0.205168</td>\n",
       "      <td>0.285714</td>\n",
       "      <td>0.0</td>\n",
       "      <td>0.000000</td>\n",
       "      <td>0.000000</td>\n",
       "      <td>0.000000</td>\n",
       "    </tr>\n",
       "    <tr>\n",
       "      <th>20</th>\n",
       "      <td>0.0</td>\n",
       "      <td>0.000076</td>\n",
       "      <td>0.544118</td>\n",
       "      <td>0.0</td>\n",
       "      <td>4.436685e-05</td>\n",
       "      <td>0.062618</td>\n",
       "      <td>0.428571</td>\n",
       "      <td>0.0</td>\n",
       "      <td>0.333333</td>\n",
       "      <td>0.000000</td>\n",
       "      <td>0.000000</td>\n",
       "    </tr>\n",
       "    <tr>\n",
       "      <th>21</th>\n",
       "      <td>1.0</td>\n",
       "      <td>0.000637</td>\n",
       "      <td>0.426471</td>\n",
       "      <td>0.0</td>\n",
       "      <td>2.929220e-04</td>\n",
       "      <td>0.121193</td>\n",
       "      <td>0.666667</td>\n",
       "      <td>0.0</td>\n",
       "      <td>1.000000</td>\n",
       "      <td>0.000000</td>\n",
       "      <td>0.333333</td>\n",
       "    </tr>\n",
       "    <tr>\n",
       "      <th>22</th>\n",
       "      <td>0.0</td>\n",
       "      <td>0.000056</td>\n",
       "      <td>0.705882</td>\n",
       "      <td>0.0</td>\n",
       "      <td>7.782418e-06</td>\n",
       "      <td>0.064795</td>\n",
       "      <td>0.809524</td>\n",
       "      <td>0.0</td>\n",
       "      <td>0.000000</td>\n",
       "      <td>0.000000</td>\n",
       "      <td>0.333333</td>\n",
       "    </tr>\n",
       "    <tr>\n",
       "      <th>23</th>\n",
       "      <td>0.0</td>\n",
       "      <td>0.000735</td>\n",
       "      <td>0.044118</td>\n",
       "      <td>0.0</td>\n",
       "      <td>2.159612e-06</td>\n",
       "      <td>0.088122</td>\n",
       "      <td>0.047619</td>\n",
       "      <td>0.0</td>\n",
       "      <td>0.000000</td>\n",
       "      <td>0.000000</td>\n",
       "      <td>0.000000</td>\n",
       "    </tr>\n",
       "    <tr>\n",
       "      <th>24</th>\n",
       "      <td>0.0</td>\n",
       "      <td>0.000638</td>\n",
       "      <td>0.544118</td>\n",
       "      <td>0.2</td>\n",
       "      <td>8.007758e-05</td>\n",
       "      <td>0.142550</td>\n",
       "      <td>0.714286</td>\n",
       "      <td>0.0</td>\n",
       "      <td>0.333333</td>\n",
       "      <td>0.000000</td>\n",
       "      <td>0.000000</td>\n",
       "    </tr>\n",
       "    <tr>\n",
       "      <th>25</th>\n",
       "      <td>0.0</td>\n",
       "      <td>0.001143</td>\n",
       "      <td>0.102941</td>\n",
       "      <td>0.1</td>\n",
       "      <td>2.849819e-05</td>\n",
       "      <td>0.108856</td>\n",
       "      <td>0.380952</td>\n",
       "      <td>0.0</td>\n",
       "      <td>0.000000</td>\n",
       "      <td>0.000000</td>\n",
       "      <td>0.000000</td>\n",
       "    </tr>\n",
       "    <tr>\n",
       "      <th>26</th>\n",
       "      <td>0.0</td>\n",
       "      <td>0.001623</td>\n",
       "      <td>0.044118</td>\n",
       "      <td>0.0</td>\n",
       "      <td>8.679821e-05</td>\n",
       "      <td>0.019439</td>\n",
       "      <td>0.047619</td>\n",
       "      <td>0.0</td>\n",
       "      <td>0.000000</td>\n",
       "      <td>0.000000</td>\n",
       "      <td>0.000000</td>\n",
       "    </tr>\n",
       "    <tr>\n",
       "      <th>27</th>\n",
       "      <td>0.0</td>\n",
       "      <td>0.000135</td>\n",
       "      <td>0.602941</td>\n",
       "      <td>0.0</td>\n",
       "      <td>1.793977e-01</td>\n",
       "      <td>0.139958</td>\n",
       "      <td>0.285714</td>\n",
       "      <td>0.0</td>\n",
       "      <td>0.333333</td>\n",
       "      <td>0.000000</td>\n",
       "      <td>0.000000</td>\n",
       "    </tr>\n",
       "    <tr>\n",
       "      <th>28</th>\n",
       "      <td>0.0</td>\n",
       "      <td>0.000303</td>\n",
       "      <td>0.529412</td>\n",
       "      <td>0.0</td>\n",
       "      <td>5.762253e-05</td>\n",
       "      <td>0.181427</td>\n",
       "      <td>0.428571</td>\n",
       "      <td>0.0</td>\n",
       "      <td>0.666667</td>\n",
       "      <td>0.000000</td>\n",
       "      <td>0.000000</td>\n",
       "    </tr>\n",
       "    <tr>\n",
       "      <th>29</th>\n",
       "      <td>0.0</td>\n",
       "      <td>0.001126</td>\n",
       "      <td>0.308824</td>\n",
       "      <td>0.2</td>\n",
       "      <td>4.732500e-05</td>\n",
       "      <td>0.057797</td>\n",
       "      <td>0.333333</td>\n",
       "      <td>0.0</td>\n",
       "      <td>0.000000</td>\n",
       "      <td>0.000000</td>\n",
       "      <td>0.000000</td>\n",
       "    </tr>\n",
       "    <tr>\n",
       "      <th>...</th>\n",
       "      <td>...</td>\n",
       "      <td>...</td>\n",
       "      <td>...</td>\n",
       "      <td>...</td>\n",
       "      <td>...</td>\n",
       "      <td>...</td>\n",
       "      <td>...</td>\n",
       "      <td>...</td>\n",
       "      <td>...</td>\n",
       "      <td>...</td>\n",
       "      <td>...</td>\n",
       "    </tr>\n",
       "    <tr>\n",
       "      <th>137744</th>\n",
       "      <td>0.0</td>\n",
       "      <td>0.000123</td>\n",
       "      <td>0.323529</td>\n",
       "      <td>0.0</td>\n",
       "      <td>3.627205e-05</td>\n",
       "      <td>0.380997</td>\n",
       "      <td>0.476190</td>\n",
       "      <td>0.0</td>\n",
       "      <td>1.000000</td>\n",
       "      <td>0.000000</td>\n",
       "      <td>0.666667</td>\n",
       "    </tr>\n",
       "    <tr>\n",
       "      <th>137745</th>\n",
       "      <td>0.0</td>\n",
       "      <td>0.000041</td>\n",
       "      <td>0.544118</td>\n",
       "      <td>0.0</td>\n",
       "      <td>4.661304e-05</td>\n",
       "      <td>0.401731</td>\n",
       "      <td>0.333333</td>\n",
       "      <td>0.0</td>\n",
       "      <td>0.666667</td>\n",
       "      <td>0.000000</td>\n",
       "      <td>0.666667</td>\n",
       "    </tr>\n",
       "    <tr>\n",
       "      <th>137746</th>\n",
       "      <td>0.0</td>\n",
       "      <td>0.000094</td>\n",
       "      <td>0.911765</td>\n",
       "      <td>0.0</td>\n",
       "      <td>2.570180e-06</td>\n",
       "      <td>0.129591</td>\n",
       "      <td>0.285714</td>\n",
       "      <td>0.0</td>\n",
       "      <td>0.000000</td>\n",
       "      <td>0.000000</td>\n",
       "      <td>0.000000</td>\n",
       "    </tr>\n",
       "    <tr>\n",
       "      <th>137747</th>\n",
       "      <td>0.0</td>\n",
       "      <td>0.000116</td>\n",
       "      <td>0.308824</td>\n",
       "      <td>0.0</td>\n",
       "      <td>1.586130e-06</td>\n",
       "      <td>0.180002</td>\n",
       "      <td>0.142857</td>\n",
       "      <td>0.0</td>\n",
       "      <td>0.000000</td>\n",
       "      <td>0.000000</td>\n",
       "      <td>0.333333</td>\n",
       "    </tr>\n",
       "    <tr>\n",
       "      <th>137748</th>\n",
       "      <td>0.0</td>\n",
       "      <td>0.001666</td>\n",
       "      <td>0.338235</td>\n",
       "      <td>0.0</td>\n",
       "      <td>9.085919e-05</td>\n",
       "      <td>0.142550</td>\n",
       "      <td>0.333333</td>\n",
       "      <td>0.0</td>\n",
       "      <td>0.333333</td>\n",
       "      <td>0.000000</td>\n",
       "      <td>0.333333</td>\n",
       "    </tr>\n",
       "    <tr>\n",
       "      <th>137749</th>\n",
       "      <td>0.0</td>\n",
       "      <td>0.001563</td>\n",
       "      <td>0.588235</td>\n",
       "      <td>0.2</td>\n",
       "      <td>1.108115e-04</td>\n",
       "      <td>0.129591</td>\n",
       "      <td>0.523810</td>\n",
       "      <td>0.0</td>\n",
       "      <td>0.333333</td>\n",
       "      <td>0.000000</td>\n",
       "      <td>0.000000</td>\n",
       "    </tr>\n",
       "    <tr>\n",
       "      <th>137750</th>\n",
       "      <td>0.0</td>\n",
       "      <td>0.000036</td>\n",
       "      <td>0.544118</td>\n",
       "      <td>0.0</td>\n",
       "      <td>4.987147e-01</td>\n",
       "      <td>0.139958</td>\n",
       "      <td>0.380952</td>\n",
       "      <td>0.0</td>\n",
       "      <td>0.666667</td>\n",
       "      <td>0.000000</td>\n",
       "      <td>0.000000</td>\n",
       "    </tr>\n",
       "    <tr>\n",
       "      <th>137751</th>\n",
       "      <td>0.0</td>\n",
       "      <td>0.000001</td>\n",
       "      <td>0.808824</td>\n",
       "      <td>0.0</td>\n",
       "      <td>1.101726e-02</td>\n",
       "      <td>0.139958</td>\n",
       "      <td>0.238095</td>\n",
       "      <td>0.0</td>\n",
       "      <td>0.000000</td>\n",
       "      <td>0.000000</td>\n",
       "      <td>0.000000</td>\n",
       "    </tr>\n",
       "    <tr>\n",
       "      <th>137752</th>\n",
       "      <td>0.0</td>\n",
       "      <td>0.000384</td>\n",
       "      <td>0.117647</td>\n",
       "      <td>0.0</td>\n",
       "      <td>6.408373e-02</td>\n",
       "      <td>0.139958</td>\n",
       "      <td>0.142857</td>\n",
       "      <td>0.0</td>\n",
       "      <td>0.000000</td>\n",
       "      <td>0.000000</td>\n",
       "      <td>0.000000</td>\n",
       "    </tr>\n",
       "    <tr>\n",
       "      <th>137753</th>\n",
       "      <td>0.0</td>\n",
       "      <td>0.001490</td>\n",
       "      <td>0.455882</td>\n",
       "      <td>0.2</td>\n",
       "      <td>4.764895e-05</td>\n",
       "      <td>0.064795</td>\n",
       "      <td>0.190476</td>\n",
       "      <td>0.0</td>\n",
       "      <td>0.000000</td>\n",
       "      <td>0.000000</td>\n",
       "      <td>0.000000</td>\n",
       "    </tr>\n",
       "    <tr>\n",
       "      <th>137754</th>\n",
       "      <td>1.0</td>\n",
       "      <td>0.000365</td>\n",
       "      <td>0.500000</td>\n",
       "      <td>0.0</td>\n",
       "      <td>1.050951e-05</td>\n",
       "      <td>0.225488</td>\n",
       "      <td>0.333333</td>\n",
       "      <td>0.0</td>\n",
       "      <td>0.000000</td>\n",
       "      <td>0.000000</td>\n",
       "      <td>0.000000</td>\n",
       "    </tr>\n",
       "    <tr>\n",
       "      <th>137755</th>\n",
       "      <td>0.0</td>\n",
       "      <td>0.000110</td>\n",
       "      <td>0.632353</td>\n",
       "      <td>0.0</td>\n",
       "      <td>4.681904e-05</td>\n",
       "      <td>0.143198</td>\n",
       "      <td>0.571429</td>\n",
       "      <td>0.0</td>\n",
       "      <td>0.333333</td>\n",
       "      <td>0.000000</td>\n",
       "      <td>0.000000</td>\n",
       "    </tr>\n",
       "    <tr>\n",
       "      <th>137756</th>\n",
       "      <td>0.0</td>\n",
       "      <td>0.000034</td>\n",
       "      <td>0.235294</td>\n",
       "      <td>0.0</td>\n",
       "      <td>4.595513e-05</td>\n",
       "      <td>0.071534</td>\n",
       "      <td>0.380952</td>\n",
       "      <td>0.0</td>\n",
       "      <td>0.000000</td>\n",
       "      <td>0.000000</td>\n",
       "      <td>1.000000</td>\n",
       "    </tr>\n",
       "    <tr>\n",
       "      <th>137757</th>\n",
       "      <td>0.0</td>\n",
       "      <td>0.000004</td>\n",
       "      <td>0.897059</td>\n",
       "      <td>0.0</td>\n",
       "      <td>1.468674e-07</td>\n",
       "      <td>0.129591</td>\n",
       "      <td>0.238095</td>\n",
       "      <td>0.0</td>\n",
       "      <td>0.000000</td>\n",
       "      <td>0.000000</td>\n",
       "      <td>0.000000</td>\n",
       "    </tr>\n",
       "    <tr>\n",
       "      <th>137758</th>\n",
       "      <td>0.0</td>\n",
       "      <td>0.000061</td>\n",
       "      <td>0.926471</td>\n",
       "      <td>0.0</td>\n",
       "      <td>4.590525e-03</td>\n",
       "      <td>0.139958</td>\n",
       "      <td>0.238095</td>\n",
       "      <td>0.0</td>\n",
       "      <td>0.000000</td>\n",
       "      <td>0.000000</td>\n",
       "      <td>0.000000</td>\n",
       "    </tr>\n",
       "    <tr>\n",
       "      <th>137759</th>\n",
       "      <td>0.0</td>\n",
       "      <td>0.001549</td>\n",
       "      <td>0.073529</td>\n",
       "      <td>0.0</td>\n",
       "      <td>5.966977e-05</td>\n",
       "      <td>0.050540</td>\n",
       "      <td>0.190476</td>\n",
       "      <td>0.0</td>\n",
       "      <td>0.000000</td>\n",
       "      <td>0.000000</td>\n",
       "      <td>0.000000</td>\n",
       "    </tr>\n",
       "    <tr>\n",
       "      <th>137760</th>\n",
       "      <td>0.0</td>\n",
       "      <td>0.000273</td>\n",
       "      <td>0.411765</td>\n",
       "      <td>0.0</td>\n",
       "      <td>1.476018e-05</td>\n",
       "      <td>0.129591</td>\n",
       "      <td>0.761905</td>\n",
       "      <td>0.0</td>\n",
       "      <td>0.000000</td>\n",
       "      <td>0.000000</td>\n",
       "      <td>0.333333</td>\n",
       "    </tr>\n",
       "    <tr>\n",
       "      <th>137761</th>\n",
       "      <td>0.0</td>\n",
       "      <td>0.001623</td>\n",
       "      <td>0.102941</td>\n",
       "      <td>0.0</td>\n",
       "      <td>1.022628e-05</td>\n",
       "      <td>0.084208</td>\n",
       "      <td>0.142857</td>\n",
       "      <td>0.1</td>\n",
       "      <td>0.000000</td>\n",
       "      <td>0.000000</td>\n",
       "      <td>0.000000</td>\n",
       "    </tr>\n",
       "    <tr>\n",
       "      <th>137762</th>\n",
       "      <td>0.0</td>\n",
       "      <td>0.001464</td>\n",
       "      <td>0.147059</td>\n",
       "      <td>0.1</td>\n",
       "      <td>6.388623e-05</td>\n",
       "      <td>0.194775</td>\n",
       "      <td>0.476190</td>\n",
       "      <td>0.0</td>\n",
       "      <td>0.333333</td>\n",
       "      <td>0.000000</td>\n",
       "      <td>0.000000</td>\n",
       "    </tr>\n",
       "    <tr>\n",
       "      <th>137763</th>\n",
       "      <td>0.0</td>\n",
       "      <td>0.000022</td>\n",
       "      <td>0.602941</td>\n",
       "      <td>0.0</td>\n",
       "      <td>2.585092e-07</td>\n",
       "      <td>0.239302</td>\n",
       "      <td>0.190476</td>\n",
       "      <td>0.0</td>\n",
       "      <td>0.000000</td>\n",
       "      <td>0.000000</td>\n",
       "      <td>1.000000</td>\n",
       "    </tr>\n",
       "    <tr>\n",
       "      <th>137764</th>\n",
       "      <td>0.0</td>\n",
       "      <td>0.000090</td>\n",
       "      <td>0.367647</td>\n",
       "      <td>0.0</td>\n",
       "      <td>1.119682e-04</td>\n",
       "      <td>0.112355</td>\n",
       "      <td>0.333333</td>\n",
       "      <td>0.0</td>\n",
       "      <td>0.333333</td>\n",
       "      <td>0.000000</td>\n",
       "      <td>0.666667</td>\n",
       "    </tr>\n",
       "    <tr>\n",
       "      <th>137765</th>\n",
       "      <td>0.0</td>\n",
       "      <td>0.000169</td>\n",
       "      <td>0.558824</td>\n",
       "      <td>0.0</td>\n",
       "      <td>8.770809e-05</td>\n",
       "      <td>0.267372</td>\n",
       "      <td>0.476190</td>\n",
       "      <td>0.0</td>\n",
       "      <td>0.666667</td>\n",
       "      <td>0.000000</td>\n",
       "      <td>0.000000</td>\n",
       "    </tr>\n",
       "    <tr>\n",
       "      <th>137766</th>\n",
       "      <td>0.0</td>\n",
       "      <td>0.001416</td>\n",
       "      <td>0.426471</td>\n",
       "      <td>0.0</td>\n",
       "      <td>7.587220e-01</td>\n",
       "      <td>0.139958</td>\n",
       "      <td>0.523810</td>\n",
       "      <td>0.0</td>\n",
       "      <td>0.333333</td>\n",
       "      <td>0.000000</td>\n",
       "      <td>1.000000</td>\n",
       "    </tr>\n",
       "    <tr>\n",
       "      <th>137767</th>\n",
       "      <td>0.0</td>\n",
       "      <td>0.001623</td>\n",
       "      <td>0.014706</td>\n",
       "      <td>0.0</td>\n",
       "      <td>0.000000e+00</td>\n",
       "      <td>0.021253</td>\n",
       "      <td>0.047619</td>\n",
       "      <td>0.0</td>\n",
       "      <td>0.000000</td>\n",
       "      <td>0.000000</td>\n",
       "      <td>0.000000</td>\n",
       "    </tr>\n",
       "    <tr>\n",
       "      <th>137768</th>\n",
       "      <td>0.0</td>\n",
       "      <td>0.000626</td>\n",
       "      <td>0.426471</td>\n",
       "      <td>0.0</td>\n",
       "      <td>7.423666e-05</td>\n",
       "      <td>0.088122</td>\n",
       "      <td>0.333333</td>\n",
       "      <td>0.0</td>\n",
       "      <td>0.000000</td>\n",
       "      <td>0.000000</td>\n",
       "      <td>0.000000</td>\n",
       "    </tr>\n",
       "    <tr>\n",
       "      <th>137769</th>\n",
       "      <td>0.0</td>\n",
       "      <td>0.000066</td>\n",
       "      <td>0.779412</td>\n",
       "      <td>0.0</td>\n",
       "      <td>4.133876e-05</td>\n",
       "      <td>0.054428</td>\n",
       "      <td>0.190476</td>\n",
       "      <td>0.0</td>\n",
       "      <td>0.333333</td>\n",
       "      <td>0.000000</td>\n",
       "      <td>0.000000</td>\n",
       "    </tr>\n",
       "    <tr>\n",
       "      <th>137770</th>\n",
       "      <td>0.0</td>\n",
       "      <td>0.000487</td>\n",
       "      <td>0.338235</td>\n",
       "      <td>0.0</td>\n",
       "      <td>1.315759e-04</td>\n",
       "      <td>0.144727</td>\n",
       "      <td>0.190476</td>\n",
       "      <td>0.0</td>\n",
       "      <td>0.333333</td>\n",
       "      <td>0.000000</td>\n",
       "      <td>0.666667</td>\n",
       "    </tr>\n",
       "    <tr>\n",
       "      <th>137771</th>\n",
       "      <td>0.0</td>\n",
       "      <td>0.000399</td>\n",
       "      <td>0.544118</td>\n",
       "      <td>0.0</td>\n",
       "      <td>7.106133e-01</td>\n",
       "      <td>0.139958</td>\n",
       "      <td>0.857143</td>\n",
       "      <td>0.0</td>\n",
       "      <td>0.333333</td>\n",
       "      <td>0.000000</td>\n",
       "      <td>0.000000</td>\n",
       "    </tr>\n",
       "    <tr>\n",
       "      <th>137772</th>\n",
       "      <td>0.0</td>\n",
       "      <td>0.000000</td>\n",
       "      <td>0.132353</td>\n",
       "      <td>0.0</td>\n",
       "      <td>0.000000e+00</td>\n",
       "      <td>0.148148</td>\n",
       "      <td>0.190476</td>\n",
       "      <td>0.0</td>\n",
       "      <td>0.000000</td>\n",
       "      <td>0.000000</td>\n",
       "      <td>0.000000</td>\n",
       "    </tr>\n",
       "    <tr>\n",
       "      <th>137773</th>\n",
       "      <td>0.0</td>\n",
       "      <td>0.001380</td>\n",
       "      <td>0.632353</td>\n",
       "      <td>0.0</td>\n",
       "      <td>4.588837e-05</td>\n",
       "      <td>0.211440</td>\n",
       "      <td>0.380952</td>\n",
       "      <td>0.0</td>\n",
       "      <td>0.666667</td>\n",
       "      <td>0.000000</td>\n",
       "      <td>0.000000</td>\n",
       "    </tr>\n",
       "  </tbody>\n",
       "</table>\n",
       "<p>137774 rows × 11 columns</p>\n",
       "</div>"
      ],
      "text/plain": [
       "        SeriousDlqin2yrs  RevolvingUtilizationOfUnsecuredLines       age  \\\n",
       "0                    0.0                              0.001554  0.279412   \n",
       "1                    0.0                              0.001068  0.250000   \n",
       "2                    0.0                              0.000380  0.132353   \n",
       "3                    0.0                              0.000346  0.779412   \n",
       "4                    0.0                              0.001225  0.264706   \n",
       "5                    0.0                              0.000190  0.088235   \n",
       "6                    0.0                              0.001046  0.132353   \n",
       "7                    0.0                              0.000031  0.441176   \n",
       "8                    0.0                              0.000017  0.367647   \n",
       "9                    1.0                              0.001566  0.279412   \n",
       "10                   0.0                              0.000032  0.808824   \n",
       "11                   0.0                              0.000890  0.632353   \n",
       "12                   0.0                              0.000099  0.838235   \n",
       "13                   0.0                              0.000270  0.470588   \n",
       "14                   0.0                              0.000360  0.323529   \n",
       "15                   0.0                              0.000979  0.058824   \n",
       "16                   0.0                              0.000326  0.323529   \n",
       "17                   1.0                              0.000042  0.250000   \n",
       "18                   0.0                              0.001623  0.264706   \n",
       "19                   0.0                              0.000122  0.161765   \n",
       "20                   0.0                              0.000076  0.544118   \n",
       "21                   1.0                              0.000637  0.426471   \n",
       "22                   0.0                              0.000056  0.705882   \n",
       "23                   0.0                              0.000735  0.044118   \n",
       "24                   0.0                              0.000638  0.544118   \n",
       "25                   0.0                              0.001143  0.102941   \n",
       "26                   0.0                              0.001623  0.044118   \n",
       "27                   0.0                              0.000135  0.602941   \n",
       "28                   0.0                              0.000303  0.529412   \n",
       "29                   0.0                              0.001126  0.308824   \n",
       "...                  ...                                   ...       ...   \n",
       "137744               0.0                              0.000123  0.323529   \n",
       "137745               0.0                              0.000041  0.544118   \n",
       "137746               0.0                              0.000094  0.911765   \n",
       "137747               0.0                              0.000116  0.308824   \n",
       "137748               0.0                              0.001666  0.338235   \n",
       "137749               0.0                              0.001563  0.588235   \n",
       "137750               0.0                              0.000036  0.544118   \n",
       "137751               0.0                              0.000001  0.808824   \n",
       "137752               0.0                              0.000384  0.117647   \n",
       "137753               0.0                              0.001490  0.455882   \n",
       "137754               1.0                              0.000365  0.500000   \n",
       "137755               0.0                              0.000110  0.632353   \n",
       "137756               0.0                              0.000034  0.235294   \n",
       "137757               0.0                              0.000004  0.897059   \n",
       "137758               0.0                              0.000061  0.926471   \n",
       "137759               0.0                              0.001549  0.073529   \n",
       "137760               0.0                              0.000273  0.411765   \n",
       "137761               0.0                              0.001623  0.102941   \n",
       "137762               0.0                              0.001464  0.147059   \n",
       "137763               0.0                              0.000022  0.602941   \n",
       "137764               0.0                              0.000090  0.367647   \n",
       "137765               0.0                              0.000169  0.558824   \n",
       "137766               0.0                              0.001416  0.426471   \n",
       "137767               0.0                              0.001623  0.014706   \n",
       "137768               0.0                              0.000626  0.426471   \n",
       "137769               0.0                              0.000066  0.779412   \n",
       "137770               0.0                              0.000487  0.338235   \n",
       "137771               0.0                              0.000399  0.544118   \n",
       "137772               0.0                              0.000000  0.132353   \n",
       "137773               0.0                              0.001380  0.632353   \n",
       "\n",
       "        NumberOfTime30-59DaysPastDueNotWorse     DebtRatio  MonthlyIncome  \\\n",
       "0                                        0.0  2.237903e-05       0.067387   \n",
       "1                                        0.1  1.562860e-05       0.078843   \n",
       "2                                        0.0  6.619479e-06       0.085530   \n",
       "3                                        0.0  6.896933e-05       0.090714   \n",
       "4                                        0.0  3.854940e-05       0.090714   \n",
       "5                                        0.0  8.446566e-03       0.139958   \n",
       "6                                        0.0  5.682633e-05       0.064795   \n",
       "7                                        0.0  9.759985e-05       0.168494   \n",
       "8                                        0.0  5.478408e-05       0.322785   \n",
       "9                                        0.3  7.032037e-05       0.355079   \n",
       "10                                       0.0  8.758722e-02       0.000000   \n",
       "11                                       0.0  3.854054e-05       0.294482   \n",
       "12                                       0.0  3.778920e-01       0.139958   \n",
       "13                                       0.0  3.457107e-05       0.228080   \n",
       "14                                       0.0  9.693130e-05       0.085012   \n",
       "15                                       0.0  1.209480e-05       0.008631   \n",
       "16                                       0.0  7.896554e-05       0.318793   \n",
       "17                                       0.0  8.737447e-05       0.077754   \n",
       "18                                       0.0  4.427168e-05       0.064795   \n",
       "19                                       0.0  1.570183e-05       0.205168   \n",
       "20                                       0.0  4.436685e-05       0.062618   \n",
       "21                                       0.0  2.929220e-04       0.121193   \n",
       "22                                       0.0  7.782418e-06       0.064795   \n",
       "23                                       0.0  2.159612e-06       0.088122   \n",
       "24                                       0.2  8.007758e-05       0.142550   \n",
       "25                                       0.1  2.849819e-05       0.108856   \n",
       "26                                       0.0  8.679821e-05       0.019439   \n",
       "27                                       0.0  1.793977e-01       0.139958   \n",
       "28                                       0.0  5.762253e-05       0.181427   \n",
       "29                                       0.2  4.732500e-05       0.057797   \n",
       "...                                      ...           ...            ...   \n",
       "137744                                   0.0  3.627205e-05       0.380997   \n",
       "137745                                   0.0  4.661304e-05       0.401731   \n",
       "137746                                   0.0  2.570180e-06       0.129591   \n",
       "137747                                   0.0  1.586130e-06       0.180002   \n",
       "137748                                   0.0  9.085919e-05       0.142550   \n",
       "137749                                   0.2  1.108115e-04       0.129591   \n",
       "137750                                   0.0  4.987147e-01       0.139958   \n",
       "137751                                   0.0  1.101726e-02       0.139958   \n",
       "137752                                   0.0  6.408373e-02       0.139958   \n",
       "137753                                   0.2  4.764895e-05       0.064795   \n",
       "137754                                   0.0  1.050951e-05       0.225488   \n",
       "137755                                   0.0  4.681904e-05       0.143198   \n",
       "137756                                   0.0  4.595513e-05       0.071534   \n",
       "137757                                   0.0  1.468674e-07       0.129591   \n",
       "137758                                   0.0  4.590525e-03       0.139958   \n",
       "137759                                   0.0  5.966977e-05       0.050540   \n",
       "137760                                   0.0  1.476018e-05       0.129591   \n",
       "137761                                   0.0  1.022628e-05       0.084208   \n",
       "137762                                   0.1  6.388623e-05       0.194775   \n",
       "137763                                   0.0  2.585092e-07       0.239302   \n",
       "137764                                   0.0  1.119682e-04       0.112355   \n",
       "137765                                   0.0  8.770809e-05       0.267372   \n",
       "137766                                   0.0  7.587220e-01       0.139958   \n",
       "137767                                   0.0  0.000000e+00       0.021253   \n",
       "137768                                   0.0  7.423666e-05       0.088122   \n",
       "137769                                   0.0  4.133876e-05       0.054428   \n",
       "137770                                   0.0  1.315759e-04       0.144727   \n",
       "137771                                   0.0  7.106133e-01       0.139958   \n",
       "137772                                   0.0  0.000000e+00       0.148148   \n",
       "137773                                   0.0  4.588837e-05       0.211440   \n",
       "\n",
       "        NumberOfOpenCreditLinesAndLoans  NumberOfTimes90DaysLate  \\\n",
       "0                              0.190476                      0.0   \n",
       "1                              0.095238                      0.1   \n",
       "2                              0.238095                      0.0   \n",
       "3                              0.142857                      0.0   \n",
       "4                              0.380952                      0.0   \n",
       "5                              0.095238                      0.0   \n",
       "6                              0.238095                      0.0   \n",
       "7                              0.333333                      0.0   \n",
       "8                              0.619048                      0.0   \n",
       "9                              0.428571                      0.3   \n",
       "10                             0.285714                      0.0   \n",
       "11                             0.333333                      0.0   \n",
       "12                             0.476190                      0.0   \n",
       "13                             0.333333                      0.0   \n",
       "14                             0.333333                      0.0   \n",
       "15                             0.095238                      0.0   \n",
       "16                             0.476190                      0.0   \n",
       "17                             0.333333                      0.0   \n",
       "18                             0.190476                      0.0   \n",
       "19                             0.285714                      0.0   \n",
       "20                             0.428571                      0.0   \n",
       "21                             0.666667                      0.0   \n",
       "22                             0.809524                      0.0   \n",
       "23                             0.047619                      0.0   \n",
       "24                             0.714286                      0.0   \n",
       "25                             0.380952                      0.0   \n",
       "26                             0.047619                      0.0   \n",
       "27                             0.285714                      0.0   \n",
       "28                             0.428571                      0.0   \n",
       "29                             0.333333                      0.0   \n",
       "...                                 ...                      ...   \n",
       "137744                         0.476190                      0.0   \n",
       "137745                         0.333333                      0.0   \n",
       "137746                         0.285714                      0.0   \n",
       "137747                         0.142857                      0.0   \n",
       "137748                         0.333333                      0.0   \n",
       "137749                         0.523810                      0.0   \n",
       "137750                         0.380952                      0.0   \n",
       "137751                         0.238095                      0.0   \n",
       "137752                         0.142857                      0.0   \n",
       "137753                         0.190476                      0.0   \n",
       "137754                         0.333333                      0.0   \n",
       "137755                         0.571429                      0.0   \n",
       "137756                         0.380952                      0.0   \n",
       "137757                         0.238095                      0.0   \n",
       "137758                         0.238095                      0.0   \n",
       "137759                         0.190476                      0.0   \n",
       "137760                         0.761905                      0.0   \n",
       "137761                         0.142857                      0.1   \n",
       "137762                         0.476190                      0.0   \n",
       "137763                         0.190476                      0.0   \n",
       "137764                         0.333333                      0.0   \n",
       "137765                         0.476190                      0.0   \n",
       "137766                         0.523810                      0.0   \n",
       "137767                         0.047619                      0.0   \n",
       "137768                         0.333333                      0.0   \n",
       "137769                         0.190476                      0.0   \n",
       "137770                         0.190476                      0.0   \n",
       "137771                         0.857143                      0.0   \n",
       "137772                         0.190476                      0.0   \n",
       "137773                         0.380952                      0.0   \n",
       "\n",
       "        NumberRealEstateLoansOrLines  NumberOfTime60-89DaysPastDueNotWorse  \\\n",
       "0                           0.000000                              0.000000   \n",
       "1                           0.000000                              0.000000   \n",
       "2                           0.000000                              0.000000   \n",
       "3                           0.333333                              0.000000   \n",
       "4                           0.000000                              0.000000   \n",
       "5                           0.000000                              0.000000   \n",
       "6                           0.000000                              0.000000   \n",
       "7                           0.666667                              0.000000   \n",
       "8                           0.666667                              0.000000   \n",
       "9                           0.333333                              0.111111   \n",
       "10                          0.333333                              0.000000   \n",
       "11                          0.333333                              0.000000   \n",
       "12                          0.666667                              0.000000   \n",
       "13                          0.000000                              0.000000   \n",
       "14                          0.333333                              0.000000   \n",
       "15                          0.000000                              0.000000   \n",
       "16                          0.666667                              0.000000   \n",
       "17                          0.333333                              0.000000   \n",
       "18                          0.000000                              0.000000   \n",
       "19                          0.000000                              0.000000   \n",
       "20                          0.333333                              0.000000   \n",
       "21                          1.000000                              0.000000   \n",
       "22                          0.000000                              0.000000   \n",
       "23                          0.000000                              0.000000   \n",
       "24                          0.333333                              0.000000   \n",
       "25                          0.000000                              0.000000   \n",
       "26                          0.000000                              0.000000   \n",
       "27                          0.333333                              0.000000   \n",
       "28                          0.666667                              0.000000   \n",
       "29                          0.000000                              0.000000   \n",
       "...                              ...                                   ...   \n",
       "137744                      1.000000                              0.000000   \n",
       "137745                      0.666667                              0.000000   \n",
       "137746                      0.000000                              0.000000   \n",
       "137747                      0.000000                              0.000000   \n",
       "137748                      0.333333                              0.000000   \n",
       "137749                      0.333333                              0.000000   \n",
       "137750                      0.666667                              0.000000   \n",
       "137751                      0.000000                              0.000000   \n",
       "137752                      0.000000                              0.000000   \n",
       "137753                      0.000000                              0.000000   \n",
       "137754                      0.000000                              0.000000   \n",
       "137755                      0.333333                              0.000000   \n",
       "137756                      0.000000                              0.000000   \n",
       "137757                      0.000000                              0.000000   \n",
       "137758                      0.000000                              0.000000   \n",
       "137759                      0.000000                              0.000000   \n",
       "137760                      0.000000                              0.000000   \n",
       "137761                      0.000000                              0.000000   \n",
       "137762                      0.333333                              0.000000   \n",
       "137763                      0.000000                              0.000000   \n",
       "137764                      0.333333                              0.000000   \n",
       "137765                      0.666667                              0.000000   \n",
       "137766                      0.333333                              0.000000   \n",
       "137767                      0.000000                              0.000000   \n",
       "137768                      0.000000                              0.000000   \n",
       "137769                      0.333333                              0.000000   \n",
       "137770                      0.333333                              0.000000   \n",
       "137771                      0.333333                              0.000000   \n",
       "137772                      0.000000                              0.000000   \n",
       "137773                      0.666667                              0.000000   \n",
       "\n",
       "        NumberOfDependents  \n",
       "0                 0.333333  \n",
       "1                 0.000000  \n",
       "2                 0.000000  \n",
       "3                 0.333333  \n",
       "4                 0.000000  \n",
       "5                 0.000000  \n",
       "6                 0.000000  \n",
       "7                 0.666667  \n",
       "8                 0.666667  \n",
       "9                 0.666667  \n",
       "10                0.000000  \n",
       "11                0.666667  \n",
       "12                0.000000  \n",
       "13                0.000000  \n",
       "14                0.666667  \n",
       "15                0.000000  \n",
       "16                0.000000  \n",
       "17                0.666667  \n",
       "18                0.000000  \n",
       "19                0.000000  \n",
       "20                0.000000  \n",
       "21                0.333333  \n",
       "22                0.333333  \n",
       "23                0.000000  \n",
       "24                0.000000  \n",
       "25                0.000000  \n",
       "26                0.000000  \n",
       "27                0.000000  \n",
       "28                0.000000  \n",
       "29                0.000000  \n",
       "...                    ...  \n",
       "137744            0.666667  \n",
       "137745            0.666667  \n",
       "137746            0.000000  \n",
       "137747            0.333333  \n",
       "137748            0.333333  \n",
       "137749            0.000000  \n",
       "137750            0.000000  \n",
       "137751            0.000000  \n",
       "137752            0.000000  \n",
       "137753            0.000000  \n",
       "137754            0.000000  \n",
       "137755            0.000000  \n",
       "137756            1.000000  \n",
       "137757            0.000000  \n",
       "137758            0.000000  \n",
       "137759            0.000000  \n",
       "137760            0.333333  \n",
       "137761            0.000000  \n",
       "137762            0.000000  \n",
       "137763            1.000000  \n",
       "137764            0.666667  \n",
       "137765            0.000000  \n",
       "137766            1.000000  \n",
       "137767            0.000000  \n",
       "137768            0.000000  \n",
       "137769            0.000000  \n",
       "137770            0.666667  \n",
       "137771            0.000000  \n",
       "137772            0.000000  \n",
       "137773            0.000000  \n",
       "\n",
       "[137774 rows x 11 columns]"
      ]
     },
     "execution_count": 30,
     "metadata": {},
     "output_type": "execute_result"
    }
   ],
   "source": [
    "scaled_df"
   ]
  },
  {
   "cell_type": "code",
   "execution_count": 31,
   "metadata": {
    "scrolled": true
   },
   "outputs": [
    {
     "name": "stderr",
     "output_type": "stream",
     "text": [
      "C:\\Users\\alexb\\AppData\\Local\\Continuum\\anaconda3\\lib\\site-packages\\scipy\\stats\\stats.py:1713: FutureWarning: Using a non-tuple sequence for multidimensional indexing is deprecated; use `arr[tuple(seq)]` instead of `arr[seq]`. In the future this will be interpreted as an array index, `arr[np.array(seq)]`, which will result either in an error or a different result.\n",
      "  return np.add.reduce(sorted[indexer] * weights, axis=axis) / sumval\n"
     ]
    },
    {
     "data": {
      "image/png": "[encoded data removed]",
      "text/plain": [
       "<Figure size 432x360 with 2 Axes>"
      ]
     },
     "metadata": {
      "needs_background": "light"
     },
     "output_type": "display_data"
    }
   ],
   "source": [
    "fig, (ax1, ax2) = plt.subplots(ncols=2, figsize=(6, 5))\n",
    "ax1.set_title('Before Scaling')\n",
    "sns.kdeplot(df_full['NumberOfTimes90DaysLate'], ax=ax1)\n",
    "sns.kdeplot(df_full['NumberRealEstateLoansOrLines'], ax=ax1)\n",
    "sns.kdeplot(df_full['age'], ax=ax1)\n",
    "ax2.set_title('After Min-Max Scaling')\n",
    "sns.kdeplot(scaled_df['NumberOfTimes90DaysLate'], ax=ax2)\n",
    "sns.kdeplot(scaled_df['NumberRealEstateLoansOrLines'], ax=ax2)\n",
    "sns.kdeplot(scaled_df['age'], ax=ax2)\n",
    "plt.show()"
   ]
  },
  {
   "cell_type": "markdown",
   "metadata": {},
   "source": [
    "Now all data points are scaled to the 0-1 range!"
   ]
  },
  {
   "cell_type": "markdown",
   "metadata": {},
   "source": [
    "Some algorithms, such as Regression, require data to be normally distributed. I will create this by applying various transforms to the features such as log, square root, or cube root."
   ]
  },
  {
   "cell_type": "code",
   "execution_count": 32,
   "metadata": {
    "scrolled": true
   },
   "outputs": [],
   "source": [
    "df_full2 = df_full[['RevolvingUtilizationOfUnsecuredLines','age','NumberOfTime30-59DaysPastDueNotWorse','DebtRatio','MonthlyIncome','NumberOfOpenCreditLinesAndLoans','NumberOfTimes90DaysLate','NumberRealEstateLoansOrLines','NumberOfTime60-89DaysPastDueNotWorse','NumberOfDependents']]\n",
    "bc = PowerTransformer(method='box-cox', standardize=False)\n",
    "yj = PowerTransformer(method='yeo-johnson', standardize=False)"
   ]
  },
  {
   "cell_type": "code",
   "execution_count": 33,
   "metadata": {
    "scrolled": true
   },
   "outputs": [],
   "source": [
    "norm_df = yj.fit_transform(df_full2)\n",
    "norm_df = pd.DataFrame(norm_df, columns=['RevolvingUtilizationOfUnsecuredLines','age','NumberOfTime30-59DaysPastDueNotWorse','DebtRatio','MonthlyIncome','NumberOfOpenCreditLinesAndLoans','NumberOfTimes90DaysLate','NumberRealEstateLoansOrLines','NumberOfTime60-89DaysPastDueNotWorse','NumberOfDependents'])"
   ]
  },
  {
   "cell_type": "code",
   "execution_count": 34,
   "metadata": {},
   "outputs": [],
   "source": [
    "norm_df = pd.merge(df_full[['SeriousDlqin2yrs']], norm_df, left_index=True, right_index= True)"
   ]
  },
  {
   "cell_type": "code",
   "execution_count": 35,
   "metadata": {},
   "outputs": [
    {
     "data": {
      "text/html": [
       "<div>\n",
       "<style scoped>\n",
       "    .dataframe tbody tr th:only-of-type {\n",
       "        vertical-align: middle;\n",
       "    }\n",
       "\n",
       "    .dataframe tbody tr th {\n",
       "        vertical-align: top;\n",
       "    }\n",
       "\n",
       "    .dataframe thead th {\n",
       "        text-align: right;\n",
       "    }\n",
       "</style>\n",
       "<table border=\"1\" class=\"dataframe\">\n",
       "  <thead>\n",
       "    <tr style=\"text-align: right;\">\n",
       "      <th></th>\n",
       "      <th>SeriousDlqin2yrs</th>\n",
       "      <th>RevolvingUtilizationOfUnsecuredLines</th>\n",
       "      <th>age</th>\n",
       "      <th>NumberOfTime30-59DaysPastDueNotWorse</th>\n",
       "      <th>DebtRatio</th>\n",
       "      <th>MonthlyIncome</th>\n",
       "      <th>NumberOfOpenCreditLinesAndLoans</th>\n",
       "      <th>NumberOfTimes90DaysLate</th>\n",
       "      <th>NumberRealEstateLoansOrLines</th>\n",
       "      <th>NumberOfTime60-89DaysPastDueNotWorse</th>\n",
       "      <th>NumberOfDependents</th>\n",
       "    </tr>\n",
       "  </thead>\n",
       "  <tbody>\n",
       "    <tr>\n",
       "      <th>count</th>\n",
       "      <td>126554.000000</td>\n",
       "      <td>126554.000000</td>\n",
       "      <td>126554.000000</td>\n",
       "      <td>126554.000000</td>\n",
       "      <td>126554.000000</td>\n",
       "      <td>126554.000000</td>\n",
       "      <td>126554.000000</td>\n",
       "      <td>126554.000000</td>\n",
       "      <td>126554.000000</td>\n",
       "      <td>126554.000000</td>\n",
       "      <td>126554.000000</td>\n",
       "    </tr>\n",
       "    <tr>\n",
       "      <th>mean</th>\n",
       "      <td>0.063672</td>\n",
       "      <td>0.149191</td>\n",
       "      <td>20.878914</td>\n",
       "      <td>0.021390</td>\n",
       "      <td>0.480863</td>\n",
       "      <td>131.322010</td>\n",
       "      <td>3.772855</td>\n",
       "      <td>0.002720</td>\n",
       "      <td>0.521446</td>\n",
       "      <td>0.001924</td>\n",
       "      <td>0.171368</td>\n",
       "    </tr>\n",
       "    <tr>\n",
       "      <th>std</th>\n",
       "      <td>0.244169</td>\n",
       "      <td>0.126052</td>\n",
       "      <td>4.359937</td>\n",
       "      <td>0.049982</td>\n",
       "      <td>0.508651</td>\n",
       "      <td>40.933351</td>\n",
       "      <td>1.493157</td>\n",
       "      <td>0.011299</td>\n",
       "      <td>0.450670</td>\n",
       "      <td>0.008488</td>\n",
       "      <td>0.221967</td>\n",
       "    </tr>\n",
       "    <tr>\n",
       "      <th>min</th>\n",
       "      <td>0.000000</td>\n",
       "      <td>-0.000000</td>\n",
       "      <td>10.792723</td>\n",
       "      <td>-0.000000</td>\n",
       "      <td>-0.000000</td>\n",
       "      <td>0.000000</td>\n",
       "      <td>0.000000</td>\n",
       "      <td>-0.000000</td>\n",
       "      <td>-0.000000</td>\n",
       "      <td>-0.000000</td>\n",
       "      <td>-0.000000</td>\n",
       "    </tr>\n",
       "    <tr>\n",
       "      <th>25%</th>\n",
       "      <td>0.000000</td>\n",
       "      <td>0.027714</td>\n",
       "      <td>17.682764</td>\n",
       "      <td>-0.000000</td>\n",
       "      <td>0.148763</td>\n",
       "      <td>110.449542</td>\n",
       "      <td>2.884606</td>\n",
       "      <td>-0.000000</td>\n",
       "      <td>-0.000000</td>\n",
       "      <td>-0.000000</td>\n",
       "      <td>-0.000000</td>\n",
       "    </tr>\n",
       "    <tr>\n",
       "      <th>50%</th>\n",
       "      <td>0.000000</td>\n",
       "      <td>0.118520</td>\n",
       "      <td>21.016471</td>\n",
       "      <td>-0.000000</td>\n",
       "      <td>0.276712</td>\n",
       "      <td>131.362228</td>\n",
       "      <td>3.635404</td>\n",
       "      <td>-0.000000</td>\n",
       "      <td>0.679993</td>\n",
       "      <td>-0.000000</td>\n",
       "      <td>-0.000000</td>\n",
       "    </tr>\n",
       "    <tr>\n",
       "      <th>75%</th>\n",
       "      <td>0.000000</td>\n",
       "      <td>0.275014</td>\n",
       "      <td>24.141101</td>\n",
       "      <td>-0.000000</td>\n",
       "      <td>0.504286</td>\n",
       "      <td>149.861315</td>\n",
       "      <td>4.892751</td>\n",
       "      <td>-0.000000</td>\n",
       "      <td>0.679993</td>\n",
       "      <td>-0.000000</td>\n",
       "      <td>0.402234</td>\n",
       "    </tr>\n",
       "    <tr>\n",
       "      <th>max</th>\n",
       "      <td>1.000000</td>\n",
       "      <td>0.425704</td>\n",
       "      <td>30.933683</td>\n",
       "      <td>0.138831</td>\n",
       "      <td>1.492729</td>\n",
       "      <td>344.361404</td>\n",
       "      <td>7.312339</td>\n",
       "      <td>0.049660</td>\n",
       "      <td>1.334339</td>\n",
       "      <td>0.039379</td>\n",
       "      <td>0.522334</td>\n",
       "    </tr>\n",
       "  </tbody>\n",
       "</table>\n",
       "</div>"
      ],
      "text/plain": [
       "       SeriousDlqin2yrs  RevolvingUtilizationOfUnsecuredLines            age  \\\n",
       "count     126554.000000                         126554.000000  126554.000000   \n",
       "mean           0.063672                              0.149191      20.878914   \n",
       "std            0.244169                              0.126052       4.359937   \n",
       "min            0.000000                             -0.000000      10.792723   \n",
       "25%            0.000000                              0.027714      17.682764   \n",
       "50%            0.000000                              0.118520      21.016471   \n",
       "75%            0.000000                              0.275014      24.141101   \n",
       "max            1.000000                              0.425704      30.933683   \n",
       "\n",
       "       NumberOfTime30-59DaysPastDueNotWorse      DebtRatio  MonthlyIncome  \\\n",
       "count                         126554.000000  126554.000000  126554.000000   \n",
       "mean                               0.021390       0.480863     131.322010   \n",
       "std                                0.049982       0.508651      40.933351   \n",
       "min                               -0.000000      -0.000000       0.000000   \n",
       "25%                               -0.000000       0.148763     110.449542   \n",
       "50%                               -0.000000       0.276712     131.362228   \n",
       "75%                               -0.000000       0.504286     149.861315   \n",
       "max                                0.138831       1.492729     344.361404   \n",
       "\n",
       "       NumberOfOpenCreditLinesAndLoans  NumberOfTimes90DaysLate  \\\n",
       "count                    126554.000000            126554.000000   \n",
       "mean                          3.772855                 0.002720   \n",
       "std                           1.493157                 0.011299   \n",
       "min                           0.000000                -0.000000   \n",
       "25%                           2.884606                -0.000000   \n",
       "50%                           3.635404                -0.000000   \n",
       "75%                           4.892751                -0.000000   \n",
       "max                           7.312339                 0.049660   \n",
       "\n",
       "       NumberRealEstateLoansOrLines  NumberOfTime60-89DaysPastDueNotWorse  \\\n",
       "count                 126554.000000                         126554.000000   \n",
       "mean                       0.521446                              0.001924   \n",
       "std                        0.450670                              0.008488   \n",
       "min                       -0.000000                             -0.000000   \n",
       "25%                       -0.000000                             -0.000000   \n",
       "50%                        0.679993                             -0.000000   \n",
       "75%                        0.679993                             -0.000000   \n",
       "max                        1.334339                              0.039379   \n",
       "\n",
       "       NumberOfDependents  \n",
       "count       126554.000000  \n",
       "mean             0.171368  \n",
       "std              0.221967  \n",
       "min             -0.000000  \n",
       "25%             -0.000000  \n",
       "50%             -0.000000  \n",
       "75%              0.402234  \n",
       "max              0.522334  "
      ]
     },
     "execution_count": 35,
     "metadata": {},
     "output_type": "execute_result"
    }
   ],
   "source": [
    "norm_df.describe()"
   ]
  },
  {
   "cell_type": "code",
   "execution_count": 36,
   "metadata": {},
   "outputs": [
    {
     "name": "stderr",
     "output_type": "stream",
     "text": [
      "C:\\Users\\alexb\\AppData\\Local\\Continuum\\anaconda3\\lib\\site-packages\\scipy\\stats\\stats.py:1713: FutureWarning: Using a non-tuple sequence for multidimensional indexing is deprecated; use `arr[tuple(seq)]` instead of `arr[seq]`. In the future this will be interpreted as an array index, `arr[np.array(seq)]`, which will result either in an error or a different result.\n",
      "  return np.add.reduce(sorted[indexer] * weights, axis=axis) / sumval\n"
     ]
    },
    {
     "data": {
      "text/plain": [
       "<matplotlib.axes._subplots.AxesSubplot at 0x1bfae1db5f8>"
      ]
     },
     "execution_count": 36,
     "metadata": {},
     "output_type": "execute_result"
    },
    {
     "data": {
      "image/png": "[encoded data removed]",
      "text/plain": [
       "<Figure size 720x720 with 12 Axes>"
      ]
     },
     "metadata": {
      "needs_background": "light"
     },
     "output_type": "display_data"
    }
   ],
   "source": [
    "f, axes = plt.subplots(3, 4, figsize=(10, 10), sharex=False)\n",
    "sns.distplot( df_full2[\"NumberOfDependents\"] , color=\"olive\", ax=axes[0, 0])\n",
    "sns.distplot( df_full2[\"NumberOfTime30-59DaysPastDueNotWorse\"] , color=\"green\", ax=axes[0, 1])\n",
    "sns.distplot( df_full2[\"NumberOfOpenCreditLinesAndLoans\"] , color=\"red\", ax=axes[1, 0])\n",
    "sns.distplot( df_full2[\"NumberOfTimes90DaysLate\"] , color=\"blue\", ax=axes[1, 1])\n",
    "sns.distplot( df_full2[\"NumberRealEstateLoansOrLines\"] , color=\"teal\", ax=axes[2, 0])\n",
    "sns.distplot( df_full2[\"NumberOfTime60-89DaysPastDueNotWorse\"] , color=\"magenta\", ax=axes[2, 1])\n",
    "sns.distplot( df_full2[\"MonthlyIncome\"] , color=\"firebrick\", ax=axes[0, 2])\n",
    "sns.distplot( df_full2[\"age\"] , color=\"darkorange\", ax=axes[1, 2])\n",
    "sns.distplot( df_full2[\"RevolvingUtilizationOfUnsecuredLines\"] , color=\"darkorchid\", ax=axes[2, 2])\n",
    "sns.distplot( df_full2[\"DebtRatio\"] , color=\"goldenrod\", ax=axes[0, 3])"
   ]
  },
  {
   "cell_type": "code",
   "execution_count": 37,
   "metadata": {
    "scrolled": true
   },
   "outputs": [
    {
     "data": {
      "text/plain": [
       "<matplotlib.axes._subplots.AxesSubplot at 0x1bfb2ce7438>"
      ]
     },
     "execution_count": 37,
     "metadata": {},
     "output_type": "execute_result"
    },
    {
     "data": {
      "image/png": "[encoded data removed]",
      "text/plain": [
       "<Figure size 720x720 with 12 Axes>"
      ]
     },
     "metadata": {
      "needs_background": "light"
     },
     "output_type": "display_data"
    }
   ],
   "source": [
    "f, axes = plt.subplots(3, 4, figsize=(10, 10), sharex=False)\n",
    "sns.distplot( norm_df[\"NumberOfDependents\"] , color=\"olive\", ax=axes[0, 0])\n",
    "sns.distplot( norm_df[\"NumberOfTime30-59DaysPastDueNotWorse\"] , color=\"green\", ax=axes[0, 1])\n",
    "sns.distplot( norm_df[\"NumberOfOpenCreditLinesAndLoans\"] , color=\"red\", ax=axes[1, 0])\n",
    "sns.distplot( norm_df[\"NumberOfTimes90DaysLate\"] , color=\"blue\", ax=axes[1, 1])\n",
    "sns.distplot( norm_df[\"NumberRealEstateLoansOrLines\"] , color=\"teal\", ax=axes[2, 0])\n",
    "sns.distplot( norm_df[\"NumberOfTime60-89DaysPastDueNotWorse\"] , color=\"magenta\", ax=axes[2, 1])\n",
    "sns.distplot( norm_df[\"MonthlyIncome\"] , color=\"firebrick\", ax=axes[0, 2])\n",
    "sns.distplot( norm_df[\"age\"] , color=\"darkorange\", ax=axes[1, 2])\n",
    "sns.distplot( norm_df[\"RevolvingUtilizationOfUnsecuredLines\"] , color=\"darkorchid\", ax=axes[2, 2])\n",
    "sns.distplot( norm_df[\"DebtRatio\"] , color=\"goldenrod\", ax=axes[0, 3])"
   ]
  },
  {
   "cell_type": "markdown",
   "metadata": {},
   "source": [
    "As you can see, the yeo-johnson transform did imporve the data's normal distribution."
   ]
  },
  {
   "cell_type": "markdown",
   "metadata": {},
   "source": [
    "# Train/Validate Split"
   ]
  },
  {
   "cell_type": "code",
   "execution_count": 38,
   "metadata": {},
   "outputs": [],
   "source": [
    "columns=(['RevolvingUtilizationOfUnsecuredLines','age','NumberOfTime30-59DaysPastDueNotWorse','DebtRatio','MonthlyIncome','NumberOfOpenCreditLinesAndLoans','NumberOfTimes90DaysLate','NumberRealEstateLoansOrLines','NumberOfTime60-89DaysPastDueNotWorse','NumberOfDependents'])\n",
    "full_train_cols = pd.DataFrame(df_full, columns = columns)\n",
    "full_train_target = pd.DataFrame(df_full['SeriousDlqin2yrs'])\n",
    "#full, unscaled dataset split\n",
    "fullxTrain, fullxTest, fullyTrain, fullyTest = train_test_split(full_train_cols, full_train_target, test_size = 0.2)"
   ]
  },
  {
   "cell_type": "code",
   "execution_count": 39,
   "metadata": {},
   "outputs": [],
   "source": [
    "scaled_train_cols = pd.DataFrame(scaled_df, columns = columns)\n",
    "scaled_train_target = pd.DataFrame(scaled_df['SeriousDlqin2yrs'])\n",
    "#scaled dataset split\n",
    "scaledxTrain, scaledxTest, scaledyTrain, scaledyTest = train_test_split(scaled_train_cols, scaled_train_target, test_size = 0.2)"
   ]
  },
  {
   "cell_type": "code",
   "execution_count": 40,
   "metadata": {},
   "outputs": [],
   "source": [
    "norm_train_cols = pd.DataFrame(norm_df, columns = columns)\n",
    "norm_train_target = pd.DataFrame(norm_df['SeriousDlqin2yrs'])\n",
    "#normal distributed dataset split\n",
    "normxTrain, normxTest, normyTrain, normyTest = train_test_split(norm_train_cols, norm_train_target, test_size = 0.2)"
   ]
  },
  {
   "cell_type": "code",
   "execution_count": 41,
   "metadata": {
    "scrolled": true
   },
   "outputs": [
    {
     "name": "stdout",
     "output_type": "stream",
     "text": [
      "(110219, 10) (110219, 1)\n",
      "(27555, 10) (27555, 1)\n"
     ]
    }
   ],
   "source": [
    "print(fullxTrain.shape, fullyTrain.shape)\n",
    "print(fullxTest.shape, fullyTest.shape)"
   ]
  },
  {
   "cell_type": "code",
   "execution_count": 42,
   "metadata": {},
   "outputs": [
    {
     "name": "stdout",
     "output_type": "stream",
     "text": [
      "(110219, 10) (110219, 1)\n",
      "(27555, 10) (27555, 1)\n"
     ]
    }
   ],
   "source": [
    "print(scaledxTrain.shape, scaledyTrain.shape)\n",
    "print(scaledxTest.shape, scaledyTest.shape)"
   ]
  },
  {
   "cell_type": "code",
   "execution_count": 43,
   "metadata": {},
   "outputs": [
    {
     "name": "stdout",
     "output_type": "stream",
     "text": [
      "(101243, 10) (101243, 1)\n",
      "(25311, 10) (25311, 1)\n"
     ]
    }
   ],
   "source": [
    "print(normxTrain.shape, normyTrain.shape)\n",
    "print(normxTest.shape, normyTest.shape)"
   ]
  },
  {
   "cell_type": "code",
   "execution_count": 44,
   "metadata": {},
   "outputs": [
    {
     "name": "stdout",
     "output_type": "stream",
     "text": [
      "       RevolvingUtilizationOfUnsecuredLines            age  \\\n",
      "count                         110219.000000  110219.000000   \n",
      "mean                               0.384897      52.191328   \n",
      "std                                4.918786      14.786263   \n",
      "min                                0.000000      21.000000   \n",
      "25%                                0.028732      41.000000   \n",
      "50%                                0.148122      52.000000   \n",
      "75%                                0.555245      63.000000   \n",
      "max                              616.000000      89.000000   \n",
      "\n",
      "       NumberOfTime30-59DaysPastDueNotWorse      DebtRatio  MonthlyIncome  \\\n",
      "count                         110219.000000  110219.000000  110219.000000   \n",
      "mean                               0.236620     286.255332    5957.195547   \n",
      "std                                0.677742     813.476337    3736.191425   \n",
      "min                                0.000000       0.000000       0.000000   \n",
      "25%                                0.000000       0.168924    3800.000000   \n",
      "50%                                0.000000       0.357436    5400.000000   \n",
      "75%                                0.000000       0.840417    7078.000000   \n",
      "max                               10.000000    5446.000000   38583.000000   \n",
      "\n",
      "       NumberOfOpenCreditLinesAndLoans  NumberOfTimes90DaysLate  \\\n",
      "count                    110219.000000            110219.000000   \n",
      "mean                          7.979178                 0.090438   \n",
      "std                           4.422069                 0.466467   \n",
      "min                           0.000000                 0.000000   \n",
      "25%                           5.000000                 0.000000   \n",
      "50%                           7.000000                 0.000000   \n",
      "75%                          11.000000                 0.000000   \n",
      "max                          21.000000                10.000000   \n",
      "\n",
      "       NumberRealEstateLoansOrLines  NumberOfTime60-89DaysPastDueNotWorse  \\\n",
      "count                 110219.000000                         110219.000000   \n",
      "mean                       0.898448                              0.063619   \n",
      "std                        0.864121                              0.324499   \n",
      "min                        0.000000                              0.000000   \n",
      "25%                        0.000000                              0.000000   \n",
      "50%                        1.000000                              0.000000   \n",
      "75%                        1.000000                              0.000000   \n",
      "max                        3.000000                              9.000000   \n",
      "\n",
      "       NumberOfDependents  \n",
      "count       110219.000000  \n",
      "mean             0.639527  \n",
      "std              0.941150  \n",
      "min              0.000000  \n",
      "25%              0.000000  \n",
      "50%              0.000000  \n",
      "75%              1.000000  \n",
      "max              3.000000          SeriousDlqin2yrs\n",
      "count     110219.000000\n",
      "mean           0.063583\n",
      "std            0.244009\n",
      "min            0.000000\n",
      "25%            0.000000\n",
      "50%            0.000000\n",
      "75%            0.000000\n",
      "max            1.000000\n"
     ]
    }
   ],
   "source": [
    "print(fullxTrain.describe(), fullyTrain.describe())"
   ]
  },
  {
   "cell_type": "code",
   "execution_count": 45,
   "metadata": {},
   "outputs": [
    {
     "name": "stdout",
     "output_type": "stream",
     "text": [
      "       RevolvingUtilizationOfUnsecuredLines           age  \\\n",
      "count                          27555.000000  27555.000000   \n",
      "mean                               0.395991     52.146616   \n",
      "std                                5.608886     14.789171   \n",
      "min                                0.000000     21.000000   \n",
      "25%                                0.030464     41.000000   \n",
      "50%                                0.154623     52.000000   \n",
      "75%                                0.566433     63.000000   \n",
      "max                              601.000000     89.000000   \n",
      "\n",
      "       NumberOfTime30-59DaysPastDueNotWorse     DebtRatio  MonthlyIncome  \\\n",
      "count                          27555.000000  27555.000000   27555.000000   \n",
      "mean                               0.241263    285.674430    5921.811468   \n",
      "std                                0.685346    813.630837    3691.519406   \n",
      "min                                0.000000      0.000000       0.000000   \n",
      "25%                                0.000000      0.171957    3750.000000   \n",
      "50%                                0.000000      0.359408    5400.000000   \n",
      "75%                                0.000000      0.870194    7003.000000   \n",
      "max                               10.000000   5425.000000   38133.000000   \n",
      "\n",
      "       NumberOfOpenCreditLinesAndLoans  NumberOfTimes90DaysLate  \\\n",
      "count                     27555.000000             27555.000000   \n",
      "mean                          7.936926                 0.090619   \n",
      "std                           4.398973                 0.479330   \n",
      "min                           0.000000                 0.000000   \n",
      "25%                           5.000000                 0.000000   \n",
      "50%                           7.000000                 0.000000   \n",
      "75%                          11.000000                 0.000000   \n",
      "max                          21.000000                10.000000   \n",
      "\n",
      "       NumberRealEstateLoansOrLines  NumberOfTime60-89DaysPastDueNotWorse  \\\n",
      "count                  27555.000000                          27555.000000   \n",
      "mean                       0.898058                              0.067066   \n",
      "std                        0.864707                              0.332380   \n",
      "min                        0.000000                              0.000000   \n",
      "25%                        0.000000                              0.000000   \n",
      "50%                        1.000000                              0.000000   \n",
      "75%                        2.000000                              0.000000   \n",
      "max                        3.000000                              7.000000   \n",
      "\n",
      "       NumberOfDependents  \n",
      "count        27555.000000  \n",
      "mean             0.646852  \n",
      "std              0.939571  \n",
      "min              0.000000  \n",
      "25%              0.000000  \n",
      "50%              0.000000  \n",
      "75%              1.000000  \n",
      "max              3.000000          SeriousDlqin2yrs\n",
      "count      27555.000000\n",
      "mean           0.066050\n",
      "std            0.248373\n",
      "min            0.000000\n",
      "25%            0.000000\n",
      "50%            0.000000\n",
      "75%            0.000000\n",
      "max            1.000000\n"
     ]
    }
   ],
   "source": [
    "#print results\n",
    "print(fullxTest.describe(), fullyTest.describe())"
   ]
  },
  {
   "cell_type": "code",
   "execution_count": 46,
   "metadata": {},
   "outputs": [
    {
     "name": "stdout",
     "output_type": "stream",
     "text": [
      "       RevolvingUtilizationOfUnsecuredLines            age  \\\n",
      "count                         110219.000000  110219.000000   \n",
      "mean                               0.000634       0.458178   \n",
      "std                                0.008614       0.217504   \n",
      "min                                0.000000       0.000000   \n",
      "25%                                0.000047       0.294118   \n",
      "50%                                0.000243       0.455882   \n",
      "75%                                0.000908       0.617647   \n",
      "max                                1.000000       1.000000   \n",
      "\n",
      "       NumberOfTime30-59DaysPastDueNotWorse      DebtRatio  MonthlyIncome  \\\n",
      "count                         110219.000000  110219.000000  110219.000000   \n",
      "mean                               0.023685       0.052510       0.154229   \n",
      "std                                0.067782       0.149352       0.096741   \n",
      "min                                0.000000       0.000000       0.000000   \n",
      "25%                                0.000000       0.000031       0.098256   \n",
      "50%                                0.000000       0.000066       0.139958   \n",
      "75%                                0.000000       0.000155       0.183267   \n",
      "max                                1.000000       1.000000       1.000000   \n",
      "\n",
      "       NumberOfOpenCreditLinesAndLoans  NumberOfTimes90DaysLate  \\\n",
      "count                    110219.000000            110219.000000   \n",
      "mean                          0.379033                 0.009151   \n",
      "std                           0.210606                 0.047344   \n",
      "min                           0.000000                 0.000000   \n",
      "25%                           0.238095                 0.000000   \n",
      "50%                           0.333333                 0.000000   \n",
      "75%                           0.523810                 0.000000   \n",
      "max                           1.000000                 1.000000   \n",
      "\n",
      "       NumberRealEstateLoansOrLines  NumberOfTime60-89DaysPastDueNotWorse  \\\n",
      "count                 110219.000000                         110219.000000   \n",
      "mean                       0.299452                              0.007147   \n",
      "std                        0.288250                              0.036068   \n",
      "min                        0.000000                              0.000000   \n",
      "25%                        0.000000                              0.000000   \n",
      "50%                        0.333333                              0.000000   \n",
      "75%                        0.333333                              0.000000   \n",
      "max                        1.000000                              0.777778   \n",
      "\n",
      "       NumberOfDependents  \n",
      "count       110219.000000  \n",
      "mean             0.213436  \n",
      "std              0.313565  \n",
      "min              0.000000  \n",
      "25%              0.000000  \n",
      "50%              0.000000  \n",
      "75%              0.333333  \n",
      "max              1.000000          SeriousDlqin2yrs\n",
      "count     110219.000000\n",
      "mean           0.064617\n",
      "std            0.245850\n",
      "min            0.000000\n",
      "25%            0.000000\n",
      "50%            0.000000\n",
      "75%            0.000000\n",
      "max            1.000000\n",
      "       RevolvingUtilizationOfUnsecuredLines           age  \\\n",
      "count                          27555.000000  27555.000000   \n",
      "mean                               0.000607      0.460112   \n",
      "std                                0.006413      0.217244   \n",
      "min                                0.000000      0.000000   \n",
      "25%                                0.000047      0.294118   \n",
      "50%                                0.000240      0.455882   \n",
      "75%                                0.000890      0.617647   \n",
      "max                                0.733766      1.000000   \n",
      "\n",
      "       NumberOfTime30-59DaysPastDueNotWorse     DebtRatio  MonthlyIncome  \\\n",
      "count                          27555.000000  27555.000000   27555.000000   \n",
      "mean                               0.024036      0.052666       0.154166   \n",
      "std                                0.068506      0.149477       0.096060   \n",
      "min                                0.000000      0.000000       0.000000   \n",
      "25%                                0.000000      0.000032       0.097906   \n",
      "50%                                0.000000      0.000066       0.139958   \n",
      "75%                                0.000000      0.000157       0.182127   \n",
      "max                                1.000000      0.997980       0.997823   \n",
      "\n",
      "       NumberOfOpenCreditLinesAndLoans  NumberOfTimes90DaysLate  \\\n",
      "count                     27555.000000             27555.000000   \n",
      "mean                          0.381659                 0.008634   \n",
      "std                           0.209344                 0.045112   \n",
      "min                           0.000000                 0.000000   \n",
      "25%                           0.238095                 0.000000   \n",
      "50%                           0.333333                 0.000000   \n",
      "75%                           0.523810                 0.000000   \n",
      "max                           1.000000                 1.000000   \n",
      "\n",
      "       NumberRealEstateLoansOrLines  NumberOfTime60-89DaysPastDueNotWorse  \\\n",
      "count                  27555.000000                          27555.000000   \n",
      "mean                       0.299474                              0.007137   \n",
      "std                        0.287395                              0.036884   \n",
      "min                        0.000000                              0.000000   \n",
      "25%                        0.000000                              0.000000   \n",
      "50%                        0.333333                              0.000000   \n",
      "75%                        0.333333                              0.000000   \n",
      "max                        1.000000                              1.000000   \n",
      "\n",
      "       NumberOfDependents  \n",
      "count        27555.000000  \n",
      "mean             0.214577  \n",
      "std              0.313801  \n",
      "min              0.000000  \n",
      "25%              0.000000  \n",
      "50%              0.000000  \n",
      "75%              0.333333  \n",
      "max              1.000000          SeriousDlqin2yrs\n",
      "count      27555.000000\n",
      "mean           0.061913\n",
      "std            0.241001\n",
      "min            0.000000\n",
      "25%            0.000000\n",
      "50%            0.000000\n",
      "75%            0.000000\n",
      "max            1.000000\n"
     ]
    }
   ],
   "source": [
    "print(scaledxTrain.describe(), scaledyTrain.describe())\n",
    "#print results\n",
    "print(scaledxTest.describe(), scaledyTest.describe())"
   ]
  },
  {
   "cell_type": "code",
   "execution_count": 47,
   "metadata": {},
   "outputs": [
    {
     "name": "stdout",
     "output_type": "stream",
     "text": [
      "       RevolvingUtilizationOfUnsecuredLines            age  \\\n",
      "count                         101243.000000  101243.000000   \n",
      "mean                               0.148979      20.886210   \n",
      "std                                0.125990       4.355699   \n",
      "min                               -0.000000      10.792723   \n",
      "25%                                0.027600      17.682764   \n",
      "50%                                0.118021      21.016471   \n",
      "75%                                0.274826      24.141101   \n",
      "max                                0.425704      30.933683   \n",
      "\n",
      "       NumberOfTime30-59DaysPastDueNotWorse      DebtRatio  MonthlyIncome  \\\n",
      "count                         101243.000000  101243.000000  101243.000000   \n",
      "mean                               0.021313       0.482132     131.257763   \n",
      "std                                0.049908       0.509293      40.983619   \n",
      "min                               -0.000000      -0.000000       0.000000   \n",
      "25%                               -0.000000       0.148796     110.399258   \n",
      "50%                               -0.000000       0.277292     131.362228   \n",
      "75%                               -0.000000       0.507603     149.970946   \n",
      "max                                0.138831       1.492729     343.995227   \n",
      "\n",
      "       NumberOfOpenCreditLinesAndLoans  NumberOfTimes90DaysLate  \\\n",
      "count                    101243.000000            101243.000000   \n",
      "mean                          3.772071                 0.002710   \n",
      "std                           1.493576                 0.011279   \n",
      "min                           0.000000                -0.000000   \n",
      "25%                           2.884606                -0.000000   \n",
      "50%                           3.635404                -0.000000   \n",
      "75%                           4.892751                -0.000000   \n",
      "max                           7.312339                 0.049660   \n",
      "\n",
      "       NumberRealEstateLoansOrLines  NumberOfTime60-89DaysPastDueNotWorse  \\\n",
      "count                 101243.000000                         101243.000000   \n",
      "mean                       0.521254                              0.001902   \n",
      "std                        0.450730                              0.008443   \n",
      "min                       -0.000000                             -0.000000   \n",
      "25%                       -0.000000                             -0.000000   \n",
      "50%                        0.679993                             -0.000000   \n",
      "75%                        0.679993                             -0.000000   \n",
      "max                        1.334339                              0.039379   \n",
      "\n",
      "       NumberOfDependents  \n",
      "count       101243.000000  \n",
      "mean             0.171485  \n",
      "std              0.221974  \n",
      "min             -0.000000  \n",
      "25%             -0.000000  \n",
      "50%             -0.000000  \n",
      "75%              0.402234  \n",
      "max              0.522334          SeriousDlqin2yrs\n",
      "count     101243.000000\n",
      "mean           0.064113\n",
      "std            0.244955\n",
      "min            0.000000\n",
      "25%            0.000000\n",
      "50%            0.000000\n",
      "75%            0.000000\n",
      "max            1.000000\n",
      "       RevolvingUtilizationOfUnsecuredLines           age  \\\n",
      "count                          25311.000000  25311.000000   \n",
      "mean                               0.150037     20.849732   \n",
      "std                                0.126297      4.376814   \n",
      "min                               -0.000000     10.792723   \n",
      "25%                                0.028404     17.682764   \n",
      "50%                                0.120323     21.016471   \n",
      "75%                                0.276046     24.141101   \n",
      "max                                0.425704     30.933683   \n",
      "\n",
      "       NumberOfTime30-59DaysPastDueNotWorse     DebtRatio  MonthlyIncome  \\\n",
      "count                          25311.000000  25311.000000   25311.000000   \n",
      "mean                               0.021696      0.475786     131.578992   \n",
      "std                                0.050275      0.506051      40.731451   \n",
      "min                               -0.000000     -0.000000       0.000000   \n",
      "25%                               -0.000000      0.148731     110.449542   \n",
      "50%                               -0.000000      0.274548     131.362228   \n",
      "75%                               -0.000000      0.491549     149.432427   \n",
      "max                                0.138831      1.492725     344.361404   \n",
      "\n",
      "       NumberOfOpenCreditLinesAndLoans  NumberOfTimes90DaysLate  \\\n",
      "count                     25311.000000             25311.000000   \n",
      "mean                          3.775988                 0.002761   \n",
      "std                           1.491506                 0.011379   \n",
      "min                           0.000000                -0.000000   \n",
      "25%                           2.884606                -0.000000   \n",
      "50%                           3.635404                -0.000000   \n",
      "75%                           4.892751                -0.000000   \n",
      "max                           7.312339                 0.049660   \n",
      "\n",
      "       NumberRealEstateLoansOrLines  NumberOfTime60-89DaysPastDueNotWorse  \\\n",
      "count                  25311.000000                          25311.000000   \n",
      "mean                       0.522212                              0.002010   \n",
      "std                        0.450438                              0.008667   \n",
      "min                       -0.000000                             -0.000000   \n",
      "25%                       -0.000000                             -0.000000   \n",
      "50%                        0.679993                             -0.000000   \n",
      "75%                        0.679993                             -0.000000   \n",
      "max                        1.334339                              0.039379   \n",
      "\n",
      "       NumberOfDependents  \n",
      "count        25311.000000  \n",
      "mean             0.170901  \n",
      "std              0.221942  \n",
      "min             -0.000000  \n",
      "25%             -0.000000  \n",
      "50%             -0.000000  \n",
      "75%              0.402234  \n",
      "max              0.522334          SeriousDlqin2yrs\n",
      "count      25311.000000\n",
      "mean           0.061910\n",
      "std            0.240996\n",
      "min            0.000000\n",
      "25%            0.000000\n",
      "50%            0.000000\n",
      "75%            0.000000\n",
      "max            1.000000\n"
     ]
    }
   ],
   "source": [
    "print(normxTrain.describe(), normyTrain.describe())\n",
    "#print results\n",
    "print(normxTest.describe(), normyTest.describe())"
   ]
  },
  {
   "cell_type": "markdown",
   "metadata": {},
   "source": [
    "# Logistic Regression"
   ]
  },
  {
   "cell_type": "markdown",
   "metadata": {},
   "source": [
    "### Multi-collinearity analysis"
   ]
  },
  {
   "cell_type": "code",
   "execution_count": 48,
   "metadata": {
    "scrolled": true
   },
   "outputs": [
    {
     "name": "stderr",
     "output_type": "stream",
     "text": [
      "C:\\Users\\alexb\\AppData\\Local\\Continuum\\anaconda3\\lib\\site-packages\\statsmodels\\nonparametric\\kde.py:488: RuntimeWarning: invalid value encountered in true_divide\n",
      "  binned = fast_linbin(X, a, b, gridsize) / (delta * nobs)\n",
      "C:\\Users\\alexb\\AppData\\Local\\Continuum\\anaconda3\\lib\\site-packages\\statsmodels\\nonparametric\\kdetools.py:34: RuntimeWarning: invalid value encountered in double_scalars\n",
      "  FAC1 = 2*(np.pi*bw/RANGE)**2\n",
      "C:\\Users\\alexb\\AppData\\Local\\Continuum\\anaconda3\\lib\\site-packages\\numpy\\core\\fromnumeric.py:83: RuntimeWarning: invalid value encountered in reduce\n",
      "  return ufunc.reduce(obj, axis, dtype, out, **passkwargs)\n"
     ]
    },
    {
     "data": {
      "text/plain": [
       "<seaborn.axisgrid.PairGrid at 0x1bfb4366630>"
      ]
     },
     "execution_count": 48,
     "metadata": {},
     "output_type": "execute_result"
    },
    {
     "data": {
      "image/png": "[encoded data removed]",
      "text/plain": [
       "<Figure size 992.875x900 with 30 Axes>"
      ]
     },
     "metadata": {
      "needs_background": "light"
     },
     "output_type": "display_data"
    }
   ],
   "source": [
    "sns.pairplot(df_full.iloc[:,0:5], kind=\"scatter\", hue=\"SeriousDlqin2yrs\", markers=[\"o\", \"s\"], palette=\"Set2\")"
   ]
  },
  {
   "cell_type": "code",
   "execution_count": 49,
   "metadata": {},
   "outputs": [
    {
     "data": {
      "text/plain": [
       "<seaborn.axisgrid.PairGrid at 0x1bfba4cb320>"
      ]
     },
     "execution_count": 49,
     "metadata": {},
     "output_type": "execute_result"
    },
    {
     "data": {
      "image/png": "[encoded data removed]",
      "text/plain": [
       "<Figure size 1172.88x1080 with 42 Axes>"
      ]
     },
     "metadata": {
      "needs_background": "light"
     },
     "output_type": "display_data"
    }
   ],
   "source": [
    "r = np.r_[0, 5:10]\n",
    "sns.pairplot(df_full.iloc[:,r], kind=\"scatter\", hue=\"SeriousDlqin2yrs\", markers=[\"o\", \"s\"], palette=\"Set2\")"
   ]
  },
  {
   "cell_type": "code",
   "execution_count": 50,
   "metadata": {},
   "outputs": [
    {
     "data": {
      "text/plain": [
       "0    94752\n",
       "1     6491\n",
       "Name: SeriousDlqin2yrs, dtype: int64"
      ]
     },
     "execution_count": 50,
     "metadata": {},
     "output_type": "execute_result"
    }
   ],
   "source": [
    "normyTrain['SeriousDlqin2yrs'].value_counts()"
   ]
  },
  {
   "cell_type": "code",
   "execution_count": 51,
   "metadata": {},
   "outputs": [
    {
     "data": {
      "image/png": "[encoded data removed]",
      "text/plain": [
       "<Figure size 432x288 with 1 Axes>"
      ]
     },
     "metadata": {},
     "output_type": "display_data"
    }
   ],
   "source": [
    "sns.set(style=\"white\")\n",
    "sns.set(style=\"whitegrid\", color_codes=True)\n",
    "sns.countplot(x='SeriousDlqin2yrs', data=normyTrain, palette ='hls')\n",
    "plt.show()"
   ]
  },
  {
   "cell_type": "markdown",
   "metadata": {},
   "source": [
    "Dataset is largely non-defaulted loans, but hopefully we can draw some strong conclusions/patterns from the 6457 defaulted loans (\"1\")."
   ]
  },
  {
   "cell_type": "code",
   "execution_count": 52,
   "metadata": {},
   "outputs": [
    {
     "name": "stdout",
     "output_type": "stream",
     "text": [
      "percentage of default 6.411307448416187\n",
      "percentage of no default 93.58869255158382\n"
     ]
    }
   ],
   "source": [
    "count_default = len(normyTrain[normyTrain['SeriousDlqin2yrs']==1])\n",
    "count_no_default = len(normyTrain[normyTrain['SeriousDlqin2yrs']==0])\n",
    "pct_of_default = count_default/(count_default+count_no_default)\n",
    "print(\"percentage of default\", pct_of_default*100)\n",
    "pct_of_no_default = count_no_default/(count_default+count_no_default)\n",
    "print(\"percentage of no default\", pct_of_no_default*100)"
   ]
  },
  {
   "cell_type": "code",
   "execution_count": 53,
   "metadata": {
    "scrolled": true
   },
   "outputs": [
    {
     "data": {
      "text/html": [
       "<div>\n",
       "<style scoped>\n",
       "    .dataframe tbody tr th:only-of-type {\n",
       "        vertical-align: middle;\n",
       "    }\n",
       "\n",
       "    .dataframe tbody tr th {\n",
       "        vertical-align: top;\n",
       "    }\n",
       "\n",
       "    .dataframe thead th {\n",
       "        text-align: right;\n",
       "    }\n",
       "</style>\n",
       "<table border=\"1\" class=\"dataframe\">\n",
       "  <thead>\n",
       "    <tr style=\"text-align: right;\">\n",
       "      <th></th>\n",
       "      <th>RevolvingUtilizationOfUnsecuredLines</th>\n",
       "      <th>age</th>\n",
       "      <th>NumberOfTime30-59DaysPastDueNotWorse</th>\n",
       "      <th>DebtRatio</th>\n",
       "      <th>MonthlyIncome</th>\n",
       "      <th>NumberOfOpenCreditLinesAndLoans</th>\n",
       "      <th>NumberOfTimes90DaysLate</th>\n",
       "      <th>NumberRealEstateLoansOrLines</th>\n",
       "      <th>NumberOfTime60-89DaysPastDueNotWorse</th>\n",
       "      <th>NumberOfDependents</th>\n",
       "    </tr>\n",
       "    <tr>\n",
       "      <th>SeriousDlqin2yrs</th>\n",
       "      <th></th>\n",
       "      <th></th>\n",
       "      <th></th>\n",
       "      <th></th>\n",
       "      <th></th>\n",
       "      <th></th>\n",
       "      <th></th>\n",
       "      <th></th>\n",
       "      <th></th>\n",
       "      <th></th>\n",
       "    </tr>\n",
       "  </thead>\n",
       "  <tbody>\n",
       "    <tr>\n",
       "      <th>0</th>\n",
       "      <td>0.149296</td>\n",
       "      <td>20.878136</td>\n",
       "      <td>0.021434</td>\n",
       "      <td>0.481345</td>\n",
       "      <td>131.319332</td>\n",
       "      <td>3.772140</td>\n",
       "      <td>0.002724</td>\n",
       "      <td>0.521312</td>\n",
       "      <td>0.001931</td>\n",
       "      <td>0.171347</td>\n",
       "    </tr>\n",
       "    <tr>\n",
       "      <th>1</th>\n",
       "      <td>0.147644</td>\n",
       "      <td>20.890359</td>\n",
       "      <td>0.020734</td>\n",
       "      <td>0.473772</td>\n",
       "      <td>131.361394</td>\n",
       "      <td>3.783361</td>\n",
       "      <td>0.002656</td>\n",
       "      <td>0.523415</td>\n",
       "      <td>0.001808</td>\n",
       "      <td>0.171686</td>\n",
       "    </tr>\n",
       "  </tbody>\n",
       "</table>\n",
       "</div>"
      ],
      "text/plain": [
       "                  RevolvingUtilizationOfUnsecuredLines        age  \\\n",
       "SeriousDlqin2yrs                                                    \n",
       "0                                             0.149296  20.878136   \n",
       "1                                             0.147644  20.890359   \n",
       "\n",
       "                  NumberOfTime30-59DaysPastDueNotWorse  DebtRatio  \\\n",
       "SeriousDlqin2yrs                                                    \n",
       "0                                             0.021434   0.481345   \n",
       "1                                             0.020734   0.473772   \n",
       "\n",
       "                  MonthlyIncome  NumberOfOpenCreditLinesAndLoans  \\\n",
       "SeriousDlqin2yrs                                                   \n",
       "0                    131.319332                         3.772140   \n",
       "1                    131.361394                         3.783361   \n",
       "\n",
       "                  NumberOfTimes90DaysLate  NumberRealEstateLoansOrLines  \\\n",
       "SeriousDlqin2yrs                                                          \n",
       "0                                0.002724                      0.521312   \n",
       "1                                0.002656                      0.523415   \n",
       "\n",
       "                  NumberOfTime60-89DaysPastDueNotWorse  NumberOfDependents  \n",
       "SeriousDlqin2yrs                                                            \n",
       "0                                             0.001931            0.171347  \n",
       "1                                             0.001808            0.171686  "
      ]
     },
     "execution_count": 53,
     "metadata": {},
     "output_type": "execute_result"
    }
   ],
   "source": [
    "norm_df.groupby('SeriousDlqin2yrs').mean()"
   ]
  },
  {
   "cell_type": "code",
   "execution_count": 54,
   "metadata": {},
   "outputs": [],
   "source": [
    "logreg = LogisticRegression()"
   ]
  },
  {
   "cell_type": "code",
   "execution_count": 55,
   "metadata": {},
   "outputs": [
    {
     "name": "stderr",
     "output_type": "stream",
     "text": [
      "C:\\Users\\alexb\\AppData\\Local\\Continuum\\anaconda3\\lib\\site-packages\\sklearn\\linear_model\\logistic.py:433: FutureWarning: Default solver will be changed to 'lbfgs' in 0.22. Specify a solver to silence this warning.\n",
      "  FutureWarning)\n"
     ]
    },
    {
     "name": "stdout",
     "output_type": "stream",
     "text": [
      "[ True  True  True  True  True  True  True  True  True  True]\n",
      "[1 1 1 1 1 1 1 1 1 1]\n"
     ]
    }
   ],
   "source": [
    "rfe = RFE(logreg, 20)\n",
    "rfe = rfe.fit(normxTrain, normyTrain.values.ravel())\n",
    "print(rfe.support_)\n",
    "print(rfe.ranking_)"
   ]
  },
  {
   "cell_type": "markdown",
   "metadata": {},
   "source": [
    "Looks like every variable is considered a strong predictor, according to Recursive Feature Elimination (RFE)."
   ]
  },
  {
   "cell_type": "code",
   "execution_count": 56,
   "metadata": {},
   "outputs": [],
   "source": [
    "cols2 = ['RevolvingUtilizationOfUnsecuredLines','age','DebtRatio','MonthlyIncome','NumberOfOpenCreditLinesAndLoans','NumberRealEstateLoansOrLines','NumberOfTime60-89DaysPastDueNotWorse','NumberOfDependents']\n",
    "X = normxTrain[cols2]\n",
    "y = normyTrain['SeriousDlqin2yrs']"
   ]
  },
  {
   "cell_type": "code",
   "execution_count": 57,
   "metadata": {
    "scrolled": false
   },
   "outputs": [
    {
     "name": "stdout",
     "output_type": "stream",
     "text": [
      "Optimization terminated successfully.\n",
      "         Current function value: 0.243567\n",
      "         Iterations 7\n",
      "                                   Results: Logit\n",
      "=====================================================================================\n",
      "Model:                      Logit                  Pseudo R-squared:       -0.023    \n",
      "Dependent Variable:         SeriousDlqin2yrs       AIC:                    49334.9372\n",
      "Date:                       2019-10-22 21:30       BIC:                    49411.1394\n",
      "No. Observations:           101243                 Log-Likelihood:         -24659.   \n",
      "Df Model:                   7                      LL-Null:                -24110.   \n",
      "Df Residuals:               101235                 LLR p-value:            1.0000    \n",
      "Converged:                  1.0000                 Scale:                  1.0000    \n",
      "No. Iterations:             7.0000                                                   \n",
      "-------------------------------------------------------------------------------------\n",
      "                                      Coef.  Std.Err.    z     P>|z|   [0.025  0.975]\n",
      "-------------------------------------------------------------------------------------\n",
      "RevolvingUtilizationOfUnsecuredLines -1.7042   0.0969 -17.5789 0.0000 -1.8942 -1.5142\n",
      "age                                  -0.0743   0.0022 -34.1169 0.0000 -0.0785 -0.0700\n",
      "DebtRatio                            -0.1870   0.0264  -7.0832 0.0000 -0.2388 -0.1353\n",
      "MonthlyIncome                        -0.0043   0.0003 -13.7162 0.0000 -0.0049 -0.0037\n",
      "NumberOfOpenCreditLinesAndLoans      -0.0709   0.0096  -7.3488 0.0000 -0.0898 -0.0520\n",
      "NumberRealEstateLoansOrLines          0.1610   0.0330   4.8817 0.0000  0.0964  0.2257\n",
      "NumberOfTime60-89DaysPastDueNotWorse -1.8866   1.5869  -1.1888 0.2345 -4.9970  1.2237\n",
      "NumberOfDependents                   -0.2464   0.0595  -4.1388 0.0000 -0.3631 -0.1297\n",
      "=====================================================================================\n",
      "\n"
     ]
    }
   ],
   "source": [
    "logit_model=sm.Logit(y,X)\n",
    "result=logit_model.fit()\n",
    "print(result.summary2())"
   ]
  },
  {
   "cell_type": "code",
   "execution_count": 58,
   "metadata": {},
   "outputs": [
    {
     "name": "stderr",
     "output_type": "stream",
     "text": [
      "C:\\Users\\alexb\\AppData\\Local\\Continuum\\anaconda3\\lib\\site-packages\\sklearn\\linear_model\\logistic.py:433: FutureWarning: Default solver will be changed to 'lbfgs' in 0.22. Specify a solver to silence this warning.\n",
      "  FutureWarning)\n"
     ]
    },
    {
     "data": {
      "text/plain": [
       "LogisticRegression(C=1.0, class_weight=None, dual=False, fit_intercept=True,\n",
       "          intercept_scaling=1, max_iter=100, multi_class='warn',\n",
       "          n_jobs=None, penalty='l2', random_state=None, solver='warn',\n",
       "          tol=0.0001, verbose=0, warm_start=False)"
      ]
     },
     "execution_count": 58,
     "metadata": {},
     "output_type": "execute_result"
    }
   ],
   "source": [
    "logreg.fit(normxTrain,normyTrain.values.ravel())"
   ]
  },
  {
   "cell_type": "code",
   "execution_count": 63,
   "metadata": {},
   "outputs": [
    {
     "name": "stdout",
     "output_type": "stream",
     "text": [
      "Accuracy of logistic regression classifier on test set: 0.94\n"
     ]
    }
   ],
   "source": [
    "y_pred = logreg.predict(normxTest)\n",
    "print('Accuracy of logistic regression classifier on test set: {:.2f}'.format(logreg.score(normxTest, normyTest)))"
   ]
  },
  {
   "cell_type": "code",
   "execution_count": 60,
   "metadata": {},
   "outputs": [
    {
     "name": "stdout",
     "output_type": "stream",
     "text": [
      "[[23744     0]\n",
      " [ 1567     0]]\n"
     ]
    }
   ],
   "source": [
    "confusion_matrix = confusion_matrix(normyTest, y_pred)\n",
    "print(confusion_matrix)"
   ]
  },
  {
   "cell_type": "markdown",
   "metadata": {},
   "source": [
    "# Decision Tree"
   ]
  },
  {
   "cell_type": "markdown",
   "metadata": {},
   "source": [
    "# Random Forest"
   ]
  },
  {
   "cell_type": "markdown",
   "metadata": {},
   "source": [
    "# Support Vector Machines (SVM)"
   ]
  },
  {
   "cell_type": "markdown",
   "metadata": {},
   "source": [
    "# Artificial Neural Networks (ANN)"
   ]
  },
  {
   "cell_type": "markdown",
   "metadata": {},
   "source": [
    "# k-Nearest Neighbors (k-NN)"
   ]
  },
  {
   "cell_type": "markdown",
   "metadata": {},
   "source": [
    "# Stacked Ensemble Model"
   ]
  },
  {
   "cell_type": "markdown",
   "metadata": {},
   "source": [
    "# Comparison of All Models"
   ]
  },
  {
   "cell_type": "markdown",
   "metadata": {},
   "source": [
    "# References"
   ]
  }
 ],
 "metadata": {
  "kernelspec": {
   "display_name": "Python 3",
   "language": "python",
   "name": "python3"
  },
  "language_info": {
   "codemirror_mode": {
    "name": "ipython",
    "version": 3
   },
   "file_extension": ".py",
   "mimetype": "text/x-python",
   "name": "python",
   "nbconvert_exporter": "python",
   "pygments_lexer": "ipython3",
   "version": "3.7.1"
  }
 },
 "nbformat": 4,
 "nbformat_minor": 2
}
