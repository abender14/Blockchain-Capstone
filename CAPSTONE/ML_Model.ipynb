{
 "cells": [
  {
   "cell_type": "markdown",
   "metadata": {},
   "source": [
    "Importing the necessary Python libraries"
   ]
  },
  {
   "cell_type": "markdown",
   "metadata": {},
   "source": [
    "# Import Necessary Libraries"
   ]
  },
  {
   "cell_type": "code",
   "execution_count": 2,
   "metadata": {
    "collapsed": true
   },
   "outputs": [],
   "source": [
    "import pandas as pd\n",
    "import numpy as np\n",
    "from pandas import DataFrame\n",
    "import matplotlib.pyplot as plt\n",
    "from scipy import stats\n",
    "import seaborn as sns\n",
    "from sklearn.preprocessing import MinMaxScaler\n",
    "#from sklearn.preprocessing import PowerTransformer\n",
    "from sklearn.preprocessing import QuantileTransformer\n",
    "from sklearn.neighbors import KNeighborsClassifier\n",
    "from sklearn.svm import LinearSVC\n",
    "from sklearn.model_selection import KFold\n",
    "from sklearn.model_selection import train_test_split"
   ]
  },
  {
   "cell_type": "markdown",
   "metadata": {},
   "source": [
    "# Data Loading"
   ]
  },
  {
   "cell_type": "code",
   "execution_count": 3,
   "metadata": {
    "collapsed": true
   },
   "outputs": [],
   "source": [
    "train = pd.read_csv(\"cs-training.csv\", index_col = 0)\n",
    "test = pd.read_csv(\"cs-test.csv\", index_col = 0)"
   ]
  },
  {
   "cell_type": "code",
   "execution_count": 4,
   "metadata": {},
   "outputs": [
    {
     "name": "stdout",
     "output_type": "stream",
     "text": [
      "   SeriousDlqin2yrs  RevolvingUtilizationOfUnsecuredLines  age  \\\n",
      "1                 1                              0.766127   45   \n",
      "2                 0                              0.957151   40   \n",
      "3                 0                              0.658180   38   \n",
      "4                 0                              0.233810   30   \n",
      "5                 0                              0.907239   49   \n",
      "\n",
      "   NumberOfTime30-59DaysPastDueNotWorse  DebtRatio  MonthlyIncome  \\\n",
      "1                                     2   0.802982         9120.0   \n",
      "2                                     0   0.121876         2600.0   \n",
      "3                                     1   0.085113         3042.0   \n",
      "4                                     0   0.036050         3300.0   \n",
      "5                                     1   0.024926        63588.0   \n",
      "\n",
      "   NumberOfOpenCreditLinesAndLoans  NumberOfTimes90DaysLate  \\\n",
      "1                               13                        0   \n",
      "2                                4                        0   \n",
      "3                                2                        1   \n",
      "4                                5                        0   \n",
      "5                                7                        0   \n",
      "\n",
      "   NumberRealEstateLoansOrLines  NumberOfTime60-89DaysPastDueNotWorse  \\\n",
      "1                             6                                     0   \n",
      "2                             0                                     0   \n",
      "3                             0                                     0   \n",
      "4                             0                                     0   \n",
      "5                             1                                     0   \n",
      "\n",
      "   NumberOfDependents  \n",
      "1                 2.0  \n",
      "2                 1.0  \n",
      "3                 0.0  \n",
      "4                 0.0  \n",
      "5                 0.0  \n"
     ]
    }
   ],
   "source": [
    "print(train.head())"
   ]
  },
  {
   "cell_type": "code",
   "execution_count": 5,
   "metadata": {},
   "outputs": [
    {
     "name": "stdout",
     "output_type": "stream",
     "text": [
      "   SeriousDlqin2yrs  RevolvingUtilizationOfUnsecuredLines  age  \\\n",
      "1               NaN                              0.885519   43   \n",
      "2               NaN                              0.463295   57   \n",
      "3               NaN                              0.043275   59   \n",
      "4               NaN                              0.280308   38   \n",
      "5               NaN                              1.000000   27   \n",
      "\n",
      "   NumberOfTime30-59DaysPastDueNotWorse  DebtRatio  MonthlyIncome  \\\n",
      "1                                     0   0.177513         5700.0   \n",
      "2                                     0   0.527237         9141.0   \n",
      "3                                     0   0.687648         5083.0   \n",
      "4                                     1   0.925961         3200.0   \n",
      "5                                     0   0.019917         3865.0   \n",
      "\n",
      "   NumberOfOpenCreditLinesAndLoans  NumberOfTimes90DaysLate  \\\n",
      "1                                4                        0   \n",
      "2                               15                        0   \n",
      "3                               12                        0   \n",
      "4                                7                        0   \n",
      "5                                4                        0   \n",
      "\n",
      "   NumberRealEstateLoansOrLines  NumberOfTime60-89DaysPastDueNotWorse  \\\n",
      "1                             0                                     0   \n",
      "2                             4                                     0   \n",
      "3                             1                                     0   \n",
      "4                             2                                     0   \n",
      "5                             0                                     0   \n",
      "\n",
      "   NumberOfDependents  \n",
      "1                 0.0  \n",
      "2                 2.0  \n",
      "3                 2.0  \n",
      "4                 0.0  \n",
      "5                 1.0  \n"
     ]
    }
   ],
   "source": [
    "print(test.head())"
   ]
  },
  {
   "cell_type": "code",
   "execution_count": 6,
   "metadata": {},
   "outputs": [
    {
     "name": "stdout",
     "output_type": "stream",
     "text": [
      "       SeriousDlqin2yrs  RevolvingUtilizationOfUnsecuredLines            age  \\\n",
      "count     150000.000000                         150000.000000  150000.000000   \n",
      "mean           0.066840                              6.048438      52.295207   \n",
      "std            0.249746                            249.755371      14.771866   \n",
      "min            0.000000                              0.000000       0.000000   \n",
      "25%            0.000000                              0.029867      41.000000   \n",
      "50%            0.000000                              0.154181      52.000000   \n",
      "75%            0.000000                              0.559046      63.000000   \n",
      "max            1.000000                          50708.000000     109.000000   \n",
      "\n",
      "       NumberOfTime30-59DaysPastDueNotWorse      DebtRatio  MonthlyIncome  \\\n",
      "count                         150000.000000  150000.000000   1.202690e+05   \n",
      "mean                               0.421033     353.005076   6.670221e+03   \n",
      "std                                4.192781    2037.818523   1.438467e+04   \n",
      "min                                0.000000       0.000000   0.000000e+00   \n",
      "25%                                0.000000       0.175074   3.400000e+03   \n",
      "50%                                0.000000       0.366508   5.400000e+03   \n",
      "75%                                0.000000       0.868254   8.249000e+03   \n",
      "max                               98.000000  329664.000000   3.008750e+06   \n",
      "\n",
      "       NumberOfOpenCreditLinesAndLoans  NumberOfTimes90DaysLate  \\\n",
      "count                    150000.000000            150000.000000   \n",
      "mean                          8.452760                 0.265973   \n",
      "std                           5.145951                 4.169304   \n",
      "min                           0.000000                 0.000000   \n",
      "25%                           5.000000                 0.000000   \n",
      "50%                           8.000000                 0.000000   \n",
      "75%                          11.000000                 0.000000   \n",
      "max                          58.000000                98.000000   \n",
      "\n",
      "       NumberRealEstateLoansOrLines  NumberOfTime60-89DaysPastDueNotWorse  \\\n",
      "count                 150000.000000                         150000.000000   \n",
      "mean                       1.018240                              0.240387   \n",
      "std                        1.129771                              4.155179   \n",
      "min                        0.000000                              0.000000   \n",
      "25%                        0.000000                              0.000000   \n",
      "50%                        1.000000                              0.000000   \n",
      "75%                        2.000000                              0.000000   \n",
      "max                       54.000000                             98.000000   \n",
      "\n",
      "       NumberOfDependents  \n",
      "count       146076.000000  \n",
      "mean             0.757222  \n",
      "std              1.115086  \n",
      "min              0.000000  \n",
      "25%              0.000000  \n",
      "50%              0.000000  \n",
      "75%              1.000000  \n",
      "max             20.000000  \n"
     ]
    }
   ],
   "source": [
    "summary_df = train.describe()\n",
    "print(summary_df)"
   ]
  },
  {
   "cell_type": "code",
   "execution_count": 7,
   "metadata": {},
   "outputs": [
    {
     "name": "stdout",
     "output_type": "stream",
     "text": [
      "<class 'pandas.core.frame.DataFrame'>\n",
      "Int64Index: 150000 entries, 1 to 150000\n",
      "Data columns (total 11 columns):\n",
      "SeriousDlqin2yrs                        150000 non-null int64\n",
      "RevolvingUtilizationOfUnsecuredLines    150000 non-null float64\n",
      "age                                     150000 non-null int64\n",
      "NumberOfTime30-59DaysPastDueNotWorse    150000 non-null int64\n",
      "DebtRatio                               150000 non-null float64\n",
      "MonthlyIncome                           120269 non-null float64\n",
      "NumberOfOpenCreditLinesAndLoans         150000 non-null int64\n",
      "NumberOfTimes90DaysLate                 150000 non-null int64\n",
      "NumberRealEstateLoansOrLines            150000 non-null int64\n",
      "NumberOfTime60-89DaysPastDueNotWorse    150000 non-null int64\n",
      "NumberOfDependents                      146076 non-null float64\n",
      "dtypes: float64(4), int64(7)\n",
      "memory usage: 13.7 MB\n",
      "None\n"
     ]
    }
   ],
   "source": [
    "#print structure of data\n",
    "print(train.info())"
   ]
  },
  {
   "cell_type": "code",
   "execution_count": 8,
   "metadata": {},
   "outputs": [
    {
     "name": "stdout",
     "output_type": "stream",
     "text": [
      "SeriousDlqin2yrs                          int64\n",
      "RevolvingUtilizationOfUnsecuredLines    float64\n",
      "age                                       int64\n",
      "NumberOfTime30-59DaysPastDueNotWorse      int64\n",
      "DebtRatio                               float64\n",
      "MonthlyIncome                           float64\n",
      "NumberOfOpenCreditLinesAndLoans           int64\n",
      "NumberOfTimes90DaysLate                   int64\n",
      "NumberRealEstateLoansOrLines              int64\n",
      "NumberOfTime60-89DaysPastDueNotWorse      int64\n",
      "NumberOfDependents                      float64\n",
      "dtype: object\n"
     ]
    }
   ],
   "source": [
    "print(train.dtypes)"
   ]
  },
  {
   "cell_type": "markdown",
   "metadata": {},
   "source": [
    "# Data Description"
   ]
  },
  {
   "cell_type": "markdown",
   "metadata": {},
   "source": [
    "# Data Understanding"
   ]
  },
  {
   "cell_type": "markdown",
   "metadata": {},
   "source": [
    "# Plan of Attack"
   ]
  },
  {
   "cell_type": "markdown",
   "metadata": {},
   "source": [
    "# Data Cleansing"
   ]
  },
  {
   "cell_type": "markdown",
   "metadata": {},
   "source": [
    "### Remove Whitespace"
   ]
  },
  {
   "cell_type": "code",
   "execution_count": 9,
   "metadata": {
    "collapsed": true
   },
   "outputs": [],
   "source": [
    "#strip whitespace from entire data frame\n",
    "train = train.apply(lambda x: x.str.strip() if x.dtype == \"object\" else x)"
   ]
  },
  {
   "cell_type": "code",
   "execution_count": 10,
   "metadata": {},
   "outputs": [
    {
     "name": "stdout",
     "output_type": "stream",
     "text": [
      "   SeriousDlqin2yrs  RevolvingUtilizationOfUnsecuredLines  age  \\\n",
      "1                 1                              0.766127   45   \n",
      "2                 0                              0.957151   40   \n",
      "3                 0                              0.658180   38   \n",
      "4                 0                              0.233810   30   \n",
      "5                 0                              0.907239   49   \n",
      "\n",
      "   NumberOfTime30-59DaysPastDueNotWorse  DebtRatio  MonthlyIncome  \\\n",
      "1                                     2   0.802982         9120.0   \n",
      "2                                     0   0.121876         2600.0   \n",
      "3                                     1   0.085113         3042.0   \n",
      "4                                     0   0.036050         3300.0   \n",
      "5                                     1   0.024926        63588.0   \n",
      "\n",
      "   NumberOfOpenCreditLinesAndLoans  NumberOfTimes90DaysLate  \\\n",
      "1                               13                        0   \n",
      "2                                4                        0   \n",
      "3                                2                        1   \n",
      "4                                5                        0   \n",
      "5                                7                        0   \n",
      "\n",
      "   NumberRealEstateLoansOrLines  NumberOfTime60-89DaysPastDueNotWorse  \\\n",
      "1                             6                                     0   \n",
      "2                             0                                     0   \n",
      "3                             0                                     0   \n",
      "4                             0                                     0   \n",
      "5                             1                                     0   \n",
      "\n",
      "   NumberOfDependents  \n",
      "1                 2.0  \n",
      "2                 1.0  \n",
      "3                 0.0  \n",
      "4                 0.0  \n",
      "5                 0.0  \n"
     ]
    }
   ],
   "source": [
    "print(train.head())"
   ]
  },
  {
   "cell_type": "markdown",
   "metadata": {},
   "source": [
    "### NA Values"
   ]
  },
  {
   "cell_type": "markdown",
   "metadata": {},
   "source": [
    "Replace with central tendency metric"
   ]
  },
  {
   "cell_type": "code",
   "execution_count": 11,
   "metadata": {},
   "outputs": [
    {
     "data": {
      "text/plain": [
       "True"
      ]
     },
     "execution_count": 11,
     "metadata": {},
     "output_type": "execute_result"
    }
   ],
   "source": [
    "#are the any NA values?\n",
    "train.isnull().values.any()"
   ]
  },
  {
   "cell_type": "code",
   "execution_count": 12,
   "metadata": {},
   "outputs": [
    {
     "data": {
      "text/plain": [
       "MonthlyIncome         29731\n",
       "NumberOfDependents     3924\n",
       "dtype: int64"
      ]
     },
     "execution_count": 12,
     "metadata": {},
     "output_type": "execute_result"
    }
   ],
   "source": [
    "#which columns have missing values\n",
    "train.isnull().sum()[train.isnull().sum()>0]"
   ]
  },
  {
   "cell_type": "markdown",
   "metadata": {},
   "source": [
    "As you can see, there are missing values in only two features: MonthlyIncomeand NumberOfDependents"
   ]
  },
  {
   "cell_type": "code",
   "execution_count": 13,
   "metadata": {},
   "outputs": [
    {
     "data": {
      "text/plain": [
       "MonthlyIncome         0.198207\n",
       "NumberOfDependents    0.026160\n",
       "dtype: float64"
      ]
     },
     "execution_count": 13,
     "metadata": {},
     "output_type": "execute_result"
    }
   ],
   "source": [
    "#what percentage of records are missing\n",
    "train.isnull().sum()[train.isnull().sum()>0]/len(train)"
   ]
  },
  {
   "cell_type": "markdown",
   "metadata": {},
   "source": [
    "MonthlyIncome has nearly 20% of it's data as missing. This is quote high and brings us to a decision point. We can drop this column entirely, drop the rows containing missing values, or impute the missing values. SimpleImputation may be subject to error since it would be applying a central tendency value to all 29731 of these rows; however, imputation is important since Machine Learning algorithms don't like missing values. We can also impute using a sophisticated, predictive method. \n",
    "\n",
    "From subject matter context, we know that monthly income is a feature important in our dataset and will elect to keep it. Therefore, we will be doing imputation for these missing values. "
   ]
  },
  {
   "cell_type": "code",
   "execution_count": 14,
   "metadata": {
    "collapsed": true
   },
   "outputs": [],
   "source": [
    "train_full = train.copy()"
   ]
  },
  {
   "cell_type": "code",
   "execution_count": 15,
   "metadata": {
    "collapsed": true
   },
   "outputs": [],
   "source": [
    "income_median = train_full['MonthlyIncome'].median()\n",
    "\n",
    "#REMEMBER TO TRY ITERATIVE IMPUTER"
   ]
  },
  {
   "cell_type": "markdown",
   "metadata": {},
   "source": [
    "#### DO WE NEED TO TAKE MEDIAN FROM NON NA ROWS ONLY?"
   ]
  },
  {
   "cell_type": "code",
   "execution_count": 16,
   "metadata": {},
   "outputs": [
    {
     "data": {
      "text/plain": [
       "5400.0"
      ]
     },
     "execution_count": 16,
     "metadata": {},
     "output_type": "execute_result"
    }
   ],
   "source": [
    "income_median"
   ]
  },
  {
   "cell_type": "code",
   "execution_count": 17,
   "metadata": {
    "collapsed": true
   },
   "outputs": [],
   "source": [
    "train_full['MonthlyIncome'].fillna(income_median, inplace=True)"
   ]
  },
  {
   "cell_type": "code",
   "execution_count": 18,
   "metadata": {},
   "outputs": [
    {
     "data": {
      "text/plain": [
       "0"
      ]
     },
     "execution_count": 18,
     "metadata": {},
     "output_type": "execute_result"
    }
   ],
   "source": [
    "train_full['MonthlyIncome'].isnull().sum()"
   ]
  },
  {
   "cell_type": "markdown",
   "metadata": {},
   "source": [
    "No more missing values in Monthly Income! Now NumberOfDependents"
   ]
  },
  {
   "cell_type": "code",
   "execution_count": 19,
   "metadata": {
    "collapsed": true
   },
   "outputs": [],
   "source": [
    "dependents_median = train_full['NumberOfDependents'].median()"
   ]
  },
  {
   "cell_type": "code",
   "execution_count": 20,
   "metadata": {
    "collapsed": true
   },
   "outputs": [],
   "source": [
    "train_full['NumberOfDependents'].fillna(dependents_median, inplace = True)"
   ]
  },
  {
   "cell_type": "code",
   "execution_count": 21,
   "metadata": {},
   "outputs": [
    {
     "data": {
      "text/plain": [
       "0"
      ]
     },
     "execution_count": 21,
     "metadata": {},
     "output_type": "execute_result"
    }
   ],
   "source": [
    "train_full['NumberOfDependents'].isnull().sum()"
   ]
  },
  {
   "cell_type": "markdown",
   "metadata": {},
   "source": [
    "No more missing values in NumberOfDependents! Now onto Outliers."
   ]
  },
  {
   "cell_type": "markdown",
   "metadata": {},
   "source": [
    "### Outlier Values"
   ]
  },
  {
   "cell_type": "code",
   "execution_count": 22,
   "metadata": {},
   "outputs": [
    {
     "name": "stderr",
     "output_type": "stream",
     "text": [
      "/Users/bean/anaconda/lib/python2.7/site-packages/scipy/stats/stats.py:1713: FutureWarning: Using a non-tuple sequence for multidimensional indexing is deprecated; use `arr[tuple(seq)]` instead of `arr[seq]`. In the future this will be interpreted as an array index, `arr[np.array(seq)]`, which will result either in an error or a different result.\n",
      "  return np.add.reduce(sorted[indexer] * weights, axis=axis) / sumval\n"
     ]
    },
    {
     "data": {
      "text/plain": [
       "<matplotlib.axes._subplots.AxesSubplot at 0x1a18abf890>"
      ]
     },
     "execution_count": 22,
     "metadata": {},
     "output_type": "execute_result"
    }
   ],
   "source": [
    "#check outliers\n",
    "df = train_full\n",
    "f, axes = plt.subplots(3, 2, figsize=(10, 10), sharex=False)\n",
    "sns.distplot( df[\"NumberOfDependents\"] , color=\"olive\", ax=axes[0, 0])\n",
    "sns.distplot( df[\"NumberOfTime30-59DaysPastDueNotWorse\"] , color=\"green\", ax=axes[0, 1])\n",
    "sns.distplot( df[\"NumberOfOpenCreditLinesAndLoans\"] , color=\"red\", ax=axes[1, 0])\n",
    "sns.distplot( df[\"NumberOfTimes90DaysLate\"] , color=\"blue\", ax=axes[1, 1])\n",
    "sns.distplot( df[\"NumberRealEstateLoansOrLines\"] , color=\"teal\", ax=axes[2, 0])\n",
    "sns.distplot( df[\"NumberOfTime60-89DaysPastDueNotWorse\"] , color=\"magenta\", ax=axes[2, 1])"
   ]
  },
  {
   "cell_type": "markdown",
   "metadata": {},
   "source": [
    "As we can see by a subset of 6 variables, they are almost all largely skewed to the right, meaning that there are many outliers present in the data. We will now remove rows containing an outlier in any of the variables. "
   ]
  },
  {
   "cell_type": "code",
   "execution_count": 23,
   "metadata": {},
   "outputs": [
    {
     "name": "stdout",
     "output_type": "stream",
     "text": [
      "(150000, 11)\n"
     ]
    }
   ],
   "source": [
    "#before: summarize the number of rows and columns in the dataset\n",
    "print(df.shape)"
   ]
  },
  {
   "cell_type": "code",
   "execution_count": 24,
   "metadata": {},
   "outputs": [
    {
     "name": "stdout",
     "output_type": "stream",
     "text": [
      "[[0.02115001 0.49385982 0.37659296 ... 4.40954554 0.05785249 1.14052977]\n",
      " [0.02038516 0.83234222 0.10041896 ... 0.90128301 0.05785249 0.23720186]\n",
      " [0.02158222 0.96773518 0.138087   ... 0.90128301 0.05785249 0.66612604]\n",
      " ...\n",
      " [0.02323239 0.38619443 0.10041896 ... 0.01614492 0.05785249 0.66612604]\n",
      " [0.02421753 1.50930703 0.10041896 ... 0.90128301 0.05785249 0.66612604]\n",
      " [0.02081306 0.79237332 0.10041896 ... 0.86899317 0.05785249 0.66612604]]\n"
     ]
    }
   ],
   "source": [
    "zscore = np.abs(stats.zscore(df.iloc[:,1:11]))\n",
    "print(zscore)\n",
    "threshold = 3"
   ]
  },
  {
   "cell_type": "code",
   "execution_count": 25,
   "metadata": {},
   "outputs": [
    {
     "name": "stdout",
     "output_type": "stream",
     "text": [
      "(array([     0,      4,     44, ..., 149899, 149916, 149968]), array([7, 4, 5, ..., 9, 5, 9]))\n"
     ]
    }
   ],
   "source": [
    "#show indexes of outliers\n",
    "print(np.where(zscore >3))"
   ]
  },
  {
   "cell_type": "code",
   "execution_count": 26,
   "metadata": {},
   "outputs": [
    {
     "name": "stdout",
     "output_type": "stream",
     "text": [
      "4.409545538528969\n"
     ]
    }
   ],
   "source": [
    "print(zscore[0][7])"
   ]
  },
  {
   "cell_type": "markdown",
   "metadata": {},
   "source": [
    "Let's rcount outliers as anythign greater than 2.5 zscores from the mean, as this is a common rule of thumb."
   ]
  },
  {
   "cell_type": "code",
   "execution_count": 27,
   "metadata": {},
   "outputs": [
    {
     "name": "stdout",
     "output_type": "stream",
     "text": [
      "(137774, 11)\n"
     ]
    }
   ],
   "source": [
    "df_full = df\n",
    "df_full = df_full[(zscore < 2.5).all(axis=1)]\n",
    "print(df_full.shape)"
   ]
  },
  {
   "cell_type": "code",
   "execution_count": 28,
   "metadata": {},
   "outputs": [
    {
     "name": "stdout",
     "output_type": "stream",
     "text": [
      "count    137774.000000\n",
      "mean          0.064076\n",
      "std           0.244889\n",
      "min           0.000000\n",
      "25%           0.000000\n",
      "50%           0.000000\n",
      "75%           0.000000\n",
      "max           1.000000\n",
      "Name: SeriousDlqin2yrs, dtype: float64\n"
     ]
    }
   ],
   "source": [
    "print(df_full['SeriousDlqin2yrs'].describe())"
   ]
  },
  {
   "cell_type": "markdown",
   "metadata": {},
   "source": [
    "It looks like 12,226‬‬ outlier rows were removed. Let's see if this improves our histograms a bit."
   ]
  },
  {
   "cell_type": "code",
   "execution_count": 29,
   "metadata": {},
   "outputs": [
    {
     "data": {
      "text/plain": [
       "<matplotlib.axes._subplots.AxesSubplot at 0x1a1a2d5a50>"
      ]
     },
     "execution_count": 29,
     "metadata": {},
     "output_type": "execute_result"
    }
   ],
   "source": [
    "f, axes = plt.subplots(3, 2, figsize=(10, 10), sharex=False)\n",
    "sns.distplot( df_full[\"NumberOfDependents\"] , color=\"olive\", ax=axes[0, 0])\n",
    "sns.distplot( df_full[\"NumberOfTime30-59DaysPastDueNotWorse\"] , color=\"green\", ax=axes[0, 1])\n",
    "sns.distplot( df_full[\"NumberOfOpenCreditLinesAndLoans\"] , color=\"red\", ax=axes[1, 0])\n",
    "sns.distplot( df_full[\"NumberOfTimes90DaysLate\"] , color=\"blue\", ax=axes[1, 1])\n",
    "sns.distplot( df_full[\"NumberRealEstateLoansOrLines\"] , color=\"teal\", ax=axes[2, 0])\n",
    "sns.distplot( df_full[\"NumberOfTime60-89DaysPastDueNotWorse\"] , color=\"magenta\", ax=axes[2, 1])"
   ]
  },
  {
   "cell_type": "markdown",
   "metadata": {},
   "source": [
    "There is certainly improvement! We will need to apply transforms to ensure normal distributions for regression. It is perfectly okay that the distributions are still skewed, now the outlier values have just been removed.\n",
    "\n",
    "Now we have a dataset void of outliers and missing values - let's move onto visualizations and more preprocessing. "
   ]
  },
  {
   "cell_type": "markdown",
   "metadata": {},
   "source": [
    "# Exploratory Data Visualizations"
   ]
  },
  {
   "cell_type": "markdown",
   "metadata": {},
   "source": [
    "# Data Standardization/Normalization"
   ]
  },
  {
   "cell_type": "markdown",
   "metadata": {},
   "source": [
    "Some algorithms, such as Neural Networks, require data to be consolidated into a standard range, such as 0-1. I will create a standard range dataset using min/max normalization."
   ]
  },
  {
   "cell_type": "code",
   "execution_count": 30,
   "metadata": {
    "collapsed": true
   },
   "outputs": [],
   "source": [
    "scaler = MinMaxScaler()\n",
    "\n",
    "scaled_df = scaler.fit_transform(df_full)\n",
    "scaled_df = pd.DataFrame(scaled_df, columns=['SeriousDlqin2yrs','RevolvingUtilizationOfUnsecuredLines','age','NumberOfTime30-59DaysPastDueNotWorse','DebtRatio','MonthlyIncome','NumberOfOpenCreditLinesAndLoans','NumberOfTimes90DaysLate','NumberRealEstateLoansOrLines','NumberOfTime60-89DaysPastDueNotWorse','NumberOfDependents'])"
   ]
  },
  {
   "cell_type": "code",
   "execution_count": 31,
   "metadata": {},
   "outputs": [
    {
     "data": {
      "text/html": [
       "<div>\n",
       "<style>\n",
       "    .dataframe thead tr:only-child th {\n",
       "        text-align: right;\n",
       "    }\n",
       "\n",
       "    .dataframe thead th {\n",
       "        text-align: left;\n",
       "    }\n",
       "\n",
       "    .dataframe tbody tr th {\n",
       "        vertical-align: top;\n",
       "    }\n",
       "</style>\n",
       "<table border=\"1\" class=\"dataframe\">\n",
       "  <thead>\n",
       "    <tr style=\"text-align: right;\">\n",
       "      <th></th>\n",
       "      <th>SeriousDlqin2yrs</th>\n",
       "      <th>RevolvingUtilizationOfUnsecuredLines</th>\n",
       "      <th>age</th>\n",
       "      <th>NumberOfTime30-59DaysPastDueNotWorse</th>\n",
       "      <th>DebtRatio</th>\n",
       "      <th>MonthlyIncome</th>\n",
       "      <th>NumberOfOpenCreditLinesAndLoans</th>\n",
       "      <th>NumberOfTimes90DaysLate</th>\n",
       "      <th>NumberRealEstateLoansOrLines</th>\n",
       "      <th>NumberOfTime60-89DaysPastDueNotWorse</th>\n",
       "      <th>NumberOfDependents</th>\n",
       "    </tr>\n",
       "  </thead>\n",
       "  <tbody>\n",
       "    <tr>\n",
       "      <th>0</th>\n",
       "      <td>0.0</td>\n",
       "      <td>0.001554</td>\n",
       "      <td>0.279412</td>\n",
       "      <td>0.0</td>\n",
       "      <td>2.237903e-05</td>\n",
       "      <td>0.067387</td>\n",
       "      <td>0.190476</td>\n",
       "      <td>0.0</td>\n",
       "      <td>0.000000</td>\n",
       "      <td>0.000000</td>\n",
       "      <td>0.333333</td>\n",
       "    </tr>\n",
       "    <tr>\n",
       "      <th>1</th>\n",
       "      <td>0.0</td>\n",
       "      <td>0.001068</td>\n",
       "      <td>0.250000</td>\n",
       "      <td>0.1</td>\n",
       "      <td>1.562860e-05</td>\n",
       "      <td>0.078843</td>\n",
       "      <td>0.095238</td>\n",
       "      <td>0.1</td>\n",
       "      <td>0.000000</td>\n",
       "      <td>0.000000</td>\n",
       "      <td>0.000000</td>\n",
       "    </tr>\n",
       "    <tr>\n",
       "      <th>2</th>\n",
       "      <td>0.0</td>\n",
       "      <td>0.000380</td>\n",
       "      <td>0.132353</td>\n",
       "      <td>0.0</td>\n",
       "      <td>6.619479e-06</td>\n",
       "      <td>0.085530</td>\n",
       "      <td>0.238095</td>\n",
       "      <td>0.0</td>\n",
       "      <td>0.000000</td>\n",
       "      <td>0.000000</td>\n",
       "      <td>0.000000</td>\n",
       "    </tr>\n",
       "    <tr>\n",
       "      <th>3</th>\n",
       "      <td>0.0</td>\n",
       "      <td>0.000346</td>\n",
       "      <td>0.779412</td>\n",
       "      <td>0.0</td>\n",
       "      <td>6.896933e-05</td>\n",
       "      <td>0.090714</td>\n",
       "      <td>0.142857</td>\n",
       "      <td>0.0</td>\n",
       "      <td>0.333333</td>\n",
       "      <td>0.000000</td>\n",
       "      <td>0.333333</td>\n",
       "    </tr>\n",
       "    <tr>\n",
       "      <th>4</th>\n",
       "      <td>0.0</td>\n",
       "      <td>0.001225</td>\n",
       "      <td>0.264706</td>\n",
       "      <td>0.0</td>\n",
       "      <td>3.854940e-05</td>\n",
       "      <td>0.090714</td>\n",
       "      <td>0.380952</td>\n",
       "      <td>0.0</td>\n",
       "      <td>0.000000</td>\n",
       "      <td>0.000000</td>\n",
       "      <td>0.000000</td>\n",
       "    </tr>\n",
       "    <tr>\n",
       "      <th>5</th>\n",
       "      <td>0.0</td>\n",
       "      <td>0.000190</td>\n",
       "      <td>0.088235</td>\n",
       "      <td>0.0</td>\n",
       "      <td>8.446566e-03</td>\n",
       "      <td>0.139958</td>\n",
       "      <td>0.095238</td>\n",
       "      <td>0.0</td>\n",
       "      <td>0.000000</td>\n",
       "      <td>0.000000</td>\n",
       "      <td>0.000000</td>\n",
       "    </tr>\n",
       "    <tr>\n",
       "      <th>6</th>\n",
       "      <td>0.0</td>\n",
       "      <td>0.001046</td>\n",
       "      <td>0.132353</td>\n",
       "      <td>0.0</td>\n",
       "      <td>5.682633e-05</td>\n",
       "      <td>0.064795</td>\n",
       "      <td>0.238095</td>\n",
       "      <td>0.0</td>\n",
       "      <td>0.000000</td>\n",
       "      <td>0.000000</td>\n",
       "      <td>0.000000</td>\n",
       "    </tr>\n",
       "    <tr>\n",
       "      <th>7</th>\n",
       "      <td>0.0</td>\n",
       "      <td>0.000031</td>\n",
       "      <td>0.441176</td>\n",
       "      <td>0.0</td>\n",
       "      <td>9.759985e-05</td>\n",
       "      <td>0.168494</td>\n",
       "      <td>0.333333</td>\n",
       "      <td>0.0</td>\n",
       "      <td>0.666667</td>\n",
       "      <td>0.000000</td>\n",
       "      <td>0.666667</td>\n",
       "    </tr>\n",
       "    <tr>\n",
       "      <th>8</th>\n",
       "      <td>0.0</td>\n",
       "      <td>0.000017</td>\n",
       "      <td>0.367647</td>\n",
       "      <td>0.0</td>\n",
       "      <td>5.478408e-05</td>\n",
       "      <td>0.322785</td>\n",
       "      <td>0.619048</td>\n",
       "      <td>0.0</td>\n",
       "      <td>0.666667</td>\n",
       "      <td>0.000000</td>\n",
       "      <td>0.666667</td>\n",
       "    </tr>\n",
       "    <tr>\n",
       "      <th>9</th>\n",
       "      <td>1.0</td>\n",
       "      <td>0.001566</td>\n",
       "      <td>0.279412</td>\n",
       "      <td>0.3</td>\n",
       "      <td>7.032037e-05</td>\n",
       "      <td>0.355079</td>\n",
       "      <td>0.428571</td>\n",
       "      <td>0.3</td>\n",
       "      <td>0.333333</td>\n",
       "      <td>0.111111</td>\n",
       "      <td>0.666667</td>\n",
       "    </tr>\n",
       "    <tr>\n",
       "      <th>10</th>\n",
       "      <td>0.0</td>\n",
       "      <td>0.000032</td>\n",
       "      <td>0.808824</td>\n",
       "      <td>0.0</td>\n",
       "      <td>8.758722e-02</td>\n",
       "      <td>0.000000</td>\n",
       "      <td>0.285714</td>\n",
       "      <td>0.0</td>\n",
       "      <td>0.333333</td>\n",
       "      <td>0.000000</td>\n",
       "      <td>0.000000</td>\n",
       "    </tr>\n",
       "    <tr>\n",
       "      <th>11</th>\n",
       "      <td>0.0</td>\n",
       "      <td>0.000890</td>\n",
       "      <td>0.632353</td>\n",
       "      <td>0.0</td>\n",
       "      <td>3.854054e-05</td>\n",
       "      <td>0.294482</td>\n",
       "      <td>0.333333</td>\n",
       "      <td>0.0</td>\n",
       "      <td>0.333333</td>\n",
       "      <td>0.000000</td>\n",
       "      <td>0.666667</td>\n",
       "    </tr>\n",
       "    <tr>\n",
       "      <th>12</th>\n",
       "      <td>0.0</td>\n",
       "      <td>0.000099</td>\n",
       "      <td>0.838235</td>\n",
       "      <td>0.0</td>\n",
       "      <td>3.778920e-01</td>\n",
       "      <td>0.139958</td>\n",
       "      <td>0.476190</td>\n",
       "      <td>0.0</td>\n",
       "      <td>0.666667</td>\n",
       "      <td>0.000000</td>\n",
       "      <td>0.000000</td>\n",
       "    </tr>\n",
       "    <tr>\n",
       "      <th>13</th>\n",
       "      <td>0.0</td>\n",
       "      <td>0.000270</td>\n",
       "      <td>0.470588</td>\n",
       "      <td>0.0</td>\n",
       "      <td>3.457107e-05</td>\n",
       "      <td>0.228080</td>\n",
       "      <td>0.333333</td>\n",
       "      <td>0.0</td>\n",
       "      <td>0.000000</td>\n",
       "      <td>0.000000</td>\n",
       "      <td>0.000000</td>\n",
       "    </tr>\n",
       "    <tr>\n",
       "      <th>14</th>\n",
       "      <td>0.0</td>\n",
       "      <td>0.000360</td>\n",
       "      <td>0.323529</td>\n",
       "      <td>0.0</td>\n",
       "      <td>9.693130e-05</td>\n",
       "      <td>0.085012</td>\n",
       "      <td>0.333333</td>\n",
       "      <td>0.0</td>\n",
       "      <td>0.333333</td>\n",
       "      <td>0.000000</td>\n",
       "      <td>0.666667</td>\n",
       "    </tr>\n",
       "    <tr>\n",
       "      <th>15</th>\n",
       "      <td>0.0</td>\n",
       "      <td>0.000979</td>\n",
       "      <td>0.058824</td>\n",
       "      <td>0.0</td>\n",
       "      <td>1.209480e-05</td>\n",
       "      <td>0.008631</td>\n",
       "      <td>0.095238</td>\n",
       "      <td>0.0</td>\n",
       "      <td>0.000000</td>\n",
       "      <td>0.000000</td>\n",
       "      <td>0.000000</td>\n",
       "    </tr>\n",
       "    <tr>\n",
       "      <th>16</th>\n",
       "      <td>0.0</td>\n",
       "      <td>0.000326</td>\n",
       "      <td>0.323529</td>\n",
       "      <td>0.0</td>\n",
       "      <td>7.896554e-05</td>\n",
       "      <td>0.318793</td>\n",
       "      <td>0.476190</td>\n",
       "      <td>0.0</td>\n",
       "      <td>0.666667</td>\n",
       "      <td>0.000000</td>\n",
       "      <td>0.000000</td>\n",
       "    </tr>\n",
       "    <tr>\n",
       "      <th>17</th>\n",
       "      <td>1.0</td>\n",
       "      <td>0.000042</td>\n",
       "      <td>0.250000</td>\n",
       "      <td>0.0</td>\n",
       "      <td>8.737447e-05</td>\n",
       "      <td>0.077754</td>\n",
       "      <td>0.333333</td>\n",
       "      <td>0.0</td>\n",
       "      <td>0.333333</td>\n",
       "      <td>0.000000</td>\n",
       "      <td>0.666667</td>\n",
       "    </tr>\n",
       "    <tr>\n",
       "      <th>18</th>\n",
       "      <td>0.0</td>\n",
       "      <td>0.001623</td>\n",
       "      <td>0.264706</td>\n",
       "      <td>0.0</td>\n",
       "      <td>4.427168e-05</td>\n",
       "      <td>0.064795</td>\n",
       "      <td>0.190476</td>\n",
       "      <td>0.0</td>\n",
       "      <td>0.000000</td>\n",
       "      <td>0.000000</td>\n",
       "      <td>0.000000</td>\n",
       "    </tr>\n",
       "    <tr>\n",
       "      <th>19</th>\n",
       "      <td>0.0</td>\n",
       "      <td>0.000122</td>\n",
       "      <td>0.161765</td>\n",
       "      <td>0.0</td>\n",
       "      <td>1.570183e-05</td>\n",
       "      <td>0.205168</td>\n",
       "      <td>0.285714</td>\n",
       "      <td>0.0</td>\n",
       "      <td>0.000000</td>\n",
       "      <td>0.000000</td>\n",
       "      <td>0.000000</td>\n",
       "    </tr>\n",
       "    <tr>\n",
       "      <th>20</th>\n",
       "      <td>0.0</td>\n",
       "      <td>0.000076</td>\n",
       "      <td>0.544118</td>\n",
       "      <td>0.0</td>\n",
       "      <td>4.436685e-05</td>\n",
       "      <td>0.062618</td>\n",
       "      <td>0.428571</td>\n",
       "      <td>0.0</td>\n",
       "      <td>0.333333</td>\n",
       "      <td>0.000000</td>\n",
       "      <td>0.000000</td>\n",
       "    </tr>\n",
       "    <tr>\n",
       "      <th>21</th>\n",
       "      <td>1.0</td>\n",
       "      <td>0.000637</td>\n",
       "      <td>0.426471</td>\n",
       "      <td>0.0</td>\n",
       "      <td>2.929220e-04</td>\n",
       "      <td>0.121193</td>\n",
       "      <td>0.666667</td>\n",
       "      <td>0.0</td>\n",
       "      <td>1.000000</td>\n",
       "      <td>0.000000</td>\n",
       "      <td>0.333333</td>\n",
       "    </tr>\n",
       "    <tr>\n",
       "      <th>22</th>\n",
       "      <td>0.0</td>\n",
       "      <td>0.000056</td>\n",
       "      <td>0.705882</td>\n",
       "      <td>0.0</td>\n",
       "      <td>7.782418e-06</td>\n",
       "      <td>0.064795</td>\n",
       "      <td>0.809524</td>\n",
       "      <td>0.0</td>\n",
       "      <td>0.000000</td>\n",
       "      <td>0.000000</td>\n",
       "      <td>0.333333</td>\n",
       "    </tr>\n",
       "    <tr>\n",
       "      <th>23</th>\n",
       "      <td>0.0</td>\n",
       "      <td>0.000735</td>\n",
       "      <td>0.044118</td>\n",
       "      <td>0.0</td>\n",
       "      <td>2.159612e-06</td>\n",
       "      <td>0.088122</td>\n",
       "      <td>0.047619</td>\n",
       "      <td>0.0</td>\n",
       "      <td>0.000000</td>\n",
       "      <td>0.000000</td>\n",
       "      <td>0.000000</td>\n",
       "    </tr>\n",
       "    <tr>\n",
       "      <th>24</th>\n",
       "      <td>0.0</td>\n",
       "      <td>0.000638</td>\n",
       "      <td>0.544118</td>\n",
       "      <td>0.2</td>\n",
       "      <td>8.007758e-05</td>\n",
       "      <td>0.142550</td>\n",
       "      <td>0.714286</td>\n",
       "      <td>0.0</td>\n",
       "      <td>0.333333</td>\n",
       "      <td>0.000000</td>\n",
       "      <td>0.000000</td>\n",
       "    </tr>\n",
       "    <tr>\n",
       "      <th>25</th>\n",
       "      <td>0.0</td>\n",
       "      <td>0.001143</td>\n",
       "      <td>0.102941</td>\n",
       "      <td>0.1</td>\n",
       "      <td>2.849819e-05</td>\n",
       "      <td>0.108856</td>\n",
       "      <td>0.380952</td>\n",
       "      <td>0.0</td>\n",
       "      <td>0.000000</td>\n",
       "      <td>0.000000</td>\n",
       "      <td>0.000000</td>\n",
       "    </tr>\n",
       "    <tr>\n",
       "      <th>26</th>\n",
       "      <td>0.0</td>\n",
       "      <td>0.001623</td>\n",
       "      <td>0.044118</td>\n",
       "      <td>0.0</td>\n",
       "      <td>8.679821e-05</td>\n",
       "      <td>0.019439</td>\n",
       "      <td>0.047619</td>\n",
       "      <td>0.0</td>\n",
       "      <td>0.000000</td>\n",
       "      <td>0.000000</td>\n",
       "      <td>0.000000</td>\n",
       "    </tr>\n",
       "    <tr>\n",
       "      <th>27</th>\n",
       "      <td>0.0</td>\n",
       "      <td>0.000135</td>\n",
       "      <td>0.602941</td>\n",
       "      <td>0.0</td>\n",
       "      <td>1.793977e-01</td>\n",
       "      <td>0.139958</td>\n",
       "      <td>0.285714</td>\n",
       "      <td>0.0</td>\n",
       "      <td>0.333333</td>\n",
       "      <td>0.000000</td>\n",
       "      <td>0.000000</td>\n",
       "    </tr>\n",
       "    <tr>\n",
       "      <th>28</th>\n",
       "      <td>0.0</td>\n",
       "      <td>0.000303</td>\n",
       "      <td>0.529412</td>\n",
       "      <td>0.0</td>\n",
       "      <td>5.762253e-05</td>\n",
       "      <td>0.181427</td>\n",
       "      <td>0.428571</td>\n",
       "      <td>0.0</td>\n",
       "      <td>0.666667</td>\n",
       "      <td>0.000000</td>\n",
       "      <td>0.000000</td>\n",
       "    </tr>\n",
       "    <tr>\n",
       "      <th>29</th>\n",
       "      <td>0.0</td>\n",
       "      <td>0.001126</td>\n",
       "      <td>0.308824</td>\n",
       "      <td>0.2</td>\n",
       "      <td>4.732500e-05</td>\n",
       "      <td>0.057797</td>\n",
       "      <td>0.333333</td>\n",
       "      <td>0.0</td>\n",
       "      <td>0.000000</td>\n",
       "      <td>0.000000</td>\n",
       "      <td>0.000000</td>\n",
       "    </tr>\n",
       "    <tr>\n",
       "      <th>...</th>\n",
       "      <td>...</td>\n",
       "      <td>...</td>\n",
       "      <td>...</td>\n",
       "      <td>...</td>\n",
       "      <td>...</td>\n",
       "      <td>...</td>\n",
       "      <td>...</td>\n",
       "      <td>...</td>\n",
       "      <td>...</td>\n",
       "      <td>...</td>\n",
       "      <td>...</td>\n",
       "    </tr>\n",
       "    <tr>\n",
       "      <th>137744</th>\n",
       "      <td>0.0</td>\n",
       "      <td>0.000123</td>\n",
       "      <td>0.323529</td>\n",
       "      <td>0.0</td>\n",
       "      <td>3.627205e-05</td>\n",
       "      <td>0.380997</td>\n",
       "      <td>0.476190</td>\n",
       "      <td>0.0</td>\n",
       "      <td>1.000000</td>\n",
       "      <td>0.000000</td>\n",
       "      <td>0.666667</td>\n",
       "    </tr>\n",
       "    <tr>\n",
       "      <th>137745</th>\n",
       "      <td>0.0</td>\n",
       "      <td>0.000041</td>\n",
       "      <td>0.544118</td>\n",
       "      <td>0.0</td>\n",
       "      <td>4.661304e-05</td>\n",
       "      <td>0.401731</td>\n",
       "      <td>0.333333</td>\n",
       "      <td>0.0</td>\n",
       "      <td>0.666667</td>\n",
       "      <td>0.000000</td>\n",
       "      <td>0.666667</td>\n",
       "    </tr>\n",
       "    <tr>\n",
       "      <th>137746</th>\n",
       "      <td>0.0</td>\n",
       "      <td>0.000094</td>\n",
       "      <td>0.911765</td>\n",
       "      <td>0.0</td>\n",
       "      <td>2.570180e-06</td>\n",
       "      <td>0.129591</td>\n",
       "      <td>0.285714</td>\n",
       "      <td>0.0</td>\n",
       "      <td>0.000000</td>\n",
       "      <td>0.000000</td>\n",
       "      <td>0.000000</td>\n",
       "    </tr>\n",
       "    <tr>\n",
       "      <th>137747</th>\n",
       "      <td>0.0</td>\n",
       "      <td>0.000116</td>\n",
       "      <td>0.308824</td>\n",
       "      <td>0.0</td>\n",
       "      <td>1.586130e-06</td>\n",
       "      <td>0.180002</td>\n",
       "      <td>0.142857</td>\n",
       "      <td>0.0</td>\n",
       "      <td>0.000000</td>\n",
       "      <td>0.000000</td>\n",
       "      <td>0.333333</td>\n",
       "    </tr>\n",
       "    <tr>\n",
       "      <th>137748</th>\n",
       "      <td>0.0</td>\n",
       "      <td>0.001666</td>\n",
       "      <td>0.338235</td>\n",
       "      <td>0.0</td>\n",
       "      <td>9.085919e-05</td>\n",
       "      <td>0.142550</td>\n",
       "      <td>0.333333</td>\n",
       "      <td>0.0</td>\n",
       "      <td>0.333333</td>\n",
       "      <td>0.000000</td>\n",
       "      <td>0.333333</td>\n",
       "    </tr>\n",
       "    <tr>\n",
       "      <th>137749</th>\n",
       "      <td>0.0</td>\n",
       "      <td>0.001563</td>\n",
       "      <td>0.588235</td>\n",
       "      <td>0.2</td>\n",
       "      <td>1.108115e-04</td>\n",
       "      <td>0.129591</td>\n",
       "      <td>0.523810</td>\n",
       "      <td>0.0</td>\n",
       "      <td>0.333333</td>\n",
       "      <td>0.000000</td>\n",
       "      <td>0.000000</td>\n",
       "    </tr>\n",
       "    <tr>\n",
       "      <th>137750</th>\n",
       "      <td>0.0</td>\n",
       "      <td>0.000036</td>\n",
       "      <td>0.544118</td>\n",
       "      <td>0.0</td>\n",
       "      <td>4.987147e-01</td>\n",
       "      <td>0.139958</td>\n",
       "      <td>0.380952</td>\n",
       "      <td>0.0</td>\n",
       "      <td>0.666667</td>\n",
       "      <td>0.000000</td>\n",
       "      <td>0.000000</td>\n",
       "    </tr>\n",
       "    <tr>\n",
       "      <th>137751</th>\n",
       "      <td>0.0</td>\n",
       "      <td>0.000001</td>\n",
       "      <td>0.808824</td>\n",
       "      <td>0.0</td>\n",
       "      <td>1.101726e-02</td>\n",
       "      <td>0.139958</td>\n",
       "      <td>0.238095</td>\n",
       "      <td>0.0</td>\n",
       "      <td>0.000000</td>\n",
       "      <td>0.000000</td>\n",
       "      <td>0.000000</td>\n",
       "    </tr>\n",
       "    <tr>\n",
       "      <th>137752</th>\n",
       "      <td>0.0</td>\n",
       "      <td>0.000384</td>\n",
       "      <td>0.117647</td>\n",
       "      <td>0.0</td>\n",
       "      <td>6.408373e-02</td>\n",
       "      <td>0.139958</td>\n",
       "      <td>0.142857</td>\n",
       "      <td>0.0</td>\n",
       "      <td>0.000000</td>\n",
       "      <td>0.000000</td>\n",
       "      <td>0.000000</td>\n",
       "    </tr>\n",
       "    <tr>\n",
       "      <th>137753</th>\n",
       "      <td>0.0</td>\n",
       "      <td>0.001490</td>\n",
       "      <td>0.455882</td>\n",
       "      <td>0.2</td>\n",
       "      <td>4.764895e-05</td>\n",
       "      <td>0.064795</td>\n",
       "      <td>0.190476</td>\n",
       "      <td>0.0</td>\n",
       "      <td>0.000000</td>\n",
       "      <td>0.000000</td>\n",
       "      <td>0.000000</td>\n",
       "    </tr>\n",
       "    <tr>\n",
       "      <th>137754</th>\n",
       "      <td>1.0</td>\n",
       "      <td>0.000365</td>\n",
       "      <td>0.500000</td>\n",
       "      <td>0.0</td>\n",
       "      <td>1.050951e-05</td>\n",
       "      <td>0.225488</td>\n",
       "      <td>0.333333</td>\n",
       "      <td>0.0</td>\n",
       "      <td>0.000000</td>\n",
       "      <td>0.000000</td>\n",
       "      <td>0.000000</td>\n",
       "    </tr>\n",
       "    <tr>\n",
       "      <th>137755</th>\n",
       "      <td>0.0</td>\n",
       "      <td>0.000110</td>\n",
       "      <td>0.632353</td>\n",
       "      <td>0.0</td>\n",
       "      <td>4.681904e-05</td>\n",
       "      <td>0.143198</td>\n",
       "      <td>0.571429</td>\n",
       "      <td>0.0</td>\n",
       "      <td>0.333333</td>\n",
       "      <td>0.000000</td>\n",
       "      <td>0.000000</td>\n",
       "    </tr>\n",
       "    <tr>\n",
       "      <th>137756</th>\n",
       "      <td>0.0</td>\n",
       "      <td>0.000034</td>\n",
       "      <td>0.235294</td>\n",
       "      <td>0.0</td>\n",
       "      <td>4.595513e-05</td>\n",
       "      <td>0.071534</td>\n",
       "      <td>0.380952</td>\n",
       "      <td>0.0</td>\n",
       "      <td>0.000000</td>\n",
       "      <td>0.000000</td>\n",
       "      <td>1.000000</td>\n",
       "    </tr>\n",
       "    <tr>\n",
       "      <th>137757</th>\n",
       "      <td>0.0</td>\n",
       "      <td>0.000004</td>\n",
       "      <td>0.897059</td>\n",
       "      <td>0.0</td>\n",
       "      <td>1.468674e-07</td>\n",
       "      <td>0.129591</td>\n",
       "      <td>0.238095</td>\n",
       "      <td>0.0</td>\n",
       "      <td>0.000000</td>\n",
       "      <td>0.000000</td>\n",
       "      <td>0.000000</td>\n",
       "    </tr>\n",
       "    <tr>\n",
       "      <th>137758</th>\n",
       "      <td>0.0</td>\n",
       "      <td>0.000061</td>\n",
       "      <td>0.926471</td>\n",
       "      <td>0.0</td>\n",
       "      <td>4.590525e-03</td>\n",
       "      <td>0.139958</td>\n",
       "      <td>0.238095</td>\n",
       "      <td>0.0</td>\n",
       "      <td>0.000000</td>\n",
       "      <td>0.000000</td>\n",
       "      <td>0.000000</td>\n",
       "    </tr>\n",
       "    <tr>\n",
       "      <th>137759</th>\n",
       "      <td>0.0</td>\n",
       "      <td>0.001549</td>\n",
       "      <td>0.073529</td>\n",
       "      <td>0.0</td>\n",
       "      <td>5.966977e-05</td>\n",
       "      <td>0.050540</td>\n",
       "      <td>0.190476</td>\n",
       "      <td>0.0</td>\n",
       "      <td>0.000000</td>\n",
       "      <td>0.000000</td>\n",
       "      <td>0.000000</td>\n",
       "    </tr>\n",
       "    <tr>\n",
       "      <th>137760</th>\n",
       "      <td>0.0</td>\n",
       "      <td>0.000273</td>\n",
       "      <td>0.411765</td>\n",
       "      <td>0.0</td>\n",
       "      <td>1.476018e-05</td>\n",
       "      <td>0.129591</td>\n",
       "      <td>0.761905</td>\n",
       "      <td>0.0</td>\n",
       "      <td>0.000000</td>\n",
       "      <td>0.000000</td>\n",
       "      <td>0.333333</td>\n",
       "    </tr>\n",
       "    <tr>\n",
       "      <th>137761</th>\n",
       "      <td>0.0</td>\n",
       "      <td>0.001623</td>\n",
       "      <td>0.102941</td>\n",
       "      <td>0.0</td>\n",
       "      <td>1.022628e-05</td>\n",
       "      <td>0.084208</td>\n",
       "      <td>0.142857</td>\n",
       "      <td>0.1</td>\n",
       "      <td>0.000000</td>\n",
       "      <td>0.000000</td>\n",
       "      <td>0.000000</td>\n",
       "    </tr>\n",
       "    <tr>\n",
       "      <th>137762</th>\n",
       "      <td>0.0</td>\n",
       "      <td>0.001464</td>\n",
       "      <td>0.147059</td>\n",
       "      <td>0.1</td>\n",
       "      <td>6.388623e-05</td>\n",
       "      <td>0.194775</td>\n",
       "      <td>0.476190</td>\n",
       "      <td>0.0</td>\n",
       "      <td>0.333333</td>\n",
       "      <td>0.000000</td>\n",
       "      <td>0.000000</td>\n",
       "    </tr>\n",
       "    <tr>\n",
       "      <th>137763</th>\n",
       "      <td>0.0</td>\n",
       "      <td>0.000022</td>\n",
       "      <td>0.602941</td>\n",
       "      <td>0.0</td>\n",
       "      <td>2.585092e-07</td>\n",
       "      <td>0.239302</td>\n",
       "      <td>0.190476</td>\n",
       "      <td>0.0</td>\n",
       "      <td>0.000000</td>\n",
       "      <td>0.000000</td>\n",
       "      <td>1.000000</td>\n",
       "    </tr>\n",
       "    <tr>\n",
       "      <th>137764</th>\n",
       "      <td>0.0</td>\n",
       "      <td>0.000090</td>\n",
       "      <td>0.367647</td>\n",
       "      <td>0.0</td>\n",
       "      <td>1.119682e-04</td>\n",
       "      <td>0.112355</td>\n",
       "      <td>0.333333</td>\n",
       "      <td>0.0</td>\n",
       "      <td>0.333333</td>\n",
       "      <td>0.000000</td>\n",
       "      <td>0.666667</td>\n",
       "    </tr>\n",
       "    <tr>\n",
       "      <th>137765</th>\n",
       "      <td>0.0</td>\n",
       "      <td>0.000169</td>\n",
       "      <td>0.558824</td>\n",
       "      <td>0.0</td>\n",
       "      <td>8.770809e-05</td>\n",
       "      <td>0.267372</td>\n",
       "      <td>0.476190</td>\n",
       "      <td>0.0</td>\n",
       "      <td>0.666667</td>\n",
       "      <td>0.000000</td>\n",
       "      <td>0.000000</td>\n",
       "    </tr>\n",
       "    <tr>\n",
       "      <th>137766</th>\n",
       "      <td>0.0</td>\n",
       "      <td>0.001416</td>\n",
       "      <td>0.426471</td>\n",
       "      <td>0.0</td>\n",
       "      <td>7.587220e-01</td>\n",
       "      <td>0.139958</td>\n",
       "      <td>0.523810</td>\n",
       "      <td>0.0</td>\n",
       "      <td>0.333333</td>\n",
       "      <td>0.000000</td>\n",
       "      <td>1.000000</td>\n",
       "    </tr>\n",
       "    <tr>\n",
       "      <th>137767</th>\n",
       "      <td>0.0</td>\n",
       "      <td>0.001623</td>\n",
       "      <td>0.014706</td>\n",
       "      <td>0.0</td>\n",
       "      <td>0.000000e+00</td>\n",
       "      <td>0.021253</td>\n",
       "      <td>0.047619</td>\n",
       "      <td>0.0</td>\n",
       "      <td>0.000000</td>\n",
       "      <td>0.000000</td>\n",
       "      <td>0.000000</td>\n",
       "    </tr>\n",
       "    <tr>\n",
       "      <th>137768</th>\n",
       "      <td>0.0</td>\n",
       "      <td>0.000626</td>\n",
       "      <td>0.426471</td>\n",
       "      <td>0.0</td>\n",
       "      <td>7.423666e-05</td>\n",
       "      <td>0.088122</td>\n",
       "      <td>0.333333</td>\n",
       "      <td>0.0</td>\n",
       "      <td>0.000000</td>\n",
       "      <td>0.000000</td>\n",
       "      <td>0.000000</td>\n",
       "    </tr>\n",
       "    <tr>\n",
       "      <th>137769</th>\n",
       "      <td>0.0</td>\n",
       "      <td>0.000066</td>\n",
       "      <td>0.779412</td>\n",
       "      <td>0.0</td>\n",
       "      <td>4.133876e-05</td>\n",
       "      <td>0.054428</td>\n",
       "      <td>0.190476</td>\n",
       "      <td>0.0</td>\n",
       "      <td>0.333333</td>\n",
       "      <td>0.000000</td>\n",
       "      <td>0.000000</td>\n",
       "    </tr>\n",
       "    <tr>\n",
       "      <th>137770</th>\n",
       "      <td>0.0</td>\n",
       "      <td>0.000487</td>\n",
       "      <td>0.338235</td>\n",
       "      <td>0.0</td>\n",
       "      <td>1.315759e-04</td>\n",
       "      <td>0.144727</td>\n",
       "      <td>0.190476</td>\n",
       "      <td>0.0</td>\n",
       "      <td>0.333333</td>\n",
       "      <td>0.000000</td>\n",
       "      <td>0.666667</td>\n",
       "    </tr>\n",
       "    <tr>\n",
       "      <th>137771</th>\n",
       "      <td>0.0</td>\n",
       "      <td>0.000399</td>\n",
       "      <td>0.544118</td>\n",
       "      <td>0.0</td>\n",
       "      <td>7.106133e-01</td>\n",
       "      <td>0.139958</td>\n",
       "      <td>0.857143</td>\n",
       "      <td>0.0</td>\n",
       "      <td>0.333333</td>\n",
       "      <td>0.000000</td>\n",
       "      <td>0.000000</td>\n",
       "    </tr>\n",
       "    <tr>\n",
       "      <th>137772</th>\n",
       "      <td>0.0</td>\n",
       "      <td>0.000000</td>\n",
       "      <td>0.132353</td>\n",
       "      <td>0.0</td>\n",
       "      <td>0.000000e+00</td>\n",
       "      <td>0.148148</td>\n",
       "      <td>0.190476</td>\n",
       "      <td>0.0</td>\n",
       "      <td>0.000000</td>\n",
       "      <td>0.000000</td>\n",
       "      <td>0.000000</td>\n",
       "    </tr>\n",
       "    <tr>\n",
       "      <th>137773</th>\n",
       "      <td>0.0</td>\n",
       "      <td>0.001380</td>\n",
       "      <td>0.632353</td>\n",
       "      <td>0.0</td>\n",
       "      <td>4.588837e-05</td>\n",
       "      <td>0.211440</td>\n",
       "      <td>0.380952</td>\n",
       "      <td>0.0</td>\n",
       "      <td>0.666667</td>\n",
       "      <td>0.000000</td>\n",
       "      <td>0.000000</td>\n",
       "    </tr>\n",
       "  </tbody>\n",
       "</table>\n",
       "<p>137774 rows × 11 columns</p>\n",
       "</div>"
      ],
      "text/plain": [
       "        SeriousDlqin2yrs  RevolvingUtilizationOfUnsecuredLines       age  \\\n",
       "0                    0.0                              0.001554  0.279412   \n",
       "1                    0.0                              0.001068  0.250000   \n",
       "2                    0.0                              0.000380  0.132353   \n",
       "3                    0.0                              0.000346  0.779412   \n",
       "4                    0.0                              0.001225  0.264706   \n",
       "5                    0.0                              0.000190  0.088235   \n",
       "6                    0.0                              0.001046  0.132353   \n",
       "7                    0.0                              0.000031  0.441176   \n",
       "8                    0.0                              0.000017  0.367647   \n",
       "9                    1.0                              0.001566  0.279412   \n",
       "10                   0.0                              0.000032  0.808824   \n",
       "11                   0.0                              0.000890  0.632353   \n",
       "12                   0.0                              0.000099  0.838235   \n",
       "13                   0.0                              0.000270  0.470588   \n",
       "14                   0.0                              0.000360  0.323529   \n",
       "15                   0.0                              0.000979  0.058824   \n",
       "16                   0.0                              0.000326  0.323529   \n",
       "17                   1.0                              0.000042  0.250000   \n",
       "18                   0.0                              0.001623  0.264706   \n",
       "19                   0.0                              0.000122  0.161765   \n",
       "20                   0.0                              0.000076  0.544118   \n",
       "21                   1.0                              0.000637  0.426471   \n",
       "22                   0.0                              0.000056  0.705882   \n",
       "23                   0.0                              0.000735  0.044118   \n",
       "24                   0.0                              0.000638  0.544118   \n",
       "25                   0.0                              0.001143  0.102941   \n",
       "26                   0.0                              0.001623  0.044118   \n",
       "27                   0.0                              0.000135  0.602941   \n",
       "28                   0.0                              0.000303  0.529412   \n",
       "29                   0.0                              0.001126  0.308824   \n",
       "...                  ...                                   ...       ...   \n",
       "137744               0.0                              0.000123  0.323529   \n",
       "137745               0.0                              0.000041  0.544118   \n",
       "137746               0.0                              0.000094  0.911765   \n",
       "137747               0.0                              0.000116  0.308824   \n",
       "137748               0.0                              0.001666  0.338235   \n",
       "137749               0.0                              0.001563  0.588235   \n",
       "137750               0.0                              0.000036  0.544118   \n",
       "137751               0.0                              0.000001  0.808824   \n",
       "137752               0.0                              0.000384  0.117647   \n",
       "137753               0.0                              0.001490  0.455882   \n",
       "137754               1.0                              0.000365  0.500000   \n",
       "137755               0.0                              0.000110  0.632353   \n",
       "137756               0.0                              0.000034  0.235294   \n",
       "137757               0.0                              0.000004  0.897059   \n",
       "137758               0.0                              0.000061  0.926471   \n",
       "137759               0.0                              0.001549  0.073529   \n",
       "137760               0.0                              0.000273  0.411765   \n",
       "137761               0.0                              0.001623  0.102941   \n",
       "137762               0.0                              0.001464  0.147059   \n",
       "137763               0.0                              0.000022  0.602941   \n",
       "137764               0.0                              0.000090  0.367647   \n",
       "137765               0.0                              0.000169  0.558824   \n",
       "137766               0.0                              0.001416  0.426471   \n",
       "137767               0.0                              0.001623  0.014706   \n",
       "137768               0.0                              0.000626  0.426471   \n",
       "137769               0.0                              0.000066  0.779412   \n",
       "137770               0.0                              0.000487  0.338235   \n",
       "137771               0.0                              0.000399  0.544118   \n",
       "137772               0.0                              0.000000  0.132353   \n",
       "137773               0.0                              0.001380  0.632353   \n",
       "\n",
       "        NumberOfTime30-59DaysPastDueNotWorse     DebtRatio  MonthlyIncome  \\\n",
       "0                                        0.0  2.237903e-05       0.067387   \n",
       "1                                        0.1  1.562860e-05       0.078843   \n",
       "2                                        0.0  6.619479e-06       0.085530   \n",
       "3                                        0.0  6.896933e-05       0.090714   \n",
       "4                                        0.0  3.854940e-05       0.090714   \n",
       "5                                        0.0  8.446566e-03       0.139958   \n",
       "6                                        0.0  5.682633e-05       0.064795   \n",
       "7                                        0.0  9.759985e-05       0.168494   \n",
       "8                                        0.0  5.478408e-05       0.322785   \n",
       "9                                        0.3  7.032037e-05       0.355079   \n",
       "10                                       0.0  8.758722e-02       0.000000   \n",
       "11                                       0.0  3.854054e-05       0.294482   \n",
       "12                                       0.0  3.778920e-01       0.139958   \n",
       "13                                       0.0  3.457107e-05       0.228080   \n",
       "14                                       0.0  9.693130e-05       0.085012   \n",
       "15                                       0.0  1.209480e-05       0.008631   \n",
       "16                                       0.0  7.896554e-05       0.318793   \n",
       "17                                       0.0  8.737447e-05       0.077754   \n",
       "18                                       0.0  4.427168e-05       0.064795   \n",
       "19                                       0.0  1.570183e-05       0.205168   \n",
       "20                                       0.0  4.436685e-05       0.062618   \n",
       "21                                       0.0  2.929220e-04       0.121193   \n",
       "22                                       0.0  7.782418e-06       0.064795   \n",
       "23                                       0.0  2.159612e-06       0.088122   \n",
       "24                                       0.2  8.007758e-05       0.142550   \n",
       "25                                       0.1  2.849819e-05       0.108856   \n",
       "26                                       0.0  8.679821e-05       0.019439   \n",
       "27                                       0.0  1.793977e-01       0.139958   \n",
       "28                                       0.0  5.762253e-05       0.181427   \n",
       "29                                       0.2  4.732500e-05       0.057797   \n",
       "...                                      ...           ...            ...   \n",
       "137744                                   0.0  3.627205e-05       0.380997   \n",
       "137745                                   0.0  4.661304e-05       0.401731   \n",
       "137746                                   0.0  2.570180e-06       0.129591   \n",
       "137747                                   0.0  1.586130e-06       0.180002   \n",
       "137748                                   0.0  9.085919e-05       0.142550   \n",
       "137749                                   0.2  1.108115e-04       0.129591   \n",
       "137750                                   0.0  4.987147e-01       0.139958   \n",
       "137751                                   0.0  1.101726e-02       0.139958   \n",
       "137752                                   0.0  6.408373e-02       0.139958   \n",
       "137753                                   0.2  4.764895e-05       0.064795   \n",
       "137754                                   0.0  1.050951e-05       0.225488   \n",
       "137755                                   0.0  4.681904e-05       0.143198   \n",
       "137756                                   0.0  4.595513e-05       0.071534   \n",
       "137757                                   0.0  1.468674e-07       0.129591   \n",
       "137758                                   0.0  4.590525e-03       0.139958   \n",
       "137759                                   0.0  5.966977e-05       0.050540   \n",
       "137760                                   0.0  1.476018e-05       0.129591   \n",
       "137761                                   0.0  1.022628e-05       0.084208   \n",
       "137762                                   0.1  6.388623e-05       0.194775   \n",
       "137763                                   0.0  2.585092e-07       0.239302   \n",
       "137764                                   0.0  1.119682e-04       0.112355   \n",
       "137765                                   0.0  8.770809e-05       0.267372   \n",
       "137766                                   0.0  7.587220e-01       0.139958   \n",
       "137767                                   0.0  0.000000e+00       0.021253   \n",
       "137768                                   0.0  7.423666e-05       0.088122   \n",
       "137769                                   0.0  4.133876e-05       0.054428   \n",
       "137770                                   0.0  1.315759e-04       0.144727   \n",
       "137771                                   0.0  7.106133e-01       0.139958   \n",
       "137772                                   0.0  0.000000e+00       0.148148   \n",
       "137773                                   0.0  4.588837e-05       0.211440   \n",
       "\n",
       "        NumberOfOpenCreditLinesAndLoans  NumberOfTimes90DaysLate  \\\n",
       "0                              0.190476                      0.0   \n",
       "1                              0.095238                      0.1   \n",
       "2                              0.238095                      0.0   \n",
       "3                              0.142857                      0.0   \n",
       "4                              0.380952                      0.0   \n",
       "5                              0.095238                      0.0   \n",
       "6                              0.238095                      0.0   \n",
       "7                              0.333333                      0.0   \n",
       "8                              0.619048                      0.0   \n",
       "9                              0.428571                      0.3   \n",
       "10                             0.285714                      0.0   \n",
       "11                             0.333333                      0.0   \n",
       "12                             0.476190                      0.0   \n",
       "13                             0.333333                      0.0   \n",
       "14                             0.333333                      0.0   \n",
       "15                             0.095238                      0.0   \n",
       "16                             0.476190                      0.0   \n",
       "17                             0.333333                      0.0   \n",
       "18                             0.190476                      0.0   \n",
       "19                             0.285714                      0.0   \n",
       "20                             0.428571                      0.0   \n",
       "21                             0.666667                      0.0   \n",
       "22                             0.809524                      0.0   \n",
       "23                             0.047619                      0.0   \n",
       "24                             0.714286                      0.0   \n",
       "25                             0.380952                      0.0   \n",
       "26                             0.047619                      0.0   \n",
       "27                             0.285714                      0.0   \n",
       "28                             0.428571                      0.0   \n",
       "29                             0.333333                      0.0   \n",
       "...                                 ...                      ...   \n",
       "137744                         0.476190                      0.0   \n",
       "137745                         0.333333                      0.0   \n",
       "137746                         0.285714                      0.0   \n",
       "137747                         0.142857                      0.0   \n",
       "137748                         0.333333                      0.0   \n",
       "137749                         0.523810                      0.0   \n",
       "137750                         0.380952                      0.0   \n",
       "137751                         0.238095                      0.0   \n",
       "137752                         0.142857                      0.0   \n",
       "137753                         0.190476                      0.0   \n",
       "137754                         0.333333                      0.0   \n",
       "137755                         0.571429                      0.0   \n",
       "137756                         0.380952                      0.0   \n",
       "137757                         0.238095                      0.0   \n",
       "137758                         0.238095                      0.0   \n",
       "137759                         0.190476                      0.0   \n",
       "137760                         0.761905                      0.0   \n",
       "137761                         0.142857                      0.1   \n",
       "137762                         0.476190                      0.0   \n",
       "137763                         0.190476                      0.0   \n",
       "137764                         0.333333                      0.0   \n",
       "137765                         0.476190                      0.0   \n",
       "137766                         0.523810                      0.0   \n",
       "137767                         0.047619                      0.0   \n",
       "137768                         0.333333                      0.0   \n",
       "137769                         0.190476                      0.0   \n",
       "137770                         0.190476                      0.0   \n",
       "137771                         0.857143                      0.0   \n",
       "137772                         0.190476                      0.0   \n",
       "137773                         0.380952                      0.0   \n",
       "\n",
       "        NumberRealEstateLoansOrLines  NumberOfTime60-89DaysPastDueNotWorse  \\\n",
       "0                           0.000000                              0.000000   \n",
       "1                           0.000000                              0.000000   \n",
       "2                           0.000000                              0.000000   \n",
       "3                           0.333333                              0.000000   \n",
       "4                           0.000000                              0.000000   \n",
       "5                           0.000000                              0.000000   \n",
       "6                           0.000000                              0.000000   \n",
       "7                           0.666667                              0.000000   \n",
       "8                           0.666667                              0.000000   \n",
       "9                           0.333333                              0.111111   \n",
       "10                          0.333333                              0.000000   \n",
       "11                          0.333333                              0.000000   \n",
       "12                          0.666667                              0.000000   \n",
       "13                          0.000000                              0.000000   \n",
       "14                          0.333333                              0.000000   \n",
       "15                          0.000000                              0.000000   \n",
       "16                          0.666667                              0.000000   \n",
       "17                          0.333333                              0.000000   \n",
       "18                          0.000000                              0.000000   \n",
       "19                          0.000000                              0.000000   \n",
       "20                          0.333333                              0.000000   \n",
       "21                          1.000000                              0.000000   \n",
       "22                          0.000000                              0.000000   \n",
       "23                          0.000000                              0.000000   \n",
       "24                          0.333333                              0.000000   \n",
       "25                          0.000000                              0.000000   \n",
       "26                          0.000000                              0.000000   \n",
       "27                          0.333333                              0.000000   \n",
       "28                          0.666667                              0.000000   \n",
       "29                          0.000000                              0.000000   \n",
       "...                              ...                                   ...   \n",
       "137744                      1.000000                              0.000000   \n",
       "137745                      0.666667                              0.000000   \n",
       "137746                      0.000000                              0.000000   \n",
       "137747                      0.000000                              0.000000   \n",
       "137748                      0.333333                              0.000000   \n",
       "137749                      0.333333                              0.000000   \n",
       "137750                      0.666667                              0.000000   \n",
       "137751                      0.000000                              0.000000   \n",
       "137752                      0.000000                              0.000000   \n",
       "137753                      0.000000                              0.000000   \n",
       "137754                      0.000000                              0.000000   \n",
       "137755                      0.333333                              0.000000   \n",
       "137756                      0.000000                              0.000000   \n",
       "137757                      0.000000                              0.000000   \n",
       "137758                      0.000000                              0.000000   \n",
       "137759                      0.000000                              0.000000   \n",
       "137760                      0.000000                              0.000000   \n",
       "137761                      0.000000                              0.000000   \n",
       "137762                      0.333333                              0.000000   \n",
       "137763                      0.000000                              0.000000   \n",
       "137764                      0.333333                              0.000000   \n",
       "137765                      0.666667                              0.000000   \n",
       "137766                      0.333333                              0.000000   \n",
       "137767                      0.000000                              0.000000   \n",
       "137768                      0.000000                              0.000000   \n",
       "137769                      0.333333                              0.000000   \n",
       "137770                      0.333333                              0.000000   \n",
       "137771                      0.333333                              0.000000   \n",
       "137772                      0.000000                              0.000000   \n",
       "137773                      0.666667                              0.000000   \n",
       "\n",
       "        NumberOfDependents  \n",
       "0                 0.333333  \n",
       "1                 0.000000  \n",
       "2                 0.000000  \n",
       "3                 0.333333  \n",
       "4                 0.000000  \n",
       "5                 0.000000  \n",
       "6                 0.000000  \n",
       "7                 0.666667  \n",
       "8                 0.666667  \n",
       "9                 0.666667  \n",
       "10                0.000000  \n",
       "11                0.666667  \n",
       "12                0.000000  \n",
       "13                0.000000  \n",
       "14                0.666667  \n",
       "15                0.000000  \n",
       "16                0.000000  \n",
       "17                0.666667  \n",
       "18                0.000000  \n",
       "19                0.000000  \n",
       "20                0.000000  \n",
       "21                0.333333  \n",
       "22                0.333333  \n",
       "23                0.000000  \n",
       "24                0.000000  \n",
       "25                0.000000  \n",
       "26                0.000000  \n",
       "27                0.000000  \n",
       "28                0.000000  \n",
       "29                0.000000  \n",
       "...                    ...  \n",
       "137744            0.666667  \n",
       "137745            0.666667  \n",
       "137746            0.000000  \n",
       "137747            0.333333  \n",
       "137748            0.333333  \n",
       "137749            0.000000  \n",
       "137750            0.000000  \n",
       "137751            0.000000  \n",
       "137752            0.000000  \n",
       "137753            0.000000  \n",
       "137754            0.000000  \n",
       "137755            0.000000  \n",
       "137756            1.000000  \n",
       "137757            0.000000  \n",
       "137758            0.000000  \n",
       "137759            0.000000  \n",
       "137760            0.333333  \n",
       "137761            0.000000  \n",
       "137762            0.000000  \n",
       "137763            1.000000  \n",
       "137764            0.666667  \n",
       "137765            0.000000  \n",
       "137766            1.000000  \n",
       "137767            0.000000  \n",
       "137768            0.000000  \n",
       "137769            0.000000  \n",
       "137770            0.666667  \n",
       "137771            0.000000  \n",
       "137772            0.000000  \n",
       "137773            0.000000  \n",
       "\n",
       "[137774 rows x 11 columns]"
      ]
     },
     "execution_count": 31,
     "metadata": {},
     "output_type": "execute_result"
    }
   ],
   "source": [
    "scaled_df"
   ]
  },
  {
   "cell_type": "code",
   "execution_count": 32,
   "metadata": {},
   "outputs": [
    {
     "data": {
      "image/png": "[encoded data removed]",
      "text/plain": [
       "<matplotlib.figure.Figure at 0x1a1c54bed0>"
      ]
     },
     "metadata": {},
     "output_type": "display_data"
    },
    {
     "data": {
      "image/png": "[encoded data removed]",
      "text/plain": [
       "<matplotlib.figure.Figure at 0x1a1b8f5890>"
      ]
     },
     "metadata": {},
     "output_type": "display_data"
    },
    {
     "data": {
      "image/png": "[encoded data removed]",
      "text/plain": [
       "<matplotlib.figure.Figure at 0x1a1c5194d0>"
      ]
     },
     "metadata": {},
     "output_type": "display_data"
    }
   ],
   "source": [
    "fig, (ax1, ax2) = plt.subplots(ncols=2, figsize=(6, 5))\n",
    "ax1.set_title('Before Scaling')\n",
    "sns.kdeplot(df_full['NumberOfTimes90DaysLate'], ax=ax1)\n",
    "sns.kdeplot(df_full['NumberRealEstateLoansOrLines'], ax=ax1)\n",
    "sns.kdeplot(df_full['age'], ax=ax1)\n",
    "ax2.set_title('After Min-Max Scaling')\n",
    "sns.kdeplot(scaled_df['NumberOfTimes90DaysLate'], ax=ax2)\n",
    "sns.kdeplot(scaled_df['NumberRealEstateLoansOrLines'], ax=ax2)\n",
    "sns.kdeplot(scaled_df['age'], ax=ax2)\n",
    "plt.show()"
   ]
  },
  {
   "cell_type": "markdown",
   "metadata": {},
   "source": [
    "Now all data points are scaled to the 0-1 range!"
   ]
  },
  {
   "cell_type": "markdown",
   "metadata": {},
   "source": [
    "Some algorithms, such as Regression, require data to be normally distributed. I will create this by applying various transforms to the features such as log, square root, or cube root."
   ]
  },
  {
   "cell_type": "code",
   "execution_count": 33,
   "metadata": {},
   "outputs": [
    {
     "ename": "NameError",
     "evalue": "name 'PowerTransformer' is not defined",
     "output_type": "error",
     "traceback": [
      "\u001b[0;31m---------------------------------------------------------------------------\u001b[0m",
      "\u001b[0;31mNameError\u001b[0m                                 Traceback (most recent call last)",
      "\u001b[0;32m<ipython-input-33-eaf4d0403c0e>\u001b[0m in \u001b[0;36m<module>\u001b[0;34m()\u001b[0m\n\u001b[1;32m      1\u001b[0m \u001b[0mdf_full2\u001b[0m \u001b[0;34m=\u001b[0m \u001b[0mdf_full\u001b[0m\u001b[0;34m[\u001b[0m\u001b[0;34m[\u001b[0m\u001b[0;34m'RevolvingUtilizationOfUnsecuredLines'\u001b[0m\u001b[0;34m,\u001b[0m\u001b[0;34m'age'\u001b[0m\u001b[0;34m,\u001b[0m\u001b[0;34m'NumberOfTime30-59DaysPastDueNotWorse'\u001b[0m\u001b[0;34m,\u001b[0m\u001b[0;34m'DebtRatio'\u001b[0m\u001b[0;34m,\u001b[0m\u001b[0;34m'MonthlyIncome'\u001b[0m\u001b[0;34m,\u001b[0m\u001b[0;34m'NumberOfOpenCreditLinesAndLoans'\u001b[0m\u001b[0;34m,\u001b[0m\u001b[0;34m'NumberOfTimes90DaysLate'\u001b[0m\u001b[0;34m,\u001b[0m\u001b[0;34m'NumberRealEstateLoansOrLines'\u001b[0m\u001b[0;34m,\u001b[0m\u001b[0;34m'NumberOfTime60-89DaysPastDueNotWorse'\u001b[0m\u001b[0;34m,\u001b[0m\u001b[0;34m'NumberOfDependents'\u001b[0m\u001b[0;34m]\u001b[0m\u001b[0;34m]\u001b[0m\u001b[0;34m\u001b[0m\u001b[0m\n\u001b[0;32m----> 2\u001b[0;31m \u001b[0mbc\u001b[0m \u001b[0;34m=\u001b[0m \u001b[0mPowerTransformer\u001b[0m\u001b[0;34m(\u001b[0m\u001b[0mmethod\u001b[0m\u001b[0;34m=\u001b[0m\u001b[0;34m'box-cox'\u001b[0m\u001b[0;34m,\u001b[0m \u001b[0mstandardize\u001b[0m\u001b[0;34m=\u001b[0m\u001b[0mFalse\u001b[0m\u001b[0;34m)\u001b[0m\u001b[0;34m\u001b[0m\u001b[0m\n\u001b[0m\u001b[1;32m      3\u001b[0m \u001b[0myj\u001b[0m \u001b[0;34m=\u001b[0m \u001b[0mPowerTransformer\u001b[0m\u001b[0;34m(\u001b[0m\u001b[0mmethod\u001b[0m\u001b[0;34m=\u001b[0m\u001b[0;34m'yeo-johnson'\u001b[0m\u001b[0;34m,\u001b[0m \u001b[0mstandardize\u001b[0m\u001b[0;34m=\u001b[0m\u001b[0mFalse\u001b[0m\u001b[0;34m)\u001b[0m\u001b[0;34m\u001b[0m\u001b[0m\n",
      "\u001b[0;31mNameError\u001b[0m: name 'PowerTransformer' is not defined"
     ]
    }
   ],
   "source": [
    "df_full2 = df_full[['RevolvingUtilizationOfUnsecuredLines','age','NumberOfTime30-59DaysPastDueNotWorse','DebtRatio','MonthlyIncome','NumberOfOpenCreditLinesAndLoans','NumberOfTimes90DaysLate','NumberRealEstateLoansOrLines','NumberOfTime60-89DaysPastDueNotWorse','NumberOfDependents']]\n",
    "bc = PowerTransformer(method='box-cox', standardize=False)\n",
    "yj = PowerTransformer(method='yeo-johnson', standardize=False)"
   ]
  },
  {
   "cell_type": "code",
   "execution_count": 35,
   "metadata": {},
   "outputs": [
    {
     "ename": "NameError",
     "evalue": "name 'yj' is not defined",
     "output_type": "error",
     "traceback": [
      "\u001b[0;31m---------------------------------------------------------------------------\u001b[0m",
      "\u001b[0;31mNameError\u001b[0m                                 Traceback (most recent call last)",
      "\u001b[0;32m<ipython-input-35-e682c62f016c>\u001b[0m in \u001b[0;36m<module>\u001b[0;34m()\u001b[0m\n\u001b[0;32m----> 1\u001b[0;31m \u001b[0mnorm_df\u001b[0m \u001b[0;34m=\u001b[0m \u001b[0myj\u001b[0m\u001b[0;34m.\u001b[0m\u001b[0mfit_transform\u001b[0m\u001b[0;34m(\u001b[0m\u001b[0mdf_full2\u001b[0m\u001b[0;34m)\u001b[0m\u001b[0;34m\u001b[0m\u001b[0m\n\u001b[0m\u001b[1;32m      2\u001b[0m \u001b[0mnorm_df\u001b[0m \u001b[0;34m=\u001b[0m \u001b[0mpd\u001b[0m\u001b[0;34m.\u001b[0m\u001b[0mDataFrame\u001b[0m\u001b[0;34m(\u001b[0m\u001b[0mnorm_df\u001b[0m\u001b[0;34m,\u001b[0m \u001b[0mcolumns\u001b[0m\u001b[0;34m=\u001b[0m\u001b[0;34m[\u001b[0m\u001b[0;34m'RevolvingUtilizationOfUnsecuredLines'\u001b[0m\u001b[0;34m,\u001b[0m\u001b[0;34m'age'\u001b[0m\u001b[0;34m,\u001b[0m\u001b[0;34m'NumberOfTime30-59DaysPastDueNotWorse'\u001b[0m\u001b[0;34m,\u001b[0m\u001b[0;34m'DebtRatio'\u001b[0m\u001b[0;34m,\u001b[0m\u001b[0;34m'MonthlyIncome'\u001b[0m\u001b[0;34m,\u001b[0m\u001b[0;34m'NumberOfOpenCreditLinesAndLoans'\u001b[0m\u001b[0;34m,\u001b[0m\u001b[0;34m'NumberOfTimes90DaysLate'\u001b[0m\u001b[0;34m,\u001b[0m\u001b[0;34m'NumberRealEstateLoansOrLines'\u001b[0m\u001b[0;34m,\u001b[0m\u001b[0;34m'NumberOfTime60-89DaysPastDueNotWorse'\u001b[0m\u001b[0;34m,\u001b[0m\u001b[0;34m'NumberOfDependents'\u001b[0m\u001b[0;34m]\u001b[0m\u001b[0;34m)\u001b[0m\u001b[0;34m\u001b[0m\u001b[0m\n",
      "\u001b[0;31mNameError\u001b[0m: name 'yj' is not defined"
     ]
    }
   ],
   "source": [
    "norm_df = yj.fit_transform(df_full2)\n",
    "norm_df = pd.DataFrame(norm_df, columns=['RevolvingUtilizationOfUnsecuredLines','age','NumberOfTime30-59DaysPastDueNotWorse','DebtRatio','MonthlyIncome','NumberOfOpenCreditLinesAndLoans','NumberOfTimes90DaysLate','NumberRealEstateLoansOrLines','NumberOfTime60-89DaysPastDueNotWorse','NumberOfDependents'])"
   ]
  },
  {
   "cell_type": "code",
   "execution_count": null,
   "metadata": {
    "collapsed": true
   },
   "outputs": [],
   "source": [
    "norm_df = pd.merge(df_full[['SeriousDlqin2yrs']], norm_df, left_index=True, right_index= True)"
   ]
  },
  {
   "cell_type": "code",
   "execution_count": null,
   "metadata": {
    "collapsed": true
   },
   "outputs": [],
   "source": [
    "norm_df.describe()"
   ]
  },
  {
   "cell_type": "code",
   "execution_count": null,
   "metadata": {
    "collapsed": true
   },
   "outputs": [],
   "source": [
    "f, axes = plt.subplots(3, 4, figsize=(10, 10), sharex=False)\n",
    "sns.distplot( df_full2[\"NumberOfDependents\"] , color=\"olive\", ax=axes[0, 0])\n",
    "sns.distplot( df_full2[\"NumberOfTime30-59DaysPastDueNotWorse\"] , color=\"green\", ax=axes[0, 1])\n",
    "sns.distplot( df_full2[\"NumberOfOpenCreditLinesAndLoans\"] , color=\"red\", ax=axes[1, 0])\n",
    "sns.distplot( df_full2[\"NumberOfTimes90DaysLate\"] , color=\"blue\", ax=axes[1, 1])\n",
    "sns.distplot( df_full2[\"NumberRealEstateLoansOrLines\"] , color=\"teal\", ax=axes[2, 0])\n",
    "sns.distplot( df_full2[\"NumberOfTime60-89DaysPastDueNotWorse\"] , color=\"magenta\", ax=axes[2, 1])\n",
    "sns.distplot( df_full2[\"MonthlyIncome\"] , color=\"firebrick\", ax=axes[0, 2])\n",
    "sns.distplot( df_full2[\"age\"] , color=\"darkorange\", ax=axes[1, 2])\n",
    "sns.distplot( df_full2[\"RevolvingUtilizationOfUnsecuredLines\"] , color=\"darkorchid\", ax=axes[2, 2])\n",
    "sns.distplot( df_full2[\"DebtRatio\"] , color=\"goldenrod\", ax=axes[0, 3])"
   ]
  },
  {
   "cell_type": "code",
   "execution_count": null,
   "metadata": {
    "collapsed": true
   },
   "outputs": [],
   "source": [
    "f, axes = plt.subplots(3, 4, figsize=(10, 10), sharex=False)\n",
    "sns.distplot( norm_df[\"NumberOfDependents\"] , color=\"olive\", ax=axes[0, 0])\n",
    "sns.distplot( norm_df[\"NumberOfTime30-59DaysPastDueNotWorse\"] , color=\"green\", ax=axes[0, 1])\n",
    "sns.distplot( norm_df[\"NumberOfOpenCreditLinesAndLoans\"] , color=\"red\", ax=axes[1, 0])\n",
    "sns.distplot( norm_df[\"NumberOfTimes90DaysLate\"] , color=\"blue\", ax=axes[1, 1])\n",
    "sns.distplot( norm_df[\"NumberRealEstateLoansOrLines\"] , color=\"teal\", ax=axes[2, 0])\n",
    "sns.distplot( norm_df[\"NumberOfTime60-89DaysPastDueNotWorse\"] , color=\"magenta\", ax=axes[2, 1])\n",
    "sns.distplot( norm_df[\"MonthlyIncome\"] , color=\"firebrick\", ax=axes[0, 2])\n",
    "sns.distplot( norm_df[\"age\"] , color=\"darkorange\", ax=axes[1, 2])\n",
    "sns.distplot( norm_df[\"RevolvingUtilizationOfUnsecuredLines\"] , color=\"darkorchid\", ax=axes[2, 2])\n",
    "sns.distplot( norm_df[\"DebtRatio\"] , color=\"goldenrod\", ax=axes[0, 3])"
   ]
  },
  {
   "cell_type": "markdown",
   "metadata": {},
   "source": [
    "As you can see, the yeo-johnson transform did imporve the data's normal distribution."
   ]
  },
  {
   "cell_type": "markdown",
   "metadata": {},
   "source": [
    "# Train/Validate Split"
   ]
  },
  {
   "cell_type": "code",
   "execution_count": 36,
   "metadata": {
    "collapsed": true
   },
   "outputs": [],
   "source": [
    "columns=(['RevolvingUtilizationOfUnsecuredLines','age','NumberOfTime30-59DaysPastDueNotWorse','DebtRatio','MonthlyIncome','NumberOfOpenCreditLinesAndLoans','NumberOfTimes90DaysLate','NumberRealEstateLoansOrLines','NumberOfTime60-89DaysPastDueNotWorse','NumberOfDependents'])\n",
    "full_train_cols = pd.DataFrame(df_full, columns = columns)\n",
    "full_train_target = pd.DataFrame(df_full['SeriousDlqin2yrs'])\n",
    "#full, unscaled dataset split\n",
    "fullxTrain, fullxTest, fullyTrain, fullyTest = train_test_split(full_train_cols, full_train_target, test_size = 0.2)"
   ]
  },
  {
   "cell_type": "code",
   "execution_count": 37,
   "metadata": {
    "collapsed": true
   },
   "outputs": [],
   "source": [
    "columns=(['RevolvingUtilizationOfUnsecuredLines','age','NumberOfTime30-59DaysPastDueNotWorse','DebtRatio','MonthlyIncome','NumberOfOpenCreditLinesAndLoans','NumberOfTimes90DaysLate','NumberRealEstateLoansOrLines','NumberOfTime60-89DaysPastDueNotWorse','NumberOfDependents'])\n",
    "scaled_train_cols = pd.DataFrame(scaled_df, columns = columns)\n",
    "scaled_train_target = pd.DataFrame(scaled_df['SeriousDlqin2yrs'])\n",
    "#scaled dataset split\n",
    "scaledxTrain, scaledxTest, scaledyTrain, scaledyTest = train_test_split(scaled_train_cols, scaled_train_target, test_size = 0.2)"
   ]
  },
  {
   "cell_type": "code",
   "execution_count": 38,
   "metadata": {},
   "outputs": [
    {
     "ename": "NameError",
     "evalue": "name 'norm_df' is not defined",
     "output_type": "error",
     "traceback": [
      "\u001b[0;31m---------------------------------------------------------------------------\u001b[0m",
      "\u001b[0;31mNameError\u001b[0m                                 Traceback (most recent call last)",
      "\u001b[0;32m<ipython-input-38-1e2c6a5967ec>\u001b[0m in \u001b[0;36m<module>\u001b[0;34m()\u001b[0m\n\u001b[0;32m----> 1\u001b[0;31m \u001b[0mnorm_train_cols\u001b[0m \u001b[0;34m=\u001b[0m \u001b[0mpd\u001b[0m\u001b[0;34m.\u001b[0m\u001b[0mDataFrame\u001b[0m\u001b[0;34m(\u001b[0m\u001b[0mnorm_df\u001b[0m\u001b[0;34m,\u001b[0m \u001b[0mcolumns\u001b[0m \u001b[0;34m=\u001b[0m \u001b[0mcolumns\u001b[0m\u001b[0;34m)\u001b[0m\u001b[0;34m\u001b[0m\u001b[0m\n\u001b[0m\u001b[1;32m      2\u001b[0m \u001b[0mnorm_train_target\u001b[0m \u001b[0;34m=\u001b[0m \u001b[0mpd\u001b[0m\u001b[0;34m.\u001b[0m\u001b[0mDataFrame\u001b[0m\u001b[0;34m(\u001b[0m\u001b[0mnorm_df\u001b[0m\u001b[0;34m[\u001b[0m\u001b[0;34m'SeriousDlqin2yrs'\u001b[0m\u001b[0;34m]\u001b[0m\u001b[0;34m)\u001b[0m\u001b[0;34m\u001b[0m\u001b[0m\n\u001b[1;32m      3\u001b[0m \u001b[0;31m#normal distributed dataset split\u001b[0m\u001b[0;34m\u001b[0m\u001b[0;34m\u001b[0m\u001b[0m\n\u001b[1;32m      4\u001b[0m \u001b[0mnormxTrain\u001b[0m\u001b[0;34m,\u001b[0m \u001b[0mnormxTest\u001b[0m\u001b[0;34m,\u001b[0m \u001b[0mnormyTrain\u001b[0m\u001b[0;34m,\u001b[0m \u001b[0mnormyTest\u001b[0m \u001b[0;34m=\u001b[0m \u001b[0mtrain_test_split\u001b[0m\u001b[0;34m(\u001b[0m\u001b[0mnorm_train_cols\u001b[0m\u001b[0;34m,\u001b[0m \u001b[0mnorm_train_target\u001b[0m\u001b[0;34m,\u001b[0m \u001b[0mtest_size\u001b[0m \u001b[0;34m=\u001b[0m \u001b[0;36m0.2\u001b[0m\u001b[0;34m)\u001b[0m\u001b[0;34m\u001b[0m\u001b[0m\n",
      "\u001b[0;31mNameError\u001b[0m: name 'norm_df' is not defined"
     ]
    }
   ],
   "source": [
    "norm_train_cols = pd.DataFrame(norm_df, columns = columns)\n",
    "norm_train_target = pd.DataFrame(norm_df['SeriousDlqin2yrs'])\n",
    "#normal distributed dataset split\n",
    "normxTrain, normxTest, normyTrain, normyTest = train_test_split(norm_train_cols, norm_train_target, test_size = 0.2)"
   ]
  },
  {
   "cell_type": "code",
   "execution_count": null,
   "metadata": {
    "collapsed": true
   },
   "outputs": [],
   "source": [
    "print(fullxTrain.shape, fullyTrain.shape)\n",
    "print(fullxTest.shape, fullyTest.shape)"
   ]
  },
  {
   "cell_type": "code",
   "execution_count": 39,
   "metadata": {},
   "outputs": [
    {
     "name": "stdout",
     "output_type": "stream",
     "text": [
      "((110219, 10), (110219, 1))\n",
      "((27555, 10), (27555, 1))\n"
     ]
    }
   ],
   "source": [
    "print(scaledxTrain.shape, scaledyTrain.shape)\n",
    "print(scaledxTest.shape, scaledyTest.shape)"
   ]
  },
  {
   "cell_type": "code",
   "execution_count": null,
   "metadata": {
    "collapsed": true
   },
   "outputs": [],
   "source": [
    "print(normxTrain.shape, normyTrain.shape)\n",
    "print(normxTest.shape, normyTest.shape)"
   ]
  },
  {
   "cell_type": "code",
   "execution_count": null,
   "metadata": {
    "collapsed": true
   },
   "outputs": [],
   "source": [
    "print(fullxTrain.describe(), fullyTrain.describe())"
   ]
  },
  {
   "cell_type": "code",
   "execution_count": null,
   "metadata": {
    "collapsed": true
   },
   "outputs": [],
   "source": [
    "#print results\n",
    "print(fullxTest.describe(), fullyTest.describe())"
   ]
  },
  {
   "cell_type": "code",
   "execution_count": 40,
   "metadata": {},
   "outputs": [
    {
     "name": "stdout",
     "output_type": "stream",
     "text": [
      "(       RevolvingUtilizationOfUnsecuredLines            age  \\\n",
      "count                         110219.000000  110219.000000   \n",
      "mean                               0.000609       0.458435   \n",
      "std                                0.007252       0.217526   \n",
      "min                                0.000000       0.000000   \n",
      "25%                                0.000047       0.294118   \n",
      "50%                                0.000241       0.455882   \n",
      "75%                                0.000905       0.617647   \n",
      "max                                0.964286       1.000000   \n",
      "\n",
      "       NumberOfTime30-59DaysPastDueNotWorse      DebtRatio  MonthlyIncome  \\\n",
      "count                         110219.000000  110219.000000  110219.000000   \n",
      "mean                               0.023701       0.052741       0.154077   \n",
      "std                                0.067801       0.149728       0.096570   \n",
      "min                                0.000000       0.000000       0.000000   \n",
      "25%                                0.000000       0.000031       0.097763   \n",
      "50%                                0.000000       0.000066       0.139958   \n",
      "75%                                0.000000       0.000156       0.182490   \n",
      "max                                1.000000       1.000000       1.000000   \n",
      "\n",
      "       NumberOfOpenCreditLinesAndLoans  NumberOfTimes90DaysLate  \\\n",
      "count                    110219.000000            110219.000000   \n",
      "mean                          0.379286                 0.008880   \n",
      "std                           0.210279                 0.046523   \n",
      "min                           0.000000                 0.000000   \n",
      "25%                           0.238095                 0.000000   \n",
      "50%                           0.333333                 0.000000   \n",
      "75%                           0.523810                 0.000000   \n",
      "max                           1.000000                 1.000000   \n",
      "\n",
      "       NumberRealEstateLoansOrLines  NumberOfTime60-89DaysPastDueNotWorse  \\\n",
      "count                 110219.000000                         110219.000000   \n",
      "mean                       0.299053                              0.007052   \n",
      "std                        0.287706                              0.035795   \n",
      "min                        0.000000                              0.000000   \n",
      "25%                        0.000000                              0.000000   \n",
      "50%                        0.333333                              0.000000   \n",
      "75%                        0.333333                              0.000000   \n",
      "max                        1.000000                              1.000000   \n",
      "\n",
      "       NumberOfDependents  \n",
      "count       110219.000000  \n",
      "mean             0.213920  \n",
      "std              0.313850  \n",
      "min              0.000000  \n",
      "25%              0.000000  \n",
      "50%              0.000000  \n",
      "75%              0.333333  \n",
      "max              1.000000  ,        SeriousDlqin2yrs\n",
      "count     110219.000000\n",
      "mean           0.063673\n",
      "std            0.244171\n",
      "min            0.000000\n",
      "25%            0.000000\n",
      "50%            0.000000\n",
      "75%            0.000000\n",
      "max            1.000000)\n",
      "(       RevolvingUtilizationOfUnsecuredLines           age  \\\n",
      "count                          27555.000000  27555.000000   \n",
      "mean                               0.000705      0.459083   \n",
      "std                                0.011294      0.217163   \n",
      "min                                0.000000      0.000000   \n",
      "25%                                0.000047      0.294118   \n",
      "50%                                0.000247      0.455882   \n",
      "75%                                0.000902      0.617647   \n",
      "max                                1.000000      1.000000   \n",
      "\n",
      "       NumberOfTime30-59DaysPastDueNotWorse     DebtRatio  MonthlyIncome  \\\n",
      "count                          27555.000000  27555.000000   27555.000000   \n",
      "mean                               0.023970      0.051740       0.154774   \n",
      "std                                0.068428      0.147961       0.096745   \n",
      "min                                0.000000      0.000000       0.000000   \n",
      "25%                                0.000000      0.000031       0.098489   \n",
      "50%                                0.000000      0.000066       0.139958   \n",
      "75%                                0.000000      0.000153       0.184019   \n",
      "max                                0.800000      0.996878       0.993520   \n",
      "\n",
      "       NumberOfOpenCreditLinesAndLoans  NumberOfTimes90DaysLate  \\\n",
      "count                     27555.000000             27555.000000   \n",
      "mean                          0.380650                 0.009719   \n",
      "std                           0.210663                 0.048404   \n",
      "min                           0.000000                 0.000000   \n",
      "25%                           0.238095                 0.000000   \n",
      "50%                           0.333333                 0.000000   \n",
      "75%                           0.523810                 0.000000   \n",
      "max                           1.000000                 1.000000   \n",
      "\n",
      "       NumberRealEstateLoansOrLines  NumberOfTime60-89DaysPastDueNotWorse  \\\n",
      "count                  27555.000000                          27555.000000   \n",
      "mean                       0.301071                              0.007520   \n",
      "std                        0.289563                              0.037929   \n",
      "min                        0.000000                              0.000000   \n",
      "25%                        0.000000                              0.000000   \n",
      "50%                        0.333333                              0.000000   \n",
      "75%                        0.666667                              0.000000   \n",
      "max                        1.000000                              0.777778   \n",
      "\n",
      "       NumberOfDependents  \n",
      "count        27555.000000  \n",
      "mean             0.212641  \n",
      "std              0.312662  \n",
      "min              0.000000  \n",
      "25%              0.000000  \n",
      "50%              0.000000  \n",
      "75%              0.333333  \n",
      "max              1.000000  ,        SeriousDlqin2yrs\n",
      "count      27555.000000\n",
      "mean           0.065687\n",
      "std            0.247738\n",
      "min            0.000000\n",
      "25%            0.000000\n",
      "50%            0.000000\n",
      "75%            0.000000\n",
      "max            1.000000)\n"
     ]
    }
   ],
   "source": [
    "print(scaledxTrain.describe(), scaledyTrain.describe())\n",
    "#print results\n",
    "print(scaledxTest.describe(), scaledyTest.describe())"
   ]
  },
  {
   "cell_type": "code",
   "execution_count": 41,
   "metadata": {},
   "outputs": [
    {
     "ename": "NameError",
     "evalue": "name 'normxTrain' is not defined",
     "output_type": "error",
     "traceback": [
      "\u001b[0;31m---------------------------------------------------------------------------\u001b[0m",
      "\u001b[0;31mNameError\u001b[0m                                 Traceback (most recent call last)",
      "\u001b[0;32m<ipython-input-41-6c1a18f0eb67>\u001b[0m in \u001b[0;36m<module>\u001b[0;34m()\u001b[0m\n\u001b[0;32m----> 1\u001b[0;31m \u001b[0;32mprint\u001b[0m\u001b[0;34m(\u001b[0m\u001b[0mnormxTrain\u001b[0m\u001b[0;34m.\u001b[0m\u001b[0mdescribe\u001b[0m\u001b[0;34m(\u001b[0m\u001b[0;34m)\u001b[0m\u001b[0;34m,\u001b[0m \u001b[0mnormyTrain\u001b[0m\u001b[0;34m.\u001b[0m\u001b[0mdescribe\u001b[0m\u001b[0;34m(\u001b[0m\u001b[0;34m)\u001b[0m\u001b[0;34m)\u001b[0m\u001b[0;34m\u001b[0m\u001b[0m\n\u001b[0m\u001b[1;32m      2\u001b[0m \u001b[0;31m#print results\u001b[0m\u001b[0;34m\u001b[0m\u001b[0;34m\u001b[0m\u001b[0m\n\u001b[1;32m      3\u001b[0m \u001b[0;32mprint\u001b[0m\u001b[0;34m(\u001b[0m\u001b[0mnormxTest\u001b[0m\u001b[0;34m.\u001b[0m\u001b[0mdescribe\u001b[0m\u001b[0;34m(\u001b[0m\u001b[0;34m)\u001b[0m\u001b[0;34m,\u001b[0m \u001b[0mnormyTest\u001b[0m\u001b[0;34m.\u001b[0m\u001b[0mdescribe\u001b[0m\u001b[0;34m(\u001b[0m\u001b[0;34m)\u001b[0m\u001b[0;34m)\u001b[0m\u001b[0;34m\u001b[0m\u001b[0m\n",
      "\u001b[0;31mNameError\u001b[0m: name 'normxTrain' is not defined"
     ]
    }
   ],
   "source": [
    "print(normxTrain.describe(), normyTrain.describe())\n",
    "#print results\n",
    "print(normxTest.describe(), normyTest.describe())"
   ]
  },
  {
   "cell_type": "markdown",
   "metadata": {},
   "source": [
    "# Logistic Regression"
   ]
  },
  {
   "cell_type": "code",
   "execution_count": null,
   "metadata": {
    "collapsed": true
   },
   "outputs": [],
   "source": []
  },
  {
   "cell_type": "markdown",
   "metadata": {},
   "source": [
    "### Multi-collinearity analysis"
   ]
  },
  {
   "cell_type": "markdown",
   "metadata": {},
   "source": [
    "# Decision Tree"
   ]
  },
  {
   "cell_type": "markdown",
   "metadata": {},
   "source": [
    "# Random Forest"
   ]
  },
  {
   "cell_type": "markdown",
   "metadata": {},
   "source": [
    "# Support Vector Machines (SVM)"
   ]
  },
  {
   "cell_type": "markdown",
   "metadata": {},
   "source": [
    "### Classify using SVM"
   ]
  },
  {
   "cell_type": "code",
   "execution_count": 42,
   "metadata": {
    "scrolled": true
   },
   "outputs": [
    {
     "name": "stdout",
     "output_type": "stream",
     "text": [
      "Predictions form the classifier:\n",
      "[0. 0. 0. ... 0. 0. 0.]\n",
      "Target values:\n",
      "        SeriousDlqin2yrs\n",
      "43636                0.0\n",
      "99772                0.0\n",
      "69714                0.0\n",
      "98586                0.0\n",
      "71042                0.0\n",
      "93779                0.0\n",
      "79345                0.0\n",
      "73294                0.0\n",
      "55124                0.0\n",
      "85128                0.0\n",
      "542                  0.0\n",
      "67846                1.0\n",
      "50259                0.0\n",
      "87057                0.0\n",
      "12146                0.0\n",
      "48982                0.0\n",
      "89403                0.0\n",
      "89133                0.0\n",
      "45512                0.0\n",
      "75667                0.0\n",
      "42720                0.0\n",
      "47845                0.0\n",
      "14981                0.0\n",
      "135089               0.0\n",
      "12372                0.0\n",
      "34558                0.0\n",
      "131444               0.0\n",
      "130416               1.0\n",
      "10176                0.0\n",
      "27921                0.0\n",
      "...                  ...\n",
      "16573                0.0\n",
      "66787                0.0\n",
      "130762               0.0\n",
      "98541                0.0\n",
      "128805               0.0\n",
      "129995               0.0\n",
      "112038               0.0\n",
      "126828               0.0\n",
      "110145               0.0\n",
      "41411                0.0\n",
      "61166                0.0\n",
      "11872                0.0\n",
      "31021                0.0\n",
      "803                  0.0\n",
      "104285               0.0\n",
      "113125               0.0\n",
      "56017                0.0\n",
      "72333                0.0\n",
      "78401                0.0\n",
      "104856               0.0\n",
      "23100                0.0\n",
      "136952               0.0\n",
      "116635               0.0\n",
      "97071                0.0\n",
      "96931                0.0\n",
      "108288               0.0\n",
      "2920                 0.0\n",
      "10643                0.0\n",
      "34016                1.0\n",
      "64056                0.0\n",
      "\n",
      "[110219 rows x 1 columns]\n"
     ]
    },
    {
     "name": "stderr",
     "output_type": "stream",
     "text": [
      "/Users/bean/anaconda/lib/python2.7/site-packages/sklearn/utils/validation.py:578: DataConversionWarning: A column-vector y was passed when a 1d array was expected. Please change the shape of y to (n_samples, ), for example using ravel().\n",
      "  y = column_or_1d(y, warn=True)\n"
     ]
    }
   ],
   "source": [
    "clf = LinearSVC(C = .05, multi_class='ovr', penalty='l2', random_state=1)\n",
    "clf.fit(scaledxTrain,scaledyTrain)\n",
    "\n",
    "print(\"Predictions form the classifier:\")\n",
    "print(clf.predict(scaledxTest))\n",
    "print(\"Target values:\")\n",
    "print(scaledyTrain)"
   ]
  },
  {
   "cell_type": "markdown",
   "metadata": {},
   "source": [
    "### Accuracy"
   ]
  },
  {
   "cell_type": "code",
   "execution_count": 51,
   "metadata": {
    "scrolled": true
   },
   "outputs": [
    {
     "name": "stdout",
     "output_type": "stream",
     "text": [
      "0.9389851114599116\n"
     ]
    }
   ],
   "source": [
    "from sklearn import metrics\n",
    "\n",
    "y_pred = clf.predict(scaledxTrain)\n",
    "\n",
    "print(metrics.accuracy_score(scaledyTrain, y_pred))"
   ]
  },
  {
   "cell_type": "markdown",
   "metadata": {},
   "source": [
    "### Feature Analysis"
   ]
  },
  {
   "cell_type": "code",
   "execution_count": 81,
   "metadata": {},
   "outputs": [
    {
     "name": "stdout",
     "output_type": "stream",
     "text": [
      "Beta for each feature: \n",
      "[ 0.27914819 -0.14182901  1.23903112 -0.0387331  -0.16626081 -0.01080518\n",
      "  2.48777037 -0.00708597  1.85522326  0.01738981]\n"
     ]
    },
    {
     "data": {
      "image/png": "[encoded data removed]",
      "text/plain": [
       "<matplotlib.figure.Figure at 0x1a1d924610>"
      ]
     },
     "metadata": {},
     "output_type": "display_data"
    },
    {
     "name": "stdout",
     "output_type": "stream",
     "text": [
      "The most important features are: \n",
      "[2 8 6]\n",
      "NumberOfOpenCreditLinesAndLoans\n",
      "NumberOfDependents\n"
     ]
    },
    {
     "ename": "IndexError",
     "evalue": "list index out of range",
     "output_type": "error",
     "traceback": [
      "\u001b[0;31m---------------------------------------------------------------------------\u001b[0m",
      "\u001b[0;31mIndexError\u001b[0m                                Traceback (most recent call last)",
      "\u001b[0;32m<ipython-input-81-5e17c54f77fd>\u001b[0m in \u001b[0;36m<module>\u001b[0;34m()\u001b[0m\n\u001b[1;32m     30\u001b[0m     \u001b[0;32mif\u001b[0m \u001b[0mindex\u001b[0m \u001b[0;32min\u001b[0m \u001b[0mb\u001b[0m\u001b[0;34m:\u001b[0m\u001b[0;34m\u001b[0m\u001b[0m\n\u001b[1;32m     31\u001b[0m         \u001b[0mi\u001b[0m \u001b[0;34m=\u001b[0m \u001b[0mindex\u001b[0m \u001b[0;34m+\u001b[0m \u001b[0;36m4\u001b[0m\u001b[0;34m\u001b[0m\u001b[0m\n\u001b[0;32m---> 32\u001b[0;31m         \u001b[0;32mprint\u001b[0m \u001b[0;34m(\u001b[0m\u001b[0mnames\u001b[0m\u001b[0;34m[\u001b[0m\u001b[0mi\u001b[0m\u001b[0;34m]\u001b[0m\u001b[0;34m)\u001b[0m\u001b[0;34m\u001b[0m\u001b[0m\n\u001b[0m",
      "\u001b[0;31mIndexError\u001b[0m: list index out of range"
     ]
    }
   ],
   "source": [
    "featureList2 = []\n",
    "\n",
    "coef = clf.coef_\n",
    "featureList2.append(coef)\n",
    "\n",
    "print (\"Beta for each feature: \")\n",
    "    \n",
    "coef1 = np.mean(featureList2, axis = 0)\n",
    "coef2 = np.mean(coef1, axis = 0)\n",
    "print coef2 \n",
    "coefabs = abs(coef2)\n",
    "coefT = coefabs.transpose()\n",
    "y = coefT\n",
    "N = len(y)    \n",
    "x = range(N)\n",
    "width = 1/1.5\n",
    "lam = 1./.05\n",
    "plt.bar(x, y, width, color=\"purple\")\n",
    "plt.xlabel('Feature Number')\n",
    "plt.ylabel('Beta')\n",
    "plt.title('Most Important Features for Linear SVM with lam as ' + str(lam))\n",
    "plt.show()\n",
    "\n",
    "print (\"The most important features are: \")\n",
    "b = np.argsort(coefT)[-3:]\n",
    "print b\n",
    "names = list(df_full.columns.values)\n",
    "lengthNames = len(names)\n",
    "for index in range(lengthNames):\n",
    "    if index in b:\n",
    "        i = index + 4\n",
    "        print (names[i])"
   ]
  },
  {
   "cell_type": "markdown",
   "metadata": {},
   "source": [
    "# Artificial Neural Networks (ANN)"
   ]
  },
  {
   "cell_type": "markdown",
   "metadata": {},
   "source": [
    "# k-Nearest Neighbors (k-NN)"
   ]
  },
  {
   "cell_type": "markdown",
   "metadata": {},
   "source": [
    "### Classify with 5 neighbors"
   ]
  },
  {
   "cell_type": "code",
   "execution_count": 53,
   "metadata": {},
   "outputs": [
    {
     "name": "stderr",
     "output_type": "stream",
     "text": [
      "/Users/bean/anaconda/lib/python2.7/site-packages/ipykernel_launcher.py:2: DataConversionWarning: A column-vector y was passed when a 1d array was expected. Please change the shape of y to (n_samples, ), for example using ravel().\n",
      "  \n"
     ]
    },
    {
     "name": "stdout",
     "output_type": "stream",
     "text": [
      "Predictions form the classifier:\n",
      "[0. 0. 0. ... 0. 0. 0.]\n",
      "Target values:\n",
      "        SeriousDlqin2yrs\n",
      "43636                0.0\n",
      "99772                0.0\n",
      "69714                0.0\n",
      "98586                0.0\n",
      "71042                0.0\n",
      "93779                0.0\n",
      "79345                0.0\n",
      "73294                0.0\n",
      "55124                0.0\n",
      "85128                0.0\n",
      "542                  0.0\n",
      "67846                1.0\n",
      "50259                0.0\n",
      "87057                0.0\n",
      "12146                0.0\n",
      "48982                0.0\n",
      "89403                0.0\n",
      "89133                0.0\n",
      "45512                0.0\n",
      "75667                0.0\n",
      "42720                0.0\n",
      "47845                0.0\n",
      "14981                0.0\n",
      "135089               0.0\n",
      "12372                0.0\n",
      "34558                0.0\n",
      "131444               0.0\n",
      "130416               1.0\n",
      "10176                0.0\n",
      "27921                0.0\n",
      "...                  ...\n",
      "16573                0.0\n",
      "66787                0.0\n",
      "130762               0.0\n",
      "98541                0.0\n",
      "128805               0.0\n",
      "129995               0.0\n",
      "112038               0.0\n",
      "126828               0.0\n",
      "110145               0.0\n",
      "41411                0.0\n",
      "61166                0.0\n",
      "11872                0.0\n",
      "31021                0.0\n",
      "803                  0.0\n",
      "104285               0.0\n",
      "113125               0.0\n",
      "56017                0.0\n",
      "72333                0.0\n",
      "78401                0.0\n",
      "104856               0.0\n",
      "23100                0.0\n",
      "136952               0.0\n",
      "116635               0.0\n",
      "97071                0.0\n",
      "96931                0.0\n",
      "108288               0.0\n",
      "2920                 0.0\n",
      "10643                0.0\n",
      "34016                1.0\n",
      "64056                0.0\n",
      "\n",
      "[110219 rows x 1 columns]\n"
     ]
    }
   ],
   "source": [
    "knn = KNeighborsClassifier()\n",
    "knn.fit(scaledxTrain, scaledyTrain) \n",
    "KNeighborsClassifier(algorithm='auto', \n",
    "                     leaf_size=30, \n",
    "                     metric='minkowski',\n",
    "                     metric_params=None, \n",
    "                     n_jobs=1, \n",
    "                     n_neighbors=5, \n",
    "                     p=2,\n",
    "                     weights='uniform')\n",
    "print(\"Predictions form the classifier:\")\n",
    "print(knn.predict(scaledxTest))\n",
    "print(\"Target values:\")\n",
    "print(scaledyTrain)\n"
   ]
  },
  {
   "cell_type": "markdown",
   "metadata": {},
   "source": [
    "### Accuracy"
   ]
  },
  {
   "cell_type": "code",
   "execution_count": 54,
   "metadata": {},
   "outputs": [
    {
     "name": "stdout",
     "output_type": "stream",
     "text": [
      "0.9457534544860686\n"
     ]
    }
   ],
   "source": [
    "from sklearn import metrics\n",
    "\n",
    "y_pred = knn.predict(scaledxTrain)\n",
    "\n",
    "print(metrics.accuracy_score(scaledyTrain, y_pred))"
   ]
  },
  {
   "cell_type": "code",
   "execution_count": null,
   "metadata": {
    "collapsed": true
   },
   "outputs": [],
   "source": []
  },
  {
   "cell_type": "markdown",
   "metadata": {},
   "source": [
    "# Stacked Ensemble Model"
   ]
  },
  {
   "cell_type": "markdown",
   "metadata": {},
   "source": [
    "# Comparison of All Models"
   ]
  },
  {
   "cell_type": "markdown",
   "metadata": {},
   "source": [
    "# References"
   ]
  }
 ],
 "metadata": {
  "kernelspec": {
   "display_name": "Python 2",
   "language": "python",
   "name": "python2"
  },
  "language_info": {
   "codemirror_mode": {
    "name": "ipython",
    "version": 2
   },
   "file_extension": ".py",
   "mimetype": "text/x-python",
   "name": "python",
   "nbconvert_exporter": "python",
   "pygments_lexer": "ipython2",
   "version": "2.7.13"
  }
 },
 "nbformat": 4,
 "nbformat_minor": 2
}
