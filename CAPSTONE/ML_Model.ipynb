{
 "cells": [
  {
   "cell_type": "markdown",
   "metadata": {},
   "source": [
    "Importing the necessary Python libraries"
   ]
  },
  {
   "cell_type": "markdown",
   "metadata": {},
   "source": [
    "# Import Necessary Libraries"
   ]
  },
  {
   "cell_type": "code",
   "execution_count": 202,
   "metadata": {
    "collapsed": true
   },
   "outputs": [],
   "source": [
    "import pandas as pd\n",
    "import numpy as np\n",
    "from pandas import DataFrame\n",
    "import matplotlib.pyplot as plt\n",
    "from scipy import stats\n",
    "import seaborn as sns\n",
    "from sklearn.preprocessing import MinMaxScaler\n",
    "from sklearn.preprocessing import PowerTransformer\n",
    "from sklearn.preprocessing import QuantileTransformer\n",
    "from sklearn.neighbors import KNeighborsClassifier\n",
    "from sklearn.model_selection import KFold\n",
    "from sklearn.model_selection import train_test_split"
   ]
  },
  {
   "cell_type": "markdown",
   "metadata": {},
   "source": [
    "# Data Loading"
   ]
  },
  {
   "cell_type": "code",
   "execution_count": 168,
   "metadata": {
    "collapsed": true
   },
   "outputs": [],
   "source": [
    "train = pd.read_csv(\"cs-training.csv\", index_col = 0)\n",
    "test = pd.read_csv(\"cs-test.csv\", index_col = 0)"
   ]
  },
  {
   "cell_type": "code",
   "execution_count": 169,
   "metadata": {
    "collapsed": true
   },
   "outputs": [
    {
     "name": "stdout",
     "output_type": "stream",
     "text": [
      "   SeriousDlqin2yrs  RevolvingUtilizationOfUnsecuredLines  age  \\\n",
      "1                 1                              0.766127   45   \n",
      "2                 0                              0.957151   40   \n",
      "3                 0                              0.658180   38   \n",
      "4                 0                              0.233810   30   \n",
      "5                 0                              0.907239   49   \n",
      "\n",
      "   NumberOfTime30-59DaysPastDueNotWorse  DebtRatio  MonthlyIncome  \\\n",
      "1                                     2   0.802982         9120.0   \n",
      "2                                     0   0.121876         2600.0   \n",
      "3                                     1   0.085113         3042.0   \n",
      "4                                     0   0.036050         3300.0   \n",
      "5                                     1   0.024926        63588.0   \n",
      "\n",
      "   NumberOfOpenCreditLinesAndLoans  NumberOfTimes90DaysLate  \\\n",
      "1                               13                        0   \n",
      "2                                4                        0   \n",
      "3                                2                        1   \n",
      "4                                5                        0   \n",
      "5                                7                        0   \n",
      "\n",
      "   NumberRealEstateLoansOrLines  NumberOfTime60-89DaysPastDueNotWorse  \\\n",
      "1                             6                                     0   \n",
      "2                             0                                     0   \n",
      "3                             0                                     0   \n",
      "4                             0                                     0   \n",
      "5                             1                                     0   \n",
      "\n",
      "   NumberOfDependents  \n",
      "1                 2.0  \n",
      "2                 1.0  \n",
      "3                 0.0  \n",
      "4                 0.0  \n",
      "5                 0.0  \n"
     ]
    }
   ],
   "source": [
    "print(train.head())"
   ]
  },
  {
   "cell_type": "code",
   "execution_count": 170,
   "metadata": {
    "collapsed": true
   },
   "outputs": [
    {
     "name": "stdout",
     "output_type": "stream",
     "text": [
      "   SeriousDlqin2yrs  RevolvingUtilizationOfUnsecuredLines  age  \\\n",
      "1               NaN                              0.885519   43   \n",
      "2               NaN                              0.463295   57   \n",
      "3               NaN                              0.043275   59   \n",
      "4               NaN                              0.280308   38   \n",
      "5               NaN                              1.000000   27   \n",
      "\n",
      "   NumberOfTime30-59DaysPastDueNotWorse  DebtRatio  MonthlyIncome  \\\n",
      "1                                     0   0.177513         5700.0   \n",
      "2                                     0   0.527237         9141.0   \n",
      "3                                     0   0.687648         5083.0   \n",
      "4                                     1   0.925961         3200.0   \n",
      "5                                     0   0.019917         3865.0   \n",
      "\n",
      "   NumberOfOpenCreditLinesAndLoans  NumberOfTimes90DaysLate  \\\n",
      "1                                4                        0   \n",
      "2                               15                        0   \n",
      "3                               12                        0   \n",
      "4                                7                        0   \n",
      "5                                4                        0   \n",
      "\n",
      "   NumberRealEstateLoansOrLines  NumberOfTime60-89DaysPastDueNotWorse  \\\n",
      "1                             0                                     0   \n",
      "2                             4                                     0   \n",
      "3                             1                                     0   \n",
      "4                             2                                     0   \n",
      "5                             0                                     0   \n",
      "\n",
      "   NumberOfDependents  \n",
      "1                 0.0  \n",
      "2                 2.0  \n",
      "3                 2.0  \n",
      "4                 0.0  \n",
      "5                 1.0  \n"
     ]
    }
   ],
   "source": [
    "print(test.head())"
   ]
  },
  {
   "cell_type": "code",
   "execution_count": 171,
   "metadata": {
    "collapsed": true
   },
   "outputs": [
    {
     "name": "stdout",
     "output_type": "stream",
     "text": [
      "       SeriousDlqin2yrs  RevolvingUtilizationOfUnsecuredLines            age  \\\n",
      "count     150000.000000                         150000.000000  150000.000000   \n",
      "mean           0.066840                              6.048438      52.295207   \n",
      "std            0.249746                            249.755371      14.771866   \n",
      "min            0.000000                              0.000000       0.000000   \n",
      "25%            0.000000                              0.029867      41.000000   \n",
      "50%            0.000000                              0.154181      52.000000   \n",
      "75%            0.000000                              0.559046      63.000000   \n",
      "max            1.000000                          50708.000000     109.000000   \n",
      "\n",
      "       NumberOfTime30-59DaysPastDueNotWorse      DebtRatio  MonthlyIncome  \\\n",
      "count                         150000.000000  150000.000000   1.202690e+05   \n",
      "mean                               0.421033     353.005076   6.670221e+03   \n",
      "std                                4.192781    2037.818523   1.438467e+04   \n",
      "min                                0.000000       0.000000   0.000000e+00   \n",
      "25%                                0.000000       0.175074   3.400000e+03   \n",
      "50%                                0.000000       0.366508   5.400000e+03   \n",
      "75%                                0.000000       0.868254   8.249000e+03   \n",
      "max                               98.000000  329664.000000   3.008750e+06   \n",
      "\n",
      "       NumberOfOpenCreditLinesAndLoans  NumberOfTimes90DaysLate  \\\n",
      "count                    150000.000000            150000.000000   \n",
      "mean                          8.452760                 0.265973   \n",
      "std                           5.145951                 4.169304   \n",
      "min                           0.000000                 0.000000   \n",
      "25%                           5.000000                 0.000000   \n",
      "50%                           8.000000                 0.000000   \n",
      "75%                          11.000000                 0.000000   \n",
      "max                          58.000000                98.000000   \n",
      "\n",
      "       NumberRealEstateLoansOrLines  NumberOfTime60-89DaysPastDueNotWorse  \\\n",
      "count                 150000.000000                         150000.000000   \n",
      "mean                       1.018240                              0.240387   \n",
      "std                        1.129771                              4.155179   \n",
      "min                        0.000000                              0.000000   \n",
      "25%                        0.000000                              0.000000   \n",
      "50%                        1.000000                              0.000000   \n",
      "75%                        2.000000                              0.000000   \n",
      "max                       54.000000                             98.000000   \n",
      "\n",
      "       NumberOfDependents  \n",
      "count       146076.000000  \n",
      "mean             0.757222  \n",
      "std              1.115086  \n",
      "min              0.000000  \n",
      "25%              0.000000  \n",
      "50%              0.000000  \n",
      "75%              1.000000  \n",
      "max             20.000000  \n"
     ]
    }
   ],
   "source": [
    "summary_df = train.describe()\n",
    "print(summary_df)"
   ]
  },
  {
   "cell_type": "code",
   "execution_count": 172,
   "metadata": {
    "collapsed": true
   },
   "outputs": [
    {
     "name": "stdout",
     "output_type": "stream",
     "text": [
      "<class 'pandas.core.frame.DataFrame'>\n",
      "Int64Index: 150000 entries, 1 to 150000\n",
      "Data columns (total 11 columns):\n",
      "SeriousDlqin2yrs                        150000 non-null int64\n",
      "RevolvingUtilizationOfUnsecuredLines    150000 non-null float64\n",
      "age                                     150000 non-null int64\n",
      "NumberOfTime30-59DaysPastDueNotWorse    150000 non-null int64\n",
      "DebtRatio                               150000 non-null float64\n",
      "MonthlyIncome                           120269 non-null float64\n",
      "NumberOfOpenCreditLinesAndLoans         150000 non-null int64\n",
      "NumberOfTimes90DaysLate                 150000 non-null int64\n",
      "NumberRealEstateLoansOrLines            150000 non-null int64\n",
      "NumberOfTime60-89DaysPastDueNotWorse    150000 non-null int64\n",
      "NumberOfDependents                      146076 non-null float64\n",
      "dtypes: float64(4), int64(7)\n",
      "memory usage: 13.7 MB\n",
      "None\n"
     ]
    }
   ],
   "source": [
    "#print structure of data\n",
    "print(train.info())"
   ]
  },
  {
   "cell_type": "code",
   "execution_count": 174,
   "metadata": {
    "collapsed": true
   },
   "outputs": [
    {
     "name": "stdout",
     "output_type": "stream",
     "text": [
      "SeriousDlqin2yrs                          int64\n",
      "RevolvingUtilizationOfUnsecuredLines    float64\n",
      "age                                       int64\n",
      "NumberOfTime30-59DaysPastDueNotWorse      int64\n",
      "DebtRatio                               float64\n",
      "MonthlyIncome                           float64\n",
      "NumberOfOpenCreditLinesAndLoans           int64\n",
      "NumberOfTimes90DaysLate                   int64\n",
      "NumberRealEstateLoansOrLines              int64\n",
      "NumberOfTime60-89DaysPastDueNotWorse      int64\n",
      "NumberOfDependents                      float64\n",
      "dtype: object\n"
     ]
    }
   ],
   "source": [
    "print(train.dtypes)"
   ]
  },
  {
   "cell_type": "markdown",
   "metadata": {},
   "source": [
    "# Data Description"
   ]
  },
  {
   "cell_type": "markdown",
   "metadata": {},
   "source": [
    "# Data Understanding"
   ]
  },
  {
   "cell_type": "markdown",
   "metadata": {},
   "source": [
    "# Plan of Attack"
   ]
  },
  {
   "cell_type": "markdown",
   "metadata": {},
   "source": [
    "# Data Cleansing"
   ]
  },
  {
   "cell_type": "markdown",
   "metadata": {},
   "source": [
    "### Remove Whitespace"
   ]
  },
  {
   "cell_type": "code",
   "execution_count": 175,
   "metadata": {
    "collapsed": true
   },
   "outputs": [],
   "source": [
    "#strip whitespace from entire data frame\n",
    "train = train.apply(lambda x: x.str.strip() if x.dtype == \"object\" else x)"
   ]
  },
  {
   "cell_type": "code",
   "execution_count": 176,
   "metadata": {
    "collapsed": true
   },
   "outputs": [
    {
     "name": "stdout",
     "output_type": "stream",
     "text": [
      "   SeriousDlqin2yrs  RevolvingUtilizationOfUnsecuredLines  age  \\\n",
      "1                 1                              0.766127   45   \n",
      "2                 0                              0.957151   40   \n",
      "3                 0                              0.658180   38   \n",
      "4                 0                              0.233810   30   \n",
      "5                 0                              0.907239   49   \n",
      "\n",
      "   NumberOfTime30-59DaysPastDueNotWorse  DebtRatio  MonthlyIncome  \\\n",
      "1                                     2   0.802982         9120.0   \n",
      "2                                     0   0.121876         2600.0   \n",
      "3                                     1   0.085113         3042.0   \n",
      "4                                     0   0.036050         3300.0   \n",
      "5                                     1   0.024926        63588.0   \n",
      "\n",
      "   NumberOfOpenCreditLinesAndLoans  NumberOfTimes90DaysLate  \\\n",
      "1                               13                        0   \n",
      "2                                4                        0   \n",
      "3                                2                        1   \n",
      "4                                5                        0   \n",
      "5                                7                        0   \n",
      "\n",
      "   NumberRealEstateLoansOrLines  NumberOfTime60-89DaysPastDueNotWorse  \\\n",
      "1                             6                                     0   \n",
      "2                             0                                     0   \n",
      "3                             0                                     0   \n",
      "4                             0                                     0   \n",
      "5                             1                                     0   \n",
      "\n",
      "   NumberOfDependents  \n",
      "1                 2.0  \n",
      "2                 1.0  \n",
      "3                 0.0  \n",
      "4                 0.0  \n",
      "5                 0.0  \n"
     ]
    }
   ],
   "source": [
    "print(train.head())"
   ]
  },
  {
   "cell_type": "markdown",
   "metadata": {},
   "source": [
    "### NA Values"
   ]
  },
  {
   "cell_type": "markdown",
   "metadata": {},
   "source": [
    "Replace with central tendency metric"
   ]
  },
  {
   "cell_type": "code",
   "execution_count": 177,
   "metadata": {
    "collapsed": true
   },
   "outputs": [
    {
     "data": {
      "text/plain": [
       "True"
      ]
     },
     "execution_count": 177,
     "metadata": {},
     "output_type": "execute_result"
    }
   ],
   "source": [
    "#are the any NA values?\n",
    "train.isnull().values.any()"
   ]
  },
  {
   "cell_type": "code",
   "execution_count": 178,
   "metadata": {
    "collapsed": true
   },
   "outputs": [
    {
     "data": {
      "text/plain": [
       "MonthlyIncome         29731\n",
       "NumberOfDependents     3924\n",
       "dtype: int64"
      ]
     },
     "execution_count": 178,
     "metadata": {},
     "output_type": "execute_result"
    }
   ],
   "source": [
    "#which columns have missing values\n",
    "train.isnull().sum()[train.isnull().sum()>0]"
   ]
  },
  {
   "cell_type": "markdown",
   "metadata": {},
   "source": [
    "As you can see, there are missing values in only two features: MonthlyIncomeand NumberOfDependents"
   ]
  },
  {
   "cell_type": "code",
   "execution_count": 179,
   "metadata": {
    "collapsed": true
   },
   "outputs": [
    {
     "data": {
      "text/plain": [
       "MonthlyIncome         0.198207\n",
       "NumberOfDependents    0.026160\n",
       "dtype: float64"
      ]
     },
     "execution_count": 179,
     "metadata": {},
     "output_type": "execute_result"
    }
   ],
   "source": [
    "#what percentage of records are missing\n",
    "train.isnull().sum()[train.isnull().sum()>0]/len(train)"
   ]
  },
  {
   "cell_type": "markdown",
   "metadata": {},
   "source": [
    "MonthlyIncome has nearly 20% of it's data as missing. This is quote high and brings us to a decision point. We can drop this column entirely, drop the rows containing missing values, or impute the missing values. SimpleImputation may be subject to error since it would be applying a central tendency value to all 29731 of these rows; however, imputation is important since Machine Learning algorithms don't like missing values. We can also impute using a sophisticated, predictive method. \n",
    "\n",
    "From subject matter context, we know that monthly income is a feature important in our dataset and will elect to keep it. Therefore, we will be doing imputation for these missing values. "
   ]
  },
  {
   "cell_type": "code",
   "execution_count": 180,
   "metadata": {
    "collapsed": true
   },
   "outputs": [],
   "source": [
    "train_full = train.copy()"
   ]
  },
  {
   "cell_type": "code",
   "execution_count": 181,
   "metadata": {
    "collapsed": true
   },
   "outputs": [],
   "source": [
    "income_median = train_full['MonthlyIncome'].median()\n",
    "\n",
    "#REMEMBER TO TRY ITERATIVE IMPUTER"
   ]
  },
  {
   "cell_type": "markdown",
   "metadata": {},
   "source": [
    "#### DO WE NEED TO TAKE MEDIAN FROM NON NA ROWS ONLY?"
   ]
  },
  {
   "cell_type": "code",
   "execution_count": 182,
   "metadata": {
    "collapsed": true
   },
   "outputs": [
    {
     "data": {
      "text/plain": [
       "5400.0"
      ]
     },
     "execution_count": 182,
     "metadata": {},
     "output_type": "execute_result"
    }
   ],
   "source": [
    "income_median"
   ]
  },
  {
   "cell_type": "code",
   "execution_count": 183,
   "metadata": {
    "collapsed": true
   },
   "outputs": [],
   "source": [
    "train_full['MonthlyIncome'].fillna(income_median, inplace=True)"
   ]
  },
  {
   "cell_type": "code",
   "execution_count": 184,
   "metadata": {
    "collapsed": true
   },
   "outputs": [
    {
     "data": {
      "text/plain": [
       "0"
      ]
     },
     "execution_count": 184,
     "metadata": {},
     "output_type": "execute_result"
    }
   ],
   "source": [
    "train_full['MonthlyIncome'].isnull().sum()"
   ]
  },
  {
   "cell_type": "markdown",
   "metadata": {},
   "source": [
    "No more missing values in Monthly Income! Now NumberOfDependents"
   ]
  },
  {
   "cell_type": "code",
   "execution_count": 185,
   "metadata": {
    "collapsed": true
   },
   "outputs": [],
   "source": [
    "dependents_median = train_full['NumberOfDependents'].median()"
   ]
  },
  {
   "cell_type": "code",
   "execution_count": 186,
   "metadata": {
    "collapsed": true
   },
   "outputs": [],
   "source": [
    "train_full['NumberOfDependents'].fillna(dependents_median, inplace = True)"
   ]
  },
  {
   "cell_type": "code",
   "execution_count": 187,
   "metadata": {
    "collapsed": true
   },
   "outputs": [
    {
     "data": {
      "text/plain": [
       "0"
      ]
     },
     "execution_count": 187,
     "metadata": {},
     "output_type": "execute_result"
    }
   ],
   "source": [
    "train_full['NumberOfDependents'].isnull().sum()"
   ]
  },
  {
   "cell_type": "markdown",
   "metadata": {},
   "source": [
    "No more missing values in NumberOfDependents! Now onto Outliers."
   ]
  },
  {
   "cell_type": "markdown",
   "metadata": {},
   "source": [
    "### Outlier Values"
   ]
  },
  {
   "cell_type": "code",
   "execution_count": 189,
   "metadata": {
    "collapsed": true
   },
   "outputs": [
    {
     "data": {
      "text/plain": [
       "<matplotlib.axes._subplots.AxesSubplot at 0x1a2cbeec10>"
      ]
     },
     "execution_count": 189,
     "metadata": {},
     "output_type": "execute_result"
    }
   ],
   "source": [
    "#check outliers\n",
    "df = train_full\n",
    "f, axes = plt.subplots(3, 2, figsize=(10, 10), sharex=False)\n",
    "sns.distplot( df[\"NumberOfDependents\"] , color=\"olive\", ax=axes[0, 0])\n",
    "sns.distplot( df[\"NumberOfTime30-59DaysPastDueNotWorse\"] , color=\"green\", ax=axes[0, 1])\n",
    "sns.distplot( df[\"NumberOfOpenCreditLinesAndLoans\"] , color=\"red\", ax=axes[1, 0])\n",
    "sns.distplot( df[\"NumberOfTimes90DaysLate\"] , color=\"blue\", ax=axes[1, 1])\n",
    "sns.distplot( df[\"NumberRealEstateLoansOrLines\"] , color=\"teal\", ax=axes[2, 0])\n",
    "sns.distplot( df[\"NumberOfTime60-89DaysPastDueNotWorse\"] , color=\"magenta\", ax=axes[2, 1])"
   ]
  },
  {
   "cell_type": "markdown",
   "metadata": {},
   "source": [
    "As we can see by a subset of 6 variables, they are almost all largely skewed to the right, meaning that there are many outliers present in the data. We will now remove rows containing an outlier in any of the variables. "
   ]
  },
  {
   "cell_type": "code",
   "execution_count": 190,
   "metadata": {
    "collapsed": true
   },
   "outputs": [
    {
     "name": "stdout",
     "output_type": "stream",
     "text": [
      "(150000, 11)\n"
     ]
    }
   ],
   "source": [
    "#before: summarize the number of rows and columns in the dataset\n",
    "print(df.shape)"
   ]
  },
  {
   "cell_type": "code",
   "execution_count": 191,
   "metadata": {
    "collapsed": true
   },
   "outputs": [
    {
     "name": "stdout",
     "output_type": "stream",
     "text": [
      "[[0.02115001 0.49385982 0.37659296 ... 4.40954554 0.05785249 1.14052977]\n",
      " [0.02038516 0.83234222 0.10041896 ... 0.90128301 0.05785249 0.23720186]\n",
      " [0.02158222 0.96773518 0.138087   ... 0.90128301 0.05785249 0.66612604]\n",
      " ...\n",
      " [0.02323239 0.38619443 0.10041896 ... 0.01614492 0.05785249 0.66612604]\n",
      " [0.02421753 1.50930703 0.10041896 ... 0.90128301 0.05785249 0.66612604]\n",
      " [0.02081306 0.79237332 0.10041896 ... 0.86899317 0.05785249 0.66612604]]\n"
     ]
    }
   ],
   "source": [
    "zscore = np.abs(stats.zscore(df.iloc[:,1:11]))\n",
    "print(zscore)\n",
    "threshold = 3"
   ]
  },
  {
   "cell_type": "code",
   "execution_count": 192,
   "metadata": {
    "collapsed": true
   },
   "outputs": [
    {
     "name": "stdout",
     "output_type": "stream",
     "text": [
      "(array([     0,      4,     44, ..., 149899, 149916, 149968]), array([7, 4, 5, ..., 9, 5, 9]))\n"
     ]
    }
   ],
   "source": [
    "#show indexes of outliers\n",
    "print(np.where(zscore >3))"
   ]
  },
  {
   "cell_type": "code",
   "execution_count": 193,
   "metadata": {
    "collapsed": true
   },
   "outputs": [
    {
     "name": "stdout",
     "output_type": "stream",
     "text": [
      "4.409545538528969\n"
     ]
    }
   ],
   "source": [
    "print(zscore[0][7])"
   ]
  },
  {
   "cell_type": "markdown",
   "metadata": {},
   "source": [
    "Let's rcount outliers as anythign greater than 2.5 zscores from the mean, as this is a common rule of thumb."
   ]
  },
  {
   "cell_type": "code",
   "execution_count": 194,
   "metadata": {
    "collapsed": true
   },
   "outputs": [
    {
     "name": "stdout",
     "output_type": "stream",
     "text": [
      "(137774, 11)\n"
     ]
    }
   ],
   "source": [
    "df_full = df\n",
    "df_full = df_full[(zscore < 2.5).all(axis=1)]\n",
    "print(df_full.shape)"
   ]
  },
  {
   "cell_type": "code",
   "execution_count": 195,
   "metadata": {
    "collapsed": true
   },
   "outputs": [
    {
     "name": "stdout",
     "output_type": "stream",
     "text": [
      "count    137774.000000\n",
      "mean          0.064076\n",
      "std           0.244889\n",
      "min           0.000000\n",
      "25%           0.000000\n",
      "50%           0.000000\n",
      "75%           0.000000\n",
      "max           1.000000\n",
      "Name: SeriousDlqin2yrs, dtype: float64\n"
     ]
    }
   ],
   "source": [
    "print(df_full['SeriousDlqin2yrs'].describe())"
   ]
  },
  {
   "cell_type": "markdown",
   "metadata": {},
   "source": [
    "It looks like 12,226‬‬ outlier rows were removed. Let's see if this improves our histograms a bit."
   ]
  },
  {
   "cell_type": "code",
   "execution_count": 196,
   "metadata": {
    "collapsed": true
   },
   "outputs": [
    {
     "data": {
      "text/plain": [
       "<matplotlib.axes._subplots.AxesSubplot at 0x1a315b0c50>"
      ]
     },
     "execution_count": 196,
     "metadata": {},
     "output_type": "execute_result"
    }
   ],
   "source": [
    "f, axes = plt.subplots(3, 2, figsize=(10, 10), sharex=False)\n",
    "sns.distplot( df_full[\"NumberOfDependents\"] , color=\"olive\", ax=axes[0, 0])\n",
    "sns.distplot( df_full[\"NumberOfTime30-59DaysPastDueNotWorse\"] , color=\"green\", ax=axes[0, 1])\n",
    "sns.distplot( df_full[\"NumberOfOpenCreditLinesAndLoans\"] , color=\"red\", ax=axes[1, 0])\n",
    "sns.distplot( df_full[\"NumberOfTimes90DaysLate\"] , color=\"blue\", ax=axes[1, 1])\n",
    "sns.distplot( df_full[\"NumberRealEstateLoansOrLines\"] , color=\"teal\", ax=axes[2, 0])\n",
    "sns.distplot( df_full[\"NumberOfTime60-89DaysPastDueNotWorse\"] , color=\"magenta\", ax=axes[2, 1])"
   ]
  },
  {
   "cell_type": "markdown",
   "metadata": {},
   "source": [
    "There is certainly improvement! We will need to apply transforms to ensure normal distributions for regression. It is perfectly okay that the distributions are still skewed, now the outlier values have just been removed.\n",
    "\n",
    "Now we have a dataset void of outliers and missing values - let's move onto visualizations and more preprocessing. "
   ]
  },
  {
   "cell_type": "markdown",
   "metadata": {},
   "source": [
    "# Exploratory Data Visualizations"
   ]
  },
  {
   "cell_type": "markdown",
   "metadata": {},
   "source": [
    "# Data Standardization/Normalization"
   ]
  },
  {
   "cell_type": "markdown",
   "metadata": {},
   "source": [
    "Some algorithms, such as Neural Networks, require data to be consolidated into a standard range, such as 0-1. I will create a standard range dataset using min/max normalization."
   ]
  },
  {
   "cell_type": "code",
   "execution_count": null,
   "metadata": {},
   "outputs": [],
   "source": [
    "scaler = MinMaxScaler()\n",
    "\n",
    "scaled_df = scaler.fit_transform(df_full)\n",
    "scaled_df = pd.DataFrame(scaled_df, columns=['SeriousDlqin2yrs','RevolvingUtilizationOfUnsecuredLines','age','NumberOfTime30-59DaysPastDueNotWorse','DebtRatio','MonthlyIncome','NumberOfOpenCreditLinesAndLoans','NumberOfTimes90DaysLate','NumberRealEstateLoansOrLines','NumberOfTime60-89DaysPastDueNotWorse','NumberOfDependents'])"
   ]
  },
  {
   "cell_type": "code",
   "execution_count": null,
   "metadata": {
    "collapsed": true
   },
   "outputs": [],
   "source": [
    "scaled_df"
   ]
  },
  {
   "cell_type": "code",
   "execution_count": null,
   "metadata": {
    "collapsed": true
   },
   "outputs": [],
   "source": [
    "fig, (ax1, ax2) = plt.subplots(ncols=2, figsize=(6, 5))\n",
    "ax1.set_title('Before Scaling')\n",
    "sns.kdeplot(df_full['NumberOfTimes90DaysLate'], ax=ax1)\n",
    "sns.kdeplot(df_full['NumberRealEstateLoansOrLines'], ax=ax1)\n",
    "sns.kdeplot(df_full['age'], ax=ax1)\n",
    "ax2.set_title('After Min-Max Scaling')\n",
    "sns.kdeplot(scaled_df['NumberOfTimes90DaysLate'], ax=ax2)\n",
    "sns.kdeplot(scaled_df['NumberRealEstateLoansOrLines'], ax=ax2)\n",
    "sns.kdeplot(scaled_df['age'], ax=ax2)\n",
    "plt.show()"
   ]
  },
  {
   "cell_type": "markdown",
   "metadata": {},
   "source": [
    "Now all data points are scaled to the 0-1 range!"
   ]
  },
  {
   "cell_type": "markdown",
   "metadata": {},
   "source": [
    "Some algorithms, such as Regression, require data to be normally distributed. I will create this by applying various transforms to the features such as log, square root, or cube root."
   ]
  },
  {
   "cell_type": "code",
   "execution_count": null,
   "metadata": {
    "collapsed": true
   },
   "outputs": [],
   "source": [
    "df_full2 = df_full[['RevolvingUtilizationOfUnsecuredLines','age','NumberOfTime30-59DaysPastDueNotWorse','DebtRatio','MonthlyIncome','NumberOfOpenCreditLinesAndLoans','NumberOfTimes90DaysLate','NumberRealEstateLoansOrLines','NumberOfTime60-89DaysPastDueNotWorse','NumberOfDependents']]\n",
    "bc = PowerTransformer(method='box-cox', standardize=False)\n",
    "yj = PowerTransformer(method='yeo-johnson', standardize=False)"
   ]
  },
  {
   "cell_type": "code",
   "execution_count": null,
   "metadata": {
    "collapsed": true
   },
   "outputs": [],
   "source": [
    "norm_df = yj.fit_transform(df_full2)\n",
    "norm_df = pd.DataFrame(norm_df, columns=['RevolvingUtilizationOfUnsecuredLines','age','NumberOfTime30-59DaysPastDueNotWorse','DebtRatio','MonthlyIncome','NumberOfOpenCreditLinesAndLoans','NumberOfTimes90DaysLate','NumberRealEstateLoansOrLines','NumberOfTime60-89DaysPastDueNotWorse','NumberOfDependents'])"
   ]
  },
  {
   "cell_type": "code",
   "execution_count": null,
   "metadata": {
    "collapsed": true
   },
   "outputs": [],
   "source": [
    "norm_df = pd.merge(df_full[['SeriousDlqin2yrs']], norm_df, left_index=True, right_index= True)"
   ]
  },
  {
   "cell_type": "code",
   "execution_count": null,
   "metadata": {},
   "outputs": [],
   "source": [
    "norm_df.describe()"
   ]
  },
  {
   "cell_type": "code",
   "execution_count": null,
   "metadata": {},
   "outputs": [],
   "source": [
    "f, axes = plt.subplots(3, 4, figsize=(10, 10), sharex=False)\n",
    "sns.distplot( df_full2[\"NumberOfDependents\"] , color=\"olive\", ax=axes[0, 0])\n",
    "sns.distplot( df_full2[\"NumberOfTime30-59DaysPastDueNotWorse\"] , color=\"green\", ax=axes[0, 1])\n",
    "sns.distplot( df_full2[\"NumberOfOpenCreditLinesAndLoans\"] , color=\"red\", ax=axes[1, 0])\n",
    "sns.distplot( df_full2[\"NumberOfTimes90DaysLate\"] , color=\"blue\", ax=axes[1, 1])\n",
    "sns.distplot( df_full2[\"NumberRealEstateLoansOrLines\"] , color=\"teal\", ax=axes[2, 0])\n",
    "sns.distplot( df_full2[\"NumberOfTime60-89DaysPastDueNotWorse\"] , color=\"magenta\", ax=axes[2, 1])\n",
    "sns.distplot( df_full2[\"MonthlyIncome\"] , color=\"firebrick\", ax=axes[0, 2])\n",
    "sns.distplot( df_full2[\"age\"] , color=\"darkorange\", ax=axes[1, 2])\n",
    "sns.distplot( df_full2[\"RevolvingUtilizationOfUnsecuredLines\"] , color=\"darkorchid\", ax=axes[2, 2])\n",
    "sns.distplot( df_full2[\"DebtRatio\"] , color=\"goldenrod\", ax=axes[0, 3])"
   ]
  },
  {
   "cell_type": "code",
   "execution_count": null,
   "metadata": {},
   "outputs": [],
   "source": [
    "f, axes = plt.subplots(3, 4, figsize=(10, 10), sharex=False)\n",
    "sns.distplot( norm_df[\"NumberOfDependents\"] , color=\"olive\", ax=axes[0, 0])\n",
    "sns.distplot( norm_df[\"NumberOfTime30-59DaysPastDueNotWorse\"] , color=\"green\", ax=axes[0, 1])\n",
    "sns.distplot( norm_df[\"NumberOfOpenCreditLinesAndLoans\"] , color=\"red\", ax=axes[1, 0])\n",
    "sns.distplot( norm_df[\"NumberOfTimes90DaysLate\"] , color=\"blue\", ax=axes[1, 1])\n",
    "sns.distplot( norm_df[\"NumberRealEstateLoansOrLines\"] , color=\"teal\", ax=axes[2, 0])\n",
    "sns.distplot( norm_df[\"NumberOfTime60-89DaysPastDueNotWorse\"] , color=\"magenta\", ax=axes[2, 1])\n",
    "sns.distplot( norm_df[\"MonthlyIncome\"] , color=\"firebrick\", ax=axes[0, 2])\n",
    "sns.distplot( norm_df[\"age\"] , color=\"darkorange\", ax=axes[1, 2])\n",
    "sns.distplot( norm_df[\"RevolvingUtilizationOfUnsecuredLines\"] , color=\"darkorchid\", ax=axes[2, 2])\n",
    "sns.distplot( norm_df[\"DebtRatio\"] , color=\"goldenrod\", ax=axes[0, 3])"
   ]
  },
  {
   "cell_type": "markdown",
   "metadata": {},
   "source": [
    "As you can see, the yeo-johnson transform did imporve the data's normal distribution."
   ]
  },
  {
   "cell_type": "markdown",
   "metadata": {},
   "source": [
    "# Train/Validate Split"
   ]
  },
  {
   "cell_type": "code",
   "execution_count": null,
   "metadata": {
    "collapsed": true
   },
   "outputs": [],
   "source": [
    "columns=(['RevolvingUtilizationOfUnsecuredLines','age','NumberOfTime30-59DaysPastDueNotWorse','DebtRatio','MonthlyIncome','NumberOfOpenCreditLinesAndLoans','NumberOfTimes90DaysLate','NumberRealEstateLoansOrLines','NumberOfTime60-89DaysPastDueNotWorse','NumberOfDependents'])\n",
    "full_train_cols = pd.DataFrame(df_full, columns = columns)\n",
    "full_train_target = pd.DataFrame(df_full['SeriousDlqin2yrs'])\n",
    "#full, unscaled dataset split\n",
    "fullxTrain, fullxTest, fullyTrain, fullyTest = train_test_split(full_train_cols, full_train_target, test_size = 0.2)"
   ]
  },
  {
   "cell_type": "code",
   "execution_count": 203,
   "metadata": {
    "collapsed": true
   },
   "outputs": [],
   "source": [
    "columns=(['RevolvingUtilizationOfUnsecuredLines','age','NumberOfTime30-59DaysPastDueNotWorse','DebtRatio','MonthlyIncome','NumberOfOpenCreditLinesAndLoans','NumberOfTimes90DaysLate','NumberRealEstateLoansOrLines','NumberOfTime60-89DaysPastDueNotWorse','NumberOfDependents'])\n",
    "scaled_train_cols = pd.DataFrame(scaled_df, columns = columns)\n",
    "scaled_train_target = pd.DataFrame(scaled_df['SeriousDlqin2yrs'])\n",
    "#scaled dataset split\n",
    "scaledxTrain, scaledxTest, scaledyTrain, scaledyTest = train_test_split(scaled_train_cols, scaled_train_target, test_size = 0.2)"
   ]
  },
  {
   "cell_type": "code",
   "execution_count": null,
   "metadata": {
    "collapsed": true
   },
   "outputs": [],
   "source": [
    "norm_train_cols = pd.DataFrame(norm_df, columns = columns)\n",
    "norm_train_target = pd.DataFrame(norm_df['SeriousDlqin2yrs'])\n",
    "#normal distributed dataset split\n",
    "normxTrain, normxTest, normyTrain, normyTest = train_test_split(norm_train_cols, norm_train_target, test_size = 0.2)"
   ]
  },
  {
   "cell_type": "code",
   "execution_count": null,
   "metadata": {
    "collapsed": true
   },
   "outputs": [],
   "source": [
    "print(fullxTrain.shape, fullyTrain.shape)\n",
    "print(fullxTest.shape, fullyTest.shape)"
   ]
  },
  {
   "cell_type": "code",
   "execution_count": 205,
   "metadata": {
    "collapsed": true
   },
   "outputs": [
    {
     "name": "stdout",
     "output_type": "stream",
     "text": [
      "((110219, 10), (110219, 1))\n",
      "((27555, 10), (27555, 1))\n"
     ]
    }
   ],
   "source": [
    "print(scaledxTrain.shape, scaledyTrain.shape)\n",
    "print(scaledxTest.shape, scaledyTest.shape)"
   ]
  },
  {
   "cell_type": "code",
   "execution_count": null,
   "metadata": {},
   "outputs": [],
   "source": [
    "print(normxTrain.shape, normyTrain.shape)\n",
    "print(normxTest.shape, normyTest.shape)"
   ]
  },
  {
   "cell_type": "code",
   "execution_count": null,
   "metadata": {
    "collapsed": true
   },
   "outputs": [],
   "source": [
    "print(fullxTrain.describe(), fullyTrain.describe())"
   ]
  },
  {
   "cell_type": "code",
   "execution_count": null,
   "metadata": {
    "collapsed": true
   },
   "outputs": [],
   "source": [
    "#print results\n",
    "print(fullxTest.describe(), fullyTest.describe())"
   ]
  },
  {
   "cell_type": "code",
   "execution_count": 206,
   "metadata": {
    "collapsed": true
   },
   "outputs": [
    {
     "name": "stdout",
     "output_type": "stream",
     "text": [
      "(       RevolvingUtilizationOfUnsecuredLines            age  \\\n",
      "count                         110219.000000  110219.000000   \n",
      "mean                               0.000601       0.458719   \n",
      "std                                0.006544       0.217351   \n",
      "min                                0.000000       0.000000   \n",
      "25%                                0.000047       0.294118   \n",
      "50%                                0.000243       0.455882   \n",
      "75%                                0.000907       0.617647   \n",
      "max                                0.964286       1.000000   \n",
      "\n",
      "       NumberOfTime30-59DaysPastDueNotWorse      DebtRatio  MonthlyIncome  \\\n",
      "count                         110219.000000  110219.000000  110219.000000   \n",
      "mean                               0.023843       0.052768       0.154329   \n",
      "std                                0.068156       0.149598       0.096454   \n",
      "min                                0.000000       0.000000       0.000000   \n",
      "25%                                0.000000       0.000031       0.098489   \n",
      "50%                                0.000000       0.000066       0.139958   \n",
      "75%                                0.000000       0.000157       0.183293   \n",
      "max                                1.000000       1.000000       0.997823   \n",
      "\n",
      "       NumberOfOpenCreditLinesAndLoans  NumberOfTimes90DaysLate  \\\n",
      "count                    110219.000000            110219.000000   \n",
      "mean                          0.379509                 0.009122   \n",
      "std                           0.210491                 0.047311   \n",
      "min                           0.000000                 0.000000   \n",
      "25%                           0.238095                 0.000000   \n",
      "50%                           0.333333                 0.000000   \n",
      "75%                           0.523810                 0.000000   \n",
      "max                           1.000000                 1.000000   \n",
      "\n",
      "       NumberRealEstateLoansOrLines  NumberOfTime60-89DaysPastDueNotWorse  \\\n",
      "count                 110219.000000                         110219.000000   \n",
      "mean                       0.299982                              0.007084   \n",
      "std                        0.288415                              0.035729   \n",
      "min                        0.000000                              0.000000   \n",
      "25%                        0.000000                              0.000000   \n",
      "50%                        0.333333                              0.000000   \n",
      "75%                        0.333333                              0.000000   \n",
      "max                        1.000000                              1.000000   \n",
      "\n",
      "       NumberOfDependents  \n",
      "count       110219.000000  \n",
      "mean             0.213723  \n",
      "std              0.313754  \n",
      "min              0.000000  \n",
      "25%              0.000000  \n",
      "50%              0.000000  \n",
      "75%              0.333333  \n",
      "max              1.000000  ,        SeriousDlqin2yrs\n",
      "count     110219.000000\n",
      "mean           0.064481\n",
      "std            0.245608\n",
      "min            0.000000\n",
      "25%            0.000000\n",
      "50%            0.000000\n",
      "75%            0.000000\n",
      "max            1.000000)\n",
      "(       RevolvingUtilizationOfUnsecuredLines           age  \\\n",
      "count                          27555.000000  27555.000000   \n",
      "mean                               0.000740      0.457946   \n",
      "std                                0.012909      0.217865   \n",
      "min                                0.000000      0.000000   \n",
      "25%                                0.000047      0.294118   \n",
      "50%                                0.000241      0.455882   \n",
      "75%                                0.000893      0.617647   \n",
      "max                                1.000000      1.000000   \n",
      "\n",
      "       NumberOfTime30-59DaysPastDueNotWorse     DebtRatio  MonthlyIncome  \\\n",
      "count                          27555.000000  27555.000000   27555.000000   \n",
      "mean                               0.023404      0.051634       0.153764   \n",
      "std                                0.067002      0.148487       0.097209   \n",
      "min                                0.000000      0.000000       0.000000   \n",
      "25%                                0.000000      0.000030       0.097038   \n",
      "50%                                0.000000      0.000066       0.139958   \n",
      "75%                                0.000000      0.000151       0.181829   \n",
      "max                                0.900000      0.997980       1.000000   \n",
      "\n",
      "       NumberOfOpenCreditLinesAndLoans  NumberOfTimes90DaysLate  \\\n",
      "count                     27555.000000             27555.000000   \n",
      "mean                          0.379757                 0.008750   \n",
      "std                           0.209820                 0.045251   \n",
      "min                           0.000000                 0.000000   \n",
      "25%                           0.238095                 0.000000   \n",
      "50%                           0.333333                 0.000000   \n",
      "75%                           0.523810                 0.000000   \n",
      "max                           1.000000                 0.900000   \n",
      "\n",
      "       NumberRealEstateLoansOrLines  NumberOfTime60-89DaysPastDueNotWorse  \\\n",
      "count                  27555.000000                          27555.000000   \n",
      "mean                       0.297357                              0.007391   \n",
      "std                        0.286723                              0.038178   \n",
      "min                        0.000000                              0.000000   \n",
      "25%                        0.000000                              0.000000   \n",
      "50%                        0.333333                              0.000000   \n",
      "75%                        0.333333                              0.000000   \n",
      "max                        1.000000                              0.777778   \n",
      "\n",
      "       NumberOfDependents  \n",
      "count        27555.000000  \n",
      "mean             0.213428  \n",
      "std              0.313049  \n",
      "min              0.000000  \n",
      "25%              0.000000  \n",
      "50%              0.000000  \n",
      "75%              0.333333  \n",
      "max              1.000000  ,        SeriousDlqin2yrs\n",
      "count      27555.000000\n",
      "mean           0.062457\n",
      "std            0.241988\n",
      "min            0.000000\n",
      "25%            0.000000\n",
      "50%            0.000000\n",
      "75%            0.000000\n",
      "max            1.000000)\n"
     ]
    }
   ],
   "source": [
    "print(scaledxTrain.describe(), scaledyTrain.describe())\n",
    "#print results\n",
    "print(scaledxTest.describe(), scaledyTest.describe())"
   ]
  },
  {
   "cell_type": "code",
   "execution_count": null,
   "metadata": {
    "collapsed": true
   },
   "outputs": [],
   "source": [
    "print(normxTrain.describe(), normyTrain.describe())\n",
    "#print results\n",
    "print(normxTest.describe(), normyTest.describe())"
   ]
  },
  {
   "cell_type": "markdown",
   "metadata": {},
   "source": [
    "# Logistic Regression"
   ]
  },
  {
   "cell_type": "code",
   "execution_count": null,
   "metadata": {
    "collapsed": true
   },
   "outputs": [],
   "source": []
  },
  {
   "cell_type": "markdown",
   "metadata": {},
   "source": [
    "### Multi-collinearity analysis"
   ]
  },
  {
   "cell_type": "markdown",
   "metadata": {},
   "source": [
    "# Decision Tree"
   ]
  },
  {
   "cell_type": "markdown",
   "metadata": {},
   "source": [
    "# Random Forest"
   ]
  },
  {
   "cell_type": "markdown",
   "metadata": {},
   "source": [
    "# Support Vector Machines (SVM)"
   ]
  },
  {
   "cell_type": "markdown",
   "metadata": {},
   "source": [
    "# Artificial Neural Networks (ANN)"
   ]
  },
  {
   "cell_type": "markdown",
   "metadata": {},
   "source": [
    "# k-Nearest Neighbors (k-NN)"
   ]
  },
  {
   "cell_type": "markdown",
   "metadata": {},
   "source": [
    "### Call KNN"
   ]
  },
  {
   "cell_type": "code",
   "execution_count": 217,
   "metadata": {},
   "outputs": [
    {
     "name": "stderr",
     "output_type": "stream",
     "text": [
      "/Users/bean/anaconda/lib/python2.7/site-packages/ipykernel_launcher.py:2: DataConversionWarning: A column-vector y was passed when a 1d array was expected. Please change the shape of y to (n_samples, ), for example using ravel().\n",
      "  \n"
     ]
    },
    {
     "name": "stdout",
     "output_type": "stream",
     "text": [
      "Predictions form the classifier:\n",
      "[0. 0. 0. ... 0. 0. 0.]\n",
      "Target values:\n",
      "        SeriousDlqin2yrs\n",
      "57005                0.0\n",
      "30684                0.0\n",
      "70560                0.0\n",
      "128265               0.0\n",
      "95140                0.0\n",
      "90666                0.0\n",
      "77632                1.0\n",
      "131858               0.0\n",
      "128862               0.0\n",
      "51077                0.0\n",
      "114021               0.0\n",
      "33668                0.0\n",
      "110323               0.0\n",
      "58478                0.0\n",
      "120093               1.0\n",
      "51288                0.0\n",
      "17064                0.0\n",
      "62202                0.0\n",
      "43161                0.0\n",
      "126877               0.0\n",
      "37955                0.0\n",
      "113912               0.0\n",
      "91364                0.0\n",
      "92780                0.0\n",
      "2952                 0.0\n",
      "30267                0.0\n",
      "17735                0.0\n",
      "120508               1.0\n",
      "3680                 0.0\n",
      "70750                0.0\n",
      "...                  ...\n",
      "94935                0.0\n",
      "103164               0.0\n",
      "27453                0.0\n",
      "24513                0.0\n",
      "130411               0.0\n",
      "56432                0.0\n",
      "98725                0.0\n",
      "100848               0.0\n",
      "57632                0.0\n",
      "18016                0.0\n",
      "109603               0.0\n",
      "31182                0.0\n",
      "55378                0.0\n",
      "76439                0.0\n",
      "67640                0.0\n",
      "32728                0.0\n",
      "70946                0.0\n",
      "115254               0.0\n",
      "117475               0.0\n",
      "79975                0.0\n",
      "42019                0.0\n",
      "98332                1.0\n",
      "123403               0.0\n",
      "88294                0.0\n",
      "18408                0.0\n",
      "103793               1.0\n",
      "79234                0.0\n",
      "59335                0.0\n",
      "84289                0.0\n",
      "12739                0.0\n",
      "\n",
      "[110219 rows x 1 columns]\n"
     ]
    }
   ],
   "source": [
    "knn = KNeighborsClassifier()\n",
    "knn.fit(scaledxTrain, scaledyTrain) \n",
    "KNeighborsClassifier(algorithm='auto', \n",
    "                     leaf_size=30, \n",
    "                     metric='minkowski',\n",
    "                     metric_params=None, \n",
    "                     n_jobs=1, \n",
    "                     n_neighbors=5, \n",
    "                     p=2,\n",
    "                     weights='uniform')\n",
    "print(\"Predictions form the classifier:\")\n",
    "print(knn.predict(scaledxTest))\n",
    "print(\"Target values:\")\n",
    "print(scaledyTrain)\n"
   ]
  },
  {
   "cell_type": "markdown",
   "metadata": {},
   "source": [
    "### Accuracy"
   ]
  },
  {
   "cell_type": "code",
   "execution_count": 218,
   "metadata": {},
   "outputs": [
    {
     "name": "stdout",
     "output_type": "stream",
     "text": [
      "0.9453361035756086\n"
     ]
    }
   ],
   "source": [
    "from sklearn import metrics\n",
    "\n",
    "y_pred = knn.predict(scaledxTrain)\n",
    "\n",
    "print(metrics.accuracy_score(scaledyTrain, y_pred))"
   ]
  },
  {
   "cell_type": "markdown",
   "metadata": {},
   "source": [
    "# Stacked Ensemble Model"
   ]
  },
  {
   "cell_type": "markdown",
   "metadata": {},
   "source": [
    "# Comparison of All Models"
   ]
  },
  {
   "cell_type": "markdown",
   "metadata": {},
   "source": [
    "# References"
   ]
  }
 ],
 "metadata": {
  "kernelspec": {
   "display_name": "Python 2",
   "language": "python",
   "name": "python2"
  },
  "language_info": {
   "codemirror_mode": {
    "name": "ipython",
    "version": 2
   },
   "file_extension": ".py",
   "mimetype": "text/x-python",
   "name": "python",
   "nbconvert_exporter": "python",
   "pygments_lexer": "ipython2",
   "version": "2.7.13"
  }
 },
 "nbformat": 4,
 "nbformat_minor": 2
}
